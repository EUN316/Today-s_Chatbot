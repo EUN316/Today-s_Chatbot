{
 "cells": [
  {
   "cell_type": "markdown",
   "metadata": {},
   "source": [
    "# Mecab QnA"
   ]
  },
  {
   "cell_type": "markdown",
   "metadata": {
    "id": "hWFy9uwnoUo8"
   },
   "source": [
    "## 라이브러리"
   ]
  },
  {
   "cell_type": "code",
   "execution_count": 1,
   "metadata": {},
   "outputs": [],
   "source": [
    "#pip freeze"
   ]
  },
  {
   "cell_type": "code",
   "execution_count": 2,
   "metadata": {
    "executionInfo": {
     "elapsed": 11855,
     "status": "ok",
     "timestamp": 1620829607625,
     "user": {
      "displayName": "이정은",
      "photoUrl": "",
      "userId": "04796680705640849664"
     },
     "user_tz": -540
    },
    "id": "jMpwHfr_A0HV",
    "scrolled": true
   },
   "outputs": [],
   "source": [
    "import os\n",
    "\n",
    "import numpy as np\n",
    "import pandas as pd\n",
    "from sklearn.model_selection import train_test_split\n",
    "\n",
    "from tqdm.notebook import tqdm\n",
    "\n",
    "import re\n",
    "import pickle\n",
    "\n",
    "from konlpy.tag import Mecab"
   ]
  },
  {
   "cell_type": "markdown",
   "metadata": {},
   "source": [
    "## Path"
   ]
  },
  {
   "cell_type": "code",
   "execution_count": 3,
   "metadata": {},
   "outputs": [],
   "source": [
    "base_path = '../Data/QnA/'\n",
    "save_path = '../Data/QnA/'"
   ]
  },
  {
   "cell_type": "markdown",
   "metadata": {
    "id": "-opdOzHm_78_"
   },
   "source": [
    "## Load Data"
   ]
  },
  {
   "cell_type": "code",
   "execution_count": 4,
   "metadata": {
    "executionInfo": {
     "elapsed": 13297,
     "status": "ok",
     "timestamp": 1620829612945,
     "user": {
      "displayName": "이정은",
      "photoUrl": "",
      "userId": "04796680705640849664"
     },
     "user_tz": -540
    },
    "id": "1fww3-oR_6hW",
    "scrolled": true
   },
   "outputs": [],
   "source": [
    "df = pd.read_csv(base_path+'qna_table_hanspell.csv')"
   ]
  },
  {
   "cell_type": "code",
   "execution_count": 5,
   "metadata": {},
   "outputs": [
    {
     "data": {
      "text/plain": [
       "(95190, 15)"
      ]
     },
     "execution_count": 5,
     "metadata": {},
     "output_type": "execute_result"
    }
   ],
   "source": [
    "df.shape"
   ]
  },
  {
   "cell_type": "code",
   "execution_count": 6,
   "metadata": {},
   "outputs": [],
   "source": [
    "# hanspell 이후 <None> 제거\n",
    "df = df[(df['question_spellcheck']!='<None>')&(df['answer_spellcheck']!='<None>')]\n",
    "df.reset_index(drop=True, inplace=True)"
   ]
  },
  {
   "cell_type": "code",
   "execution_count": 7,
   "metadata": {},
   "outputs": [
    {
     "name": "stdout",
     "output_type": "stream",
     "text": [
      "<None> 제거 후 QnA 갯수: (95189, 15)\n"
     ]
    }
   ],
   "source": [
    "print(\"<None> 제거 후 QnA 갯수: \" + str(df.shape))"
   ]
  },
  {
   "cell_type": "code",
   "execution_count": 8,
   "metadata": {},
   "outputs": [
    {
     "name": "stdout",
     "output_type": "stream",
     "text": [
      "label별 QnA 갯수 확인\n"
     ]
    },
    {
     "data": {
      "text/plain": [
       "상품    45136\n",
       "배송    30239\n",
       "교환     8423\n",
       "환불     5801\n",
       "기타     3072\n",
       "반품     2497\n",
       "Name: label, dtype: int64"
      ]
     },
     "execution_count": 8,
     "metadata": {},
     "output_type": "execute_result"
    }
   ],
   "source": [
    "print(\"label별 QnA 갯수 확인\")\n",
    "df['label'].value_counts()"
   ]
  },
  {
   "cell_type": "markdown",
   "metadata": {
    "id": "qhnMbTidqTOP"
   },
   "source": [
    "## Mecab"
   ]
  },
  {
   "cell_type": "code",
   "execution_count": 9,
   "metadata": {
    "executionInfo": {
     "elapsed": 388416,
     "status": "ok",
     "timestamp": 1620830017122,
     "user": {
      "displayName": "이정은",
      "photoUrl": "",
      "userId": "04796680705640849664"
     },
     "user_tz": -540
    },
    "id": "f5jllpeE_4J3"
   },
   "outputs": [],
   "source": [
    "mecab = Mecab()"
   ]
  },
  {
   "cell_type": "code",
   "execution_count": 10,
   "metadata": {},
   "outputs": [],
   "source": [
    "def make_mecab_tokens(comment):\n",
    "\n",
    "    # mecab 돌리기\n",
    "    comment_mecab = []\n",
    "    for i in range(len(comment)):\n",
    "        if comment[i] == 'NaN': #NaN값 처리ㅣ\n",
    "            comment_mecab.append('nan')\n",
    "        else:\n",
    "            comment_mecab.append(mecab.pos(comment[i]))\n",
    "\n",
    "    # 조사 제거\n",
    "    morpheme = ['NNG','NNP','NNB','NNBC','NR','NP','VV','VA','VX','VCP','VCN','MM','MAG','MAJ','IC','SN']    \n",
    "    tmp = []\n",
    "    comment_tokens = []\n",
    "    \n",
    "    for tok in comment_mecab:\n",
    "        for t in tok:\n",
    "            if t[1] in morpheme:\n",
    "                tmp.append(t[0])\n",
    "        if len(tmp)==0:\n",
    "            comment_tokens.append('')\n",
    "        else:\n",
    "            comment_tokens.append(tmp)\n",
    "        tmp = []\n",
    "\n",
    "    # 한 문장으로 결합\n",
    "    comment_tokens_str = [' '.join(re) for re in comment_tokens]\n",
    "\n",
    "    return comment_tokens_str"
   ]
  },
  {
   "cell_type": "code",
   "execution_count": 11,
   "metadata": {
    "scrolled": true
   },
   "outputs": [],
   "source": [
    "# question\n",
    "question = df['question_spellcheck'].astype(str)\n",
    "\n",
    "df['question_mecab_SN'] = make_mecab_tokens(question)"
   ]
  },
  {
   "cell_type": "code",
   "execution_count": 12,
   "metadata": {},
   "outputs": [],
   "source": [
    "# answer\n",
    "answer = df['answer_spellcheck'].astype(str)\n",
    "\n",
    "df['answer_mecab_SN'] = make_mecab_tokens(answer)"
   ]
  },
  {
   "cell_type": "code",
   "execution_count": 13,
   "metadata": {},
   "outputs": [],
   "source": [
    "df = df[(df['question_mecab_SN']!='')&(df['answer_mecab_SN']!='')] # NaN 제거\n",
    "df.reset_index(drop=True, inplace=True)"
   ]
  },
  {
   "cell_type": "code",
   "execution_count": 14,
   "metadata": {},
   "outputs": [
    {
     "data": {
      "text/plain": [
       "(94955, 17)"
      ]
     },
     "execution_count": 14,
     "metadata": {},
     "output_type": "execute_result"
    }
   ],
   "source": [
    "df.shape"
   ]
  },
  {
   "cell_type": "code",
   "execution_count": 15,
   "metadata": {},
   "outputs": [
    {
     "data": {
      "text/html": [
       "<div>\n",
       "<style scoped>\n",
       "    .dataframe tbody tr th:only-of-type {\n",
       "        vertical-align: middle;\n",
       "    }\n",
       "\n",
       "    .dataframe tbody tr th {\n",
       "        vertical-align: top;\n",
       "    }\n",
       "\n",
       "    .dataframe thead th {\n",
       "        text-align: right;\n",
       "    }\n",
       "</style>\n",
       "<table border=\"1\" class=\"dataframe\">\n",
       "  <thead>\n",
       "    <tr style=\"text-align: right;\">\n",
       "      <th></th>\n",
       "      <th>product_id</th>\n",
       "      <th>product_name</th>\n",
       "      <th>product_option</th>\n",
       "      <th>user_id</th>\n",
       "      <th>user_buyer</th>\n",
       "      <th>is_secret</th>\n",
       "      <th>label</th>\n",
       "      <th>question</th>\n",
       "      <th>question_time</th>\n",
       "      <th>answer</th>\n",
       "      <th>answer_time</th>\n",
       "      <th>question_clean</th>\n",
       "      <th>answer_clean</th>\n",
       "      <th>question_spellcheck</th>\n",
       "      <th>answer_spellcheck</th>\n",
       "      <th>question_mecab_SN</th>\n",
       "      <th>answer_mecab_SN</th>\n",
       "    </tr>\n",
       "  </thead>\n",
       "  <tbody>\n",
       "    <tr>\n",
       "      <th>0</th>\n",
       "      <td>388715</td>\n",
       "      <td>순수원목 A사이드테이블 3colors</td>\n",
       "      <td>A사이드테이블 / 우드</td>\n",
       "      <td>3077236</td>\n",
       "      <td>True</td>\n",
       "      <td>False</td>\n",
       "      <td>환불</td>\n",
       "      <td>상부 연결 목재 중 하나가 나사산이 덜 파져 있네요;; 조립하다 목재가 갈라져버립니...</td>\n",
       "      <td>2021-03-18T16:52:34.000+09:00</td>\n",
       "      <td>안녕하세요 고객님 먼데이하우스입니다.\\r\\n불편을 드려 죄송합니다.\\r\\n유선상 연...</td>\n",
       "      <td>2021-03-18T18:19:46.000+09:00</td>\n",
       "      <td>상부 연결 목재 중 하나가 나사산이 덜 파져 있네요 조립하다 목재가 갈라져버립니다 ...</td>\n",
       "      <td>안녕하세요 고객님 먼데이하우스입니다 불편을 드려 죄송합니다 유선상 연락을 드렸으나 ...</td>\n",
       "      <td>상부 연결 목재 중 하나가 나사산이 덜 파죠 있네요 조립하다 목재가 갈라져버립니다 ...</td>\n",
       "      <td>안녕하세요 고객님 먼데이 하우스입니다 불편을 드려 죄송합니다 유선상 연락을 드렸으나...</td>\n",
       "      <td>상부 연결 목재 중 하나 나사산 덜 파 있 조립 목재 나사 잘못 각도 것 아니 나사...</td>\n",
       "      <td>안녕 고객 먼데이 하우스 불편 유선 연락 부재중 이 안타깝 조립 시작 반품 어렵 사...</td>\n",
       "    </tr>\n",
       "  </tbody>\n",
       "</table>\n",
       "</div>"
      ],
      "text/plain": [
       "   product_id          product_name product_option  user_id  user_buyer  \\\n",
       "0      388715  순수원목 A사이드테이블 3colors   A사이드테이블 / 우드  3077236        True   \n",
       "\n",
       "   is_secret label                                           question  \\\n",
       "0      False    환불  상부 연결 목재 중 하나가 나사산이 덜 파져 있네요;; 조립하다 목재가 갈라져버립니...   \n",
       "\n",
       "                   question_time  \\\n",
       "0  2021-03-18T16:52:34.000+09:00   \n",
       "\n",
       "                                              answer  \\\n",
       "0  안녕하세요 고객님 먼데이하우스입니다.\\r\\n불편을 드려 죄송합니다.\\r\\n유선상 연...   \n",
       "\n",
       "                     answer_time  \\\n",
       "0  2021-03-18T18:19:46.000+09:00   \n",
       "\n",
       "                                      question_clean  \\\n",
       "0  상부 연결 목재 중 하나가 나사산이 덜 파져 있네요 조립하다 목재가 갈라져버립니다 ...   \n",
       "\n",
       "                                        answer_clean  \\\n",
       "0  안녕하세요 고객님 먼데이하우스입니다 불편을 드려 죄송합니다 유선상 연락을 드렸으나 ...   \n",
       "\n",
       "                                 question_spellcheck  \\\n",
       "0  상부 연결 목재 중 하나가 나사산이 덜 파죠 있네요 조립하다 목재가 갈라져버립니다 ...   \n",
       "\n",
       "                                   answer_spellcheck  \\\n",
       "0  안녕하세요 고객님 먼데이 하우스입니다 불편을 드려 죄송합니다 유선상 연락을 드렸으나...   \n",
       "\n",
       "                                   question_mecab_SN  \\\n",
       "0  상부 연결 목재 중 하나 나사산 덜 파 있 조립 목재 나사 잘못 각도 것 아니 나사...   \n",
       "\n",
       "                                     answer_mecab_SN  \n",
       "0  안녕 고객 먼데이 하우스 불편 유선 연락 부재중 이 안타깝 조립 시작 반품 어렵 사...  "
      ]
     },
     "execution_count": 15,
     "metadata": {},
     "output_type": "execute_result"
    }
   ],
   "source": [
    "df[:1]"
   ]
  },
  {
   "cell_type": "markdown",
   "metadata": {},
   "source": [
    "## Labeling"
   ]
  },
  {
   "cell_type": "code",
   "execution_count": 16,
   "metadata": {
    "colab": {
     "base_uri": "https://localhost:8080/"
    },
    "executionInfo": {
     "elapsed": 583,
     "status": "ok",
     "timestamp": 1620831010540,
     "user": {
      "displayName": "이정은",
      "photoUrl": "",
      "userId": "04796680705640849664"
     },
     "user_tz": -540
    },
    "id": "khdb3vi-Da-l",
    "outputId": "6c53c7a7-9068-4122-acef-caccf56bd6d9",
    "scrolled": true
   },
   "outputs": [
    {
     "data": {
      "text/plain": [
       "(array([0, 1, 2, ..., 1, 1, 1]),\n",
       " Index(['환불', '상품', '배송', '교환', '기타', '반품'], dtype='object'))"
      ]
     },
     "execution_count": 16,
     "metadata": {},
     "output_type": "execute_result"
    }
   ],
   "source": [
    "# label 수치형으로 변환\n",
    "cat = pd.Series(df['label'])\n",
    "labels, uniques = pd.factorize(cat)\n",
    "labels, uniques"
   ]
  },
  {
   "cell_type": "code",
   "execution_count": 17,
   "metadata": {
    "executionInfo": {
     "elapsed": 612,
     "status": "ok",
     "timestamp": 1620831050572,
     "user": {
      "displayName": "이정은",
      "photoUrl": "",
      "userId": "04796680705640849664"
     },
     "user_tz": -540
    },
    "id": "Gz1GqvsWDqb1"
   },
   "outputs": [],
   "source": [
    "df['num_label'] = labels\n",
    "df['num_label'] = df['num_label'].astype(str) # str으로 변환"
   ]
  },
  {
   "cell_type": "code",
   "execution_count": 18,
   "metadata": {
    "scrolled": true
   },
   "outputs": [
    {
     "data": {
      "text/plain": [
       "label  num_label\n",
       "상품     1            45012\n",
       "배송     2            30203\n",
       "교환     3             8384\n",
       "환불     0             5790\n",
       "기타     4             3059\n",
       "반품     5             2486\n",
       "dtype: int64"
      ]
     },
     "execution_count": 18,
     "metadata": {},
     "output_type": "execute_result"
    }
   ],
   "source": [
    "df[['label','num_label']].value_counts()"
   ]
  },
  {
   "cell_type": "code",
   "execution_count": 19,
   "metadata": {
    "scrolled": true
   },
   "outputs": [],
   "source": [
    "#기타와 반품 label 순서 변경\n",
    "df.loc[df['num_label'] =='4', 'num_label'] = 'tmp'\n",
    "df.loc[df['num_label'] =='5', 'num_label'] = '4'\n",
    "df.loc[df['num_label'] =='tmp', 'num_label'] = '5'"
   ]
  },
  {
   "cell_type": "code",
   "execution_count": 20,
   "metadata": {
    "scrolled": true
   },
   "outputs": [
    {
     "data": {
      "text/plain": [
       "label  num_label\n",
       "상품     1            45012\n",
       "배송     2            30203\n",
       "교환     3             8384\n",
       "환불     0             5790\n",
       "기타     5             3059\n",
       "반품     4             2486\n",
       "dtype: int64"
      ]
     },
     "execution_count": 20,
     "metadata": {},
     "output_type": "execute_result"
    }
   ],
   "source": [
    "df[['label','num_label']].value_counts()"
   ]
  },
  {
   "cell_type": "code",
   "execution_count": 21,
   "metadata": {
    "scrolled": true
   },
   "outputs": [
    {
     "data": {
      "text/plain": [
       "(94955, 18)"
      ]
     },
     "execution_count": 21,
     "metadata": {},
     "output_type": "execute_result"
    }
   ],
   "source": [
    "df.shape"
   ]
  },
  {
   "cell_type": "code",
   "execution_count": 22,
   "metadata": {
    "scrolled": true
   },
   "outputs": [],
   "source": [
    "# csv 저장 후 내보내기\n",
    "df.to_csv(save_path+'qna_table_mecab_6_SN.csv', index=False)"
   ]
  },
  {
   "cell_type": "markdown",
   "metadata": {},
   "source": [
    "## KoBERT용 데이터 생성\n",
    "\n",
    "* 기타(5) label 제거\n",
    "* Que + '\\t' + Ans + '\\t' 형태\n",
    "* txt 파일로 내보내기"
   ]
  },
  {
   "cell_type": "code",
   "execution_count": 23,
   "metadata": {},
   "outputs": [],
   "source": [
    "# 기타 제거\n",
    "df_drop = df[df['label']!='기타']\n",
    "\n",
    "# Que + '\\t' + Ans + '\\t'\n",
    "data_drop = pd.DataFrame()\n",
    "data_drop['BERT_NEW'] = df_drop['question_mecab_SN'].values + '\\t' + df_drop['answer_mecab_SN'].values + '\\t' + df_drop['num_label'].astype(str).values + '\\n'\n",
    "\n",
    "data_kb = data_drop['BERT_NEW']\n",
    "data_train, data_test = train_test_split(data_kb, test_size=0.2, shuffle=True, random_state=316)\n",
    "\n",
    "# 내보내기\n",
    "with open(save_path+'type1_SN_BERT_drop_test_new.txt', 'w') as file:\n",
    "    file.writelines(data_test.values.tolist())\n",
    "    \n",
    "with open(save_path+'type1_SN_BERT_drop_train_new.txt', 'w') as file:\n",
    "    file.writelines(data_train.values.tolist())"
   ]
  }
 ],
 "metadata": {
  "colab": {
   "collapsed_sections": [
    "jhLavNcgC0Uq",
    "3Vp_QmgjNKpl",
    "-H9xbeEoJ9zk"
   ],
   "name": "Mecab_QA_all_fin.ipynb",
   "provenance": [],
   "toc_visible": true
  },
  "kernelspec": {
   "display_name": "Python 3",
   "language": "python",
   "name": "python3"
  },
  "language_info": {
   "codemirror_mode": {
    "name": "ipython",
    "version": 3
   },
   "file_extension": ".py",
   "mimetype": "text/x-python",
   "name": "python",
   "nbconvert_exporter": "python",
   "pygments_lexer": "ipython3",
   "version": "3.8.5"
  }
 },
 "nbformat": 4,
 "nbformat_minor": 1
}
