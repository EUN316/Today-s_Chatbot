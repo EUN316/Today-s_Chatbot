{
 "cells": [
  {
   "cell_type": "markdown",
   "metadata": {
    "id": "xvfHUKysKcUm"
   },
   "source": [
    "# Crawling\n"
   ]
  },
  {
   "cell_type": "markdown",
   "metadata": {
    "id": "gYBlydK0L0hD"
   },
   "source": [
    "## Import Library"
   ]
  },
  {
   "cell_type": "code",
   "execution_count": 12,
   "metadata": {
    "id": "JnsaYFxALx3E"
   },
   "outputs": [],
   "source": [
    "import numpy as np\n",
    "import pandas as pd\n",
    "\n",
    "import json\n",
    "import requests\n",
    "from bs4 import BeautifulSoup\n",
    "from datetime import datetime\n",
    "from pprint import pprint\n",
    "from tqdm import tqdm\n",
    "from tqdm import tqdm_notebook"
   ]
  },
  {
   "cell_type": "markdown",
   "metadata": {},
   "source": [
    "## Path"
   ]
  },
  {
   "cell_type": "code",
   "execution_count": 13,
   "metadata": {},
   "outputs": [],
   "source": [
    "base_path = '/home/hyejeongeun/Todays_Chatbot/Data/Base/' # save crawling informs\n",
    "qna_path = '/home/hyejeongeun/Todays_Chatbot/Data/QnA/' # save question & answer csv\n",
    "review_path = '/home/hyejeongeun/Todays_Chatbot/Data/Review/Review/' # save review npy"
   ]
  },
  {
   "cell_type": "markdown",
   "metadata": {
    "id": "ZGZtVr9RLtxp"
   },
   "source": [
    "## 1) 카테고리 정보 크롤링"
   ]
  },
  {
   "cell_type": "code",
   "execution_count": 14,
   "metadata": {
    "id": "t2Z2PLE5MYGd"
   },
   "outputs": [],
   "source": [
    "def create_category():\n",
    "    cate_link = []\n",
    "\n",
    "    url = 'https://ohou.se/store/'\n",
    "\n",
    "    # 해당 웹 페이지에서 데이터 받아오기\n",
    "    response = requests.get(url) \n",
    "    if response.status_code != requests.codes.ok:\n",
    "        print(\"접속 실패\")\n",
    "    else:\n",
    "        print(\"접속 성공\")\n",
    "\n",
    "    # 받아온 데이터를 알아볼 수 있는 형태로 파싱(해석)\n",
    "    soup = BeautifulSoup(response.text, 'html.parser') \n",
    "\n",
    "    # 카테고리 부분\n",
    "    cate = soup.select('#store-index > section.container.store-index-section.store-index-category-list > div > div.category-list.fold > div > a')\n",
    "\n",
    "    for ca in cate:\n",
    "        cate_link.append([ca.div.div.text, ca['href']])  # 카테고리명, 해당 링크\n",
    "\n",
    "    # http 부분 추가 & order=review로 바꾸고, affect_type & affect_id 없애는 작업 진행\n",
    "    for ca in cate_link:\n",
    "        ca[1] = 'https://ohou.se' + ca[1].replace('popular', 'review').split('&affect')[0]\n",
    "\n",
    "    return cate_link"
   ]
  },
  {
   "cell_type": "code",
   "execution_count": null,
   "metadata": {
    "id": "Vx3ACRxbRaoI"
   },
   "outputs": [],
   "source": [
    "cate_link = create_category()"
   ]
  },
  {
   "cell_type": "code",
   "execution_count": null,
   "metadata": {
    "id": "JEXBFxrpMYUk"
   },
   "outputs": [],
   "source": [
    "# 내보내기\n",
    "np.save(base_path+'cate_link', cate_link, allow_pickle=True)"
   ]
  },
  {
   "cell_type": "markdown",
   "metadata": {
    "id": "cANh2YwjSd0I"
   },
   "source": [
    "### 카테고리 id 추출"
   ]
  },
  {
   "cell_type": "code",
   "execution_count": null,
   "metadata": {
    "id": "uppkGxTGSibf"
   },
   "outputs": [],
   "source": [
    "c_num=[] # 카테고리 아이디\n",
    "for i in cate_link:\n",
    "    c_num.append([i[0], i[1].split('category=')[1].split('&')[0]])"
   ]
  },
  {
   "cell_type": "code",
   "execution_count": null,
   "metadata": {
    "id": "JWWOtUGMSuy_"
   },
   "outputs": [],
   "source": [
    "category_table = pd.DataFrame(c_num, columns=['category_name','category_id'])"
   ]
  },
  {
   "cell_type": "code",
   "execution_count": null,
   "metadata": {
    "id": "Ix-5mEiZS1LZ"
   },
   "outputs": [],
   "source": [
    "category_table.to_csv(base_path+'category_table.csv', encoding='cp949', index=False)"
   ]
  },
  {
   "cell_type": "markdown",
   "metadata": {
    "id": "yfVMnm8GSI3g"
   },
   "source": [
    "## 2) 상품 정보 크롤링"
   ]
  },
  {
   "cell_type": "code",
   "execution_count": null,
   "metadata": {
    "id": "1w6WuTNaMTFy"
   },
   "outputs": [],
   "source": [
    "def create_product_crawling(category_id):\n",
    "    product = []\n",
    "    for cate_id in category_id:\n",
    "        for page_num in range(1,2): \n",
    "            url='https://ohou.se/store/category.json?v=2&category={}&order=review&page={}&per=24'.format(cate_id, page_num)\n",
    "            resp=requests.get(url)\n",
    "            data = resp.json()\n",
    "            for i in range(0,10):\n",
    "                product.append([cate_id, data['productions'][i]['id'], data['productions'][i]['name']])\n",
    "    return product"
   ]
  },
  {
   "cell_type": "code",
   "execution_count": null,
   "metadata": {
    "id": "PpBng2EPS8j_"
   },
   "outputs": [],
   "source": [
    "product = create_product_crawling(category_table['category_id'])"
   ]
  },
  {
   "cell_type": "code",
   "execution_count": null,
   "metadata": {
    "id": "ei3UUPYaTHpA"
   },
   "outputs": [],
   "source": [
    "tmp_table = pd.DataFrame(product, columns=['category_id','product_id','product_name'])"
   ]
  },
  {
   "cell_type": "code",
   "execution_count": null,
   "metadata": {
    "id": "XUmHv1SM9JKh"
   },
   "outputs": [],
   "source": [
    "id_table = tmp_table[['category_id','product_id']]"
   ]
  },
  {
   "cell_type": "code",
   "execution_count": null,
   "metadata": {
    "id": "twZIGdnVTIL5"
   },
   "outputs": [],
   "source": [
    "product_table = tmp_table[['product_name','product_id']]"
   ]
  },
  {
   "cell_type": "code",
   "execution_count": null,
   "metadata": {
    "id": "2Pno2Gs29TfO"
   },
   "outputs": [],
   "source": [
    "# id 중복 제거 (한 상품이 여러 카테고리에 존재하는 경우)\n",
    "product_table = product_table.drop_duplicates().reset_index(drop=True)"
   ]
  },
  {
   "cell_type": "code",
   "execution_count": null,
   "metadata": {
    "id": "Hu_x8-VETOIN"
   },
   "outputs": [],
   "source": [
    "product_table.to_csv(base_path+'product_table.csv', encoding='cp949', index=False)\n",
    "id_table.to_csv(base_path+'id_table.csv', encoding='cp949', index=False)"
   ]
  },
  {
   "cell_type": "markdown",
   "metadata": {
    "id": "DifOnLr0TWl3"
   },
   "source": [
    "## 3) 문의글 크롤링"
   ]
  },
  {
   "cell_type": "code",
   "execution_count": null,
   "metadata": {
    "id": "Hdps3AWbXgiW"
   },
   "outputs": [],
   "source": [
    "def get_question(product_table):\n",
    "    qna = []\n",
    "    for prod_id in tqdm_notebook(product_table['product_id']):\n",
    "        page=1\n",
    "        while(1):\n",
    "            url='https://ohou.se/production_questions/get_questions.json?product_id={}&page={}&per=5&v=2'.format(prod_id, page)\n",
    "            resp=requests.get(url)\n",
    "            data=resp.json()\n",
    "            if len(data['questions'])==0: break\n",
    "            elif data['questions'] is None: break\n",
    "            else:\n",
    "                for i in range(0,len(data['questions'])):\n",
    "                    # 제품ID, 제품명, 옵션\n",
    "                    prod_id = data['questions'][i]['production']['id']\n",
    "                    prod_name = data['questions'][i]['production']['name']\n",
    "                    prod_opt = data['questions'][i]['production']['explain']\n",
    "                    # 유저ID, 구매여부\n",
    "                    user_id = data['questions'][i]['id']\n",
    "                    user_buyer = data['questions'][i]['is_buyer']\n",
    "                    # 비밀글 여부, 문의 카테고리(label)\n",
    "                    is_secret = data['questions'][i]['is_secret']\n",
    "                    label = data['questions'][i]['type']\n",
    "                    # 질문, 작성시간\n",
    "                    que = data['questions'][i]['question']\n",
    "                    que_time = data['questions'][i]['question_at']\n",
    "                    # 답변, 작성시간\n",
    "                    if data['questions'][i]['answer'] is not None:\n",
    "                        ans = data['questions'][i]['answer']['answer']\n",
    "                        ans_time = data['questions'][i]['answer']['answer_at']\n",
    "                    else:\n",
    "                        ans = 'None'\n",
    "                        ans_time = 'None'\n",
    "                    # qna list에 추가\n",
    "                    qna.append([prod_id, prod_name, prod_opt, user_id, user_buyer, is_secret, label, que, que_time, ans, ans_time])\n",
    "            page = page + 1\n",
    "    return qna"
   ]
  },
  {
   "cell_type": "code",
   "execution_count": null,
   "metadata": {
    "id": "6nMN04abPlBF"
   },
   "outputs": [],
   "source": [
    "product_table = pd.read_csv('data/product_table.csv', encoding='cp949')"
   ]
  },
  {
   "cell_type": "code",
   "execution_count": null,
   "metadata": {
    "id": "pWVW11x6htb0"
   },
   "outputs": [],
   "source": [
    "question = get_question(product_table)"
   ]
  },
  {
   "cell_type": "code",
   "execution_count": null,
   "metadata": {
    "id": "AyXfVTNO1oj0"
   },
   "outputs": [],
   "source": [
    "question_table = pd.DataFrame(question, columns=['product_id','product_name','product_option',\n",
    "                                                 'user_id','user_buyer',\n",
    "                                                 'is_secret', 'label',\n",
    "                                                 'question','question_time',\n",
    "                                                 'answer','answer_time'])"
   ]
  },
  {
   "cell_type": "code",
   "execution_count": null,
   "metadata": {
    "id": "NVDjqp9a2B_I"
   },
   "outputs": [],
   "source": [
    "question_table.to_csv(qna_path+'qna_table.csv', index=False)"
   ]
  },
  {
   "cell_type": "markdown",
   "metadata": {
    "id": "so1DIAsJTsnk"
   },
   "source": [
    "## 4) 리뷰 크롤링"
   ]
  },
  {
   "cell_type": "code",
   "execution_count": null,
   "metadata": {
    "id": "XffJtxM2nj0I"
   },
   "outputs": [],
   "source": [
    "def get_review(prod_id):\n",
    "    review = []\n",
    "    page=1\n",
    "    while(1):\n",
    "        url='https://ohou.se/production_reviews.json?production_id={}&page={}&order=best&photo_review_only='.format(prod_id,page)\n",
    "        resp=requests.get(url)\n",
    "        data=resp.json()\n",
    "        if data['reviews'] == []: #is None\n",
    "            break\n",
    "        else:\n",
    "            for i in range(0,len(data['reviews'])):\n",
    "                review.append(\n",
    "                    [data['reviews'][i]['created_at'],\n",
    "                    data['reviews'][i]['writer_id'],\n",
    "                    data['reviews'][i]['praise_count'],\n",
    "\n",
    "                    data['reviews'][i]['production_information']['id'],\n",
    "                    data['reviews'][i]['production_information']['name'],\n",
    "                    data['reviews'][i]['production_information']['explain'],\n",
    "\n",
    "                    data['reviews'][i]['review']['comment'],\n",
    "\n",
    "                    data['reviews'][i]['card']['image_url']])\n",
    "                    page=page+1\n",
    "    return review"
   ]
  },
  {
   "cell_type": "code",
   "execution_count": null,
   "metadata": {
    "id": "RLjBVdl3qPpE"
   },
   "outputs": [],
   "source": [
    "for prod_id in tqdm_notebook(product_table['product_id']):\n",
    "    rev = get_review(prod_id)\n",
    "    np.save(review_path+\"review_\"+str(prod_id)+\".npy\", rev)"
   ]
  }
 ],
 "metadata": {
  "colab": {
   "collapsed_sections": [
    "EaiXEXQ02Kfo",
    "lLICRrCgqdj6"
   ],
   "name": "Crawling_Final.ipynb",
   "private_outputs": true,
   "provenance": [],
   "toc_visible": true
  },
  "kernelspec": {
   "display_name": "Python 3",
   "language": "python",
   "name": "python3"
  },
  "language_info": {
   "codemirror_mode": {
    "name": "ipython",
    "version": 3
   },
   "file_extension": ".py",
   "mimetype": "text/x-python",
   "name": "python",
   "nbconvert_exporter": "python",
   "pygments_lexer": "ipython3",
   "version": "3.7.0"
  }
 },
 "nbformat": 4,
 "nbformat_minor": 1
}
