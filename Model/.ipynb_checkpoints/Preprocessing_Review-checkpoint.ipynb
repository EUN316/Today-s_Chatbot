{
 "cells": [
  {
   "cell_type": "markdown",
   "metadata": {},
   "source": [
    "# Preprocessing"
   ]
  },
  {
   "cell_type": "markdown",
   "metadata": {},
   "source": [
    "## Library"
   ]
  },
  {
   "cell_type": "code",
   "execution_count": 1,
   "metadata": {
    "executionInfo": {
     "elapsed": 1343,
     "status": "ok",
     "timestamp": 1620908339272,
     "user": {
      "displayName": "윤혜정",
      "photoUrl": "",
      "userId": "03713842836714125732"
     },
     "user_tz": -540
    },
    "id": "CxPAvzzy5c8I"
   },
   "outputs": [],
   "source": [
    "import numpy as np\n",
    "import pandas as pd\n",
    "import re\n",
    "from tqdm.notebook import tqdm\n",
    "import os\n",
    "\n",
    "from py_hanspell.hanspell import spell_checker\n",
    "from py_hanspell.hanspell.constants import CheckResult"
   ]
  },
  {
   "cell_type": "markdown",
   "metadata": {
    "id": "yJkwmylu2WBq"
   },
   "source": [
    "## Path"
   ]
  },
  {
   "cell_type": "code",
   "execution_count": 2,
   "metadata": {},
   "outputs": [],
   "source": [
    "base_path = '/home/hyejeongeun/chatbot/Data/Base/Review/'\n",
    "save_path = '/home/hyejeongeun/chatbot/Data/Review/Review_spellcheck/'"
   ]
  },
  {
   "cell_type": "markdown",
   "metadata": {
    "id": "hiboqfwi5nCp"
   },
   "source": [
    "## 한글&숫자만 남기고 제거 / hanspell 맞춤법"
   ]
  },
  {
   "cell_type": "code",
   "execution_count": 10,
   "metadata": {
    "executionInfo": {
     "elapsed": 845,
     "status": "ok",
     "timestamp": 1620908366348,
     "user": {
      "displayName": "윤혜정",
      "photoUrl": "",
      "userId": "03713842836714125732"
     },
     "user_tz": -540
    },
    "id": "BislLWUm5onn"
   },
   "outputs": [],
   "source": [
    "def text_cleaning(texts): # 수정완료\n",
    "# 한국어를 제외한 글자를 제거하는 패턴.\n",
    "    corpus = []\n",
    "    for i in range(0, len(texts)):\n",
    "        reviews = re.sub(\"[\\{\\}\\[\\]\\/?.,;:|\\)*~`!^\\-_+<>@\\#$%&\\\\\\=\\(\\'\\\"]\", \" \", str(texts[i])) #특수문자를 제거하는 패턴\n",
    "        reviews = re.sub(\"[^ㄱ-ㅎㅏ-ㅣ가-힣 |0-9|]\", \" \", reviews)\n",
    "        reviews = re.compile('[|ㄱ-ㅎ|ㅏ-ㅣ]+').sub(' ', reviews) # 자음, 모음만 있는 경우\n",
    "\n",
    "        reviews = re.sub(r\"^\\s+\", '', reviews) #remove space from start\n",
    "        reviews = re.sub(r'\\s+$', '', reviews) #remove space from the end\n",
    "\n",
    "        reviews = re.sub(r'\\s+', ' ', reviews) #remove extra space\n",
    "\n",
    "        corpus.append(reviews)\n",
    "    return corpus"
   ]
  },
  {
   "cell_type": "code",
   "execution_count": 11,
   "metadata": {
    "executionInfo": {
     "elapsed": 877,
     "status": "ok",
     "timestamp": 1620908368106,
     "user": {
      "displayName": "윤혜정",
      "photoUrl": "",
      "userId": "03713842836714125732"
     },
     "user_tz": -540
    },
    "id": "h2Nkk6UkJFLw"
   },
   "outputs": [],
   "source": [
    "def hanspell_(texts):\n",
    "    spell_check = []\n",
    "    for line in texts:\n",
    "        spell = spell_checker.check(line).checked\n",
    "        spell_check.append(spell)\n",
    "\n",
    "    return spell_check"
   ]
  },
  {
   "cell_type": "code",
   "execution_count": 3,
   "metadata": {
    "executionInfo": {
     "elapsed": 2084,
     "status": "ok",
     "timestamp": 1620908344426,
     "user": {
      "displayName": "윤혜정",
      "photoUrl": "",
      "userId": "03713842836714125732"
     },
     "user_tz": -540
    },
    "id": "2MMszQEtGuuv"
   },
   "outputs": [],
   "source": [
    "review_list = os.listdir(base_path)"
   ]
  },
  {
   "cell_type": "code",
   "execution_count": 12,
   "metadata": {
    "colab": {
     "base_uri": "https://localhost:8080/",
     "height": 66,
     "referenced_widgets": [
      "b1a4ddcb10014f62b2c5fc5714dfcc5c",
      "eb8e1bae58724f63a1f5e69777aae6c1",
      "ea5c9ef4859b43aca5cafb3f0958de0d",
      "306a55adbe73490ba30742611aa5ab8b",
      "c9b374c6b9e84171b3c9a3900499af0b",
      "24a3e3877d894417a0cf5a7184e5a040",
      "6441e24fa0e249e78449aebdc4b53699",
      "eb2af02d471c485dae4d7bb0efe76b1a"
     ]
    },
    "executionInfo": {
     "elapsed": 4981256,
     "status": "ok",
     "timestamp": 1620913364519,
     "user": {
      "displayName": "윤혜정",
      "photoUrl": "",
      "userId": "03713842836714125732"
     },
     "user_tz": -540
    },
    "id": "jKEooZ-FmftM",
    "outputId": "37f901d4-4c06-4165-d0c2-5ead2630a635",
    "scrolled": true
   },
   "outputs": [
    {
     "data": {
      "application/vnd.jupyter.widget-view+json": {
       "model_id": "2a1c72684e2442b9a8deb9c4b27d4152",
       "version_major": 2,
       "version_minor": 0
      },
      "text/plain": [
       "  0%|          | 0/46 [00:00<?, ?it/s]"
      ]
     },
     "metadata": {},
     "output_type": "display_data"
    }
   ],
   "source": [
    "# 실행\n",
    "for review in tqdm(review_list):\n",
    "    # 불러오기\n",
    "    rev = np.load(review_path+'/'+review, allow_pickle=True)\n",
    "    df = pd.DataFrame(rev, columns=['created_at', 'writer_id', 'praise_count',\n",
    "                               'prod_id', 'prod_name', 'prod_opt',\n",
    "                               'comment', 'image_url'])\n",
    "    \n",
    "    df.drop_duplicates(['comment'],keep = 'first',inplace=True)\n",
    "    df.reset_index(drop=True, inplace=True)\n",
    "\n",
    "    # text cleaning\n",
    "    com = df['comment'].to_numpy()\n",
    "    com_clean = text_cleaning(com)\n",
    "\n",
    "    # spell checking\n",
    "    com_spellcheck = hanspell_(com_clean)\n",
    "    com = com_spellcheck\n",
    "\n",
    "    # 내보내기\n",
    "    df['comment_spellcheck'] = com\n",
    "    df.to_csv(save_path+review.split('.')[0]+'_spellcheck.csv', index=False)"
   ]
  }
 ],
 "metadata": {
  "colab": {
   "collapsed_sections": [],
   "name": "Preprocessing_Review_Final.ipynb",
   "provenance": []
  },
  "kernelspec": {
   "display_name": "Python 3",
   "language": "python",
   "name": "python3"
  },
  "language_info": {
   "codemirror_mode": {
    "name": "ipython",
    "version": 3
   },
   "file_extension": ".py",
   "mimetype": "text/x-python",
   "name": "python",
   "nbconvert_exporter": "python",
   "pygments_lexer": "ipython3",
   "version": "3.7.0"
  },
  "widgets": {
   "application/vnd.jupyter.widget-state+json": {
    "24a3e3877d894417a0cf5a7184e5a040": {
     "model_module": "@jupyter-widgets/base",
     "model_name": "LayoutModel",
     "state": {
      "_model_module": "@jupyter-widgets/base",
      "_model_module_version": "1.2.0",
      "_model_name": "LayoutModel",
      "_view_count": null,
      "_view_module": "@jupyter-widgets/base",
      "_view_module_version": "1.2.0",
      "_view_name": "LayoutView",
      "align_content": null,
      "align_items": null,
      "align_self": null,
      "border": null,
      "bottom": null,
      "display": null,
      "flex": null,
      "flex_flow": null,
      "grid_area": null,
      "grid_auto_columns": null,
      "grid_auto_flow": null,
      "grid_auto_rows": null,
      "grid_column": null,
      "grid_gap": null,
      "grid_row": null,
      "grid_template_areas": null,
      "grid_template_columns": null,
      "grid_template_rows": null,
      "height": null,
      "justify_content": null,
      "justify_items": null,
      "left": null,
      "margin": null,
      "max_height": null,
      "max_width": null,
      "min_height": null,
      "min_width": null,
      "object_fit": null,
      "object_position": null,
      "order": null,
      "overflow": null,
      "overflow_x": null,
      "overflow_y": null,
      "padding": null,
      "right": null,
      "top": null,
      "visibility": null,
      "width": null
     }
    },
    "306a55adbe73490ba30742611aa5ab8b": {
     "model_module": "@jupyter-widgets/controls",
     "model_name": "HTMLModel",
     "state": {
      "_dom_classes": [],
      "_model_module": "@jupyter-widgets/controls",
      "_model_module_version": "1.5.0",
      "_model_name": "HTMLModel",
      "_view_count": null,
      "_view_module": "@jupyter-widgets/controls",
      "_view_module_version": "1.5.0",
      "_view_name": "HTMLView",
      "description": "",
      "description_tooltip": null,
      "layout": "IPY_MODEL_eb2af02d471c485dae4d7bb0efe76b1a",
      "placeholder": "​",
      "style": "IPY_MODEL_6441e24fa0e249e78449aebdc4b53699",
      "value": " 4/4 [1:23:00&lt;00:00, 1245.07s/it]"
     }
    },
    "6441e24fa0e249e78449aebdc4b53699": {
     "model_module": "@jupyter-widgets/controls",
     "model_name": "DescriptionStyleModel",
     "state": {
      "_model_module": "@jupyter-widgets/controls",
      "_model_module_version": "1.5.0",
      "_model_name": "DescriptionStyleModel",
      "_view_count": null,
      "_view_module": "@jupyter-widgets/base",
      "_view_module_version": "1.2.0",
      "_view_name": "StyleView",
      "description_width": ""
     }
    },
    "b1a4ddcb10014f62b2c5fc5714dfcc5c": {
     "model_module": "@jupyter-widgets/controls",
     "model_name": "HBoxModel",
     "state": {
      "_dom_classes": [],
      "_model_module": "@jupyter-widgets/controls",
      "_model_module_version": "1.5.0",
      "_model_name": "HBoxModel",
      "_view_count": null,
      "_view_module": "@jupyter-widgets/controls",
      "_view_module_version": "1.5.0",
      "_view_name": "HBoxView",
      "box_style": "",
      "children": [
       "IPY_MODEL_ea5c9ef4859b43aca5cafb3f0958de0d",
       "IPY_MODEL_306a55adbe73490ba30742611aa5ab8b"
      ],
      "layout": "IPY_MODEL_eb8e1bae58724f63a1f5e69777aae6c1"
     }
    },
    "c9b374c6b9e84171b3c9a3900499af0b": {
     "model_module": "@jupyter-widgets/controls",
     "model_name": "ProgressStyleModel",
     "state": {
      "_model_module": "@jupyter-widgets/controls",
      "_model_module_version": "1.5.0",
      "_model_name": "ProgressStyleModel",
      "_view_count": null,
      "_view_module": "@jupyter-widgets/base",
      "_view_module_version": "1.2.0",
      "_view_name": "StyleView",
      "bar_color": null,
      "description_width": "initial"
     }
    },
    "ea5c9ef4859b43aca5cafb3f0958de0d": {
     "model_module": "@jupyter-widgets/controls",
     "model_name": "FloatProgressModel",
     "state": {
      "_dom_classes": [],
      "_model_module": "@jupyter-widgets/controls",
      "_model_module_version": "1.5.0",
      "_model_name": "FloatProgressModel",
      "_view_count": null,
      "_view_module": "@jupyter-widgets/controls",
      "_view_module_version": "1.5.0",
      "_view_name": "ProgressView",
      "bar_style": "success",
      "description": "100%",
      "description_tooltip": null,
      "layout": "IPY_MODEL_24a3e3877d894417a0cf5a7184e5a040",
      "max": 4,
      "min": 0,
      "orientation": "horizontal",
      "style": "IPY_MODEL_c9b374c6b9e84171b3c9a3900499af0b",
      "value": 4
     }
    },
    "eb2af02d471c485dae4d7bb0efe76b1a": {
     "model_module": "@jupyter-widgets/base",
     "model_name": "LayoutModel",
     "state": {
      "_model_module": "@jupyter-widgets/base",
      "_model_module_version": "1.2.0",
      "_model_name": "LayoutModel",
      "_view_count": null,
      "_view_module": "@jupyter-widgets/base",
      "_view_module_version": "1.2.0",
      "_view_name": "LayoutView",
      "align_content": null,
      "align_items": null,
      "align_self": null,
      "border": null,
      "bottom": null,
      "display": null,
      "flex": null,
      "flex_flow": null,
      "grid_area": null,
      "grid_auto_columns": null,
      "grid_auto_flow": null,
      "grid_auto_rows": null,
      "grid_column": null,
      "grid_gap": null,
      "grid_row": null,
      "grid_template_areas": null,
      "grid_template_columns": null,
      "grid_template_rows": null,
      "height": null,
      "justify_content": null,
      "justify_items": null,
      "left": null,
      "margin": null,
      "max_height": null,
      "max_width": null,
      "min_height": null,
      "min_width": null,
      "object_fit": null,
      "object_position": null,
      "order": null,
      "overflow": null,
      "overflow_x": null,
      "overflow_y": null,
      "padding": null,
      "right": null,
      "top": null,
      "visibility": null,
      "width": null
     }
    },
    "eb8e1bae58724f63a1f5e69777aae6c1": {
     "model_module": "@jupyter-widgets/base",
     "model_name": "LayoutModel",
     "state": {
      "_model_module": "@jupyter-widgets/base",
      "_model_module_version": "1.2.0",
      "_model_name": "LayoutModel",
      "_view_count": null,
      "_view_module": "@jupyter-widgets/base",
      "_view_module_version": "1.2.0",
      "_view_name": "LayoutView",
      "align_content": null,
      "align_items": null,
      "align_self": null,
      "border": null,
      "bottom": null,
      "display": null,
      "flex": null,
      "flex_flow": null,
      "grid_area": null,
      "grid_auto_columns": null,
      "grid_auto_flow": null,
      "grid_auto_rows": null,
      "grid_column": null,
      "grid_gap": null,
      "grid_row": null,
      "grid_template_areas": null,
      "grid_template_columns": null,
      "grid_template_rows": null,
      "height": null,
      "justify_content": null,
      "justify_items": null,
      "left": null,
      "margin": null,
      "max_height": null,
      "max_width": null,
      "min_height": null,
      "min_width": null,
      "object_fit": null,
      "object_position": null,
      "order": null,
      "overflow": null,
      "overflow_x": null,
      "overflow_y": null,
      "padding": null,
      "right": null,
      "top": null,
      "visibility": null,
      "width": null
     }
    }
   }
  }
 },
 "nbformat": 4,
 "nbformat_minor": 1
}
