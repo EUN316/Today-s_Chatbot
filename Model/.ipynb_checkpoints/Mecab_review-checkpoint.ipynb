{
 "cells": [
  {
   "cell_type": "markdown",
   "metadata": {
    "id": "-_LcVQ2IAJ-o"
   },
   "source": [
    "# Review"
   ]
  },
  {
   "cell_type": "markdown",
   "metadata": {
    "id": "s-mQTZWBBNdj"
   },
   "source": [
    "## Library"
   ]
  },
  {
   "cell_type": "code",
   "execution_count": 1,
   "metadata": {
    "id": "pcU7rvFqBD9P"
   },
   "outputs": [],
   "source": [
    "import pandas as pd\n",
    "import numpy as np\n",
    "import os\n",
    "from tqdm import tqdm, tqdm_notebook\n",
    "\n",
    "from konlpy.tag import Mecab"
   ]
  },
  {
   "cell_type": "markdown",
   "metadata": {},
   "source": [
    "## Path"
   ]
  },
  {
   "cell_type": "code",
   "execution_count": 5,
   "metadata": {},
   "outputs": [],
   "source": [
    "open_path = '/home/hyejeongeun/Todays_Chatbot/Data/Review/Review_spellcheck/'\n",
    "save_path = '/home/hyejeongeun/Todays_Chatbot/Data/Review/Review_mecab/'"
   ]
  },
  {
   "cell_type": "markdown",
   "metadata": {
    "id": "v_LHL60LCgdz"
   },
   "source": [
    "## Mecab 돌려서 csv로 저장"
   ]
  },
  {
   "cell_type": "code",
   "execution_count": 6,
   "metadata": {
    "id": "ki6JLrmgDhfm"
   },
   "outputs": [],
   "source": [
    "mecab = Mecab()"
   ]
  },
  {
   "cell_type": "code",
   "execution_count": 7,
   "metadata": {
    "id": "h9L6g0zVCWVH"
   },
   "outputs": [],
   "source": [
    "review_list = os.listdir(open_path)"
   ]
  },
  {
   "cell_type": "code",
   "execution_count": 8,
   "metadata": {
    "id": "fDbL1S98Gga7"
   },
   "outputs": [],
   "source": [
    "def make_review_mecab_tokens(file_name):\n",
    "    review_df = pd.read_csv(open_path+file_name)\n",
    "    \n",
    "    review = review_df['comment_spellcheck'].astype(str)    \n",
    "\n",
    "    # mecab 돌리기\n",
    "    review_mecab = []\n",
    "    for i in range(len(review)):\n",
    "        if review[i] == 'NaN':\n",
    "            review_mecab.append('nan')\n",
    "        else:\n",
    "            review_mecab.append(mecab.pos(review[i]))\n",
    "\n",
    "    # 조사 제거\n",
    "    morpheme = ['NNG','NNP','NNB','NNBC','NR','NP','VV','VA','VX','VCP','VCN','MM','MAG','MAJ','IC']    \n",
    "    tmp = []\n",
    "    review_tokens = []\n",
    "    \n",
    "    for tok in review_mecab:\n",
    "        for t in tok:\n",
    "            if t[1] in morpheme:\n",
    "                tmp.append(t[0])\n",
    "        if len(tmp)==0:\n",
    "            review_tokens.append('')\n",
    "        else:\n",
    "            review_tokens.append(tmp)\n",
    "        tmp = []\n",
    "\n",
    "    # 한 문장으로 결합\n",
    "    review_tokens_str = [' '.join(re)+'\\n' for re in review_tokens]\n",
    "    review_df['comment_mecab'] = review_tokens_str\n",
    "\n",
    "    review_df = review_df[review_df['comment_mecab']!='\\n'] # NaN 제거\n",
    "\n",
    "    # csv 저장 후 내보내기    \n",
    "    review_name = file_name.split('spellcheck')[0] + 'mecab.csv'\n",
    "    review_df.to_csv(save_path+review_name, index=False)"
   ]
  },
  {
   "cell_type": "code",
   "execution_count": 9,
   "metadata": {
    "id": "fTjjWSwEHjZN",
    "scrolled": true
   },
   "outputs": [
    {
     "name": "stderr",
     "output_type": "stream",
     "text": [
      "/home/hyejeongeun/.conda/envs/hyejeongeun/lib/python3.7/site-packages/ipykernel_launcher.py:2: TqdmDeprecationWarning: This function will be removed in tqdm==5.0.0\n",
      "Please use `tqdm.notebook.tqdm` instead of `tqdm.tqdm_notebook`\n",
      "  \n"
     ]
    },
    {
     "data": {
      "application/vnd.jupyter.widget-view+json": {
       "model_id": "6605cf78dd5f405fbcf434f0a2d9dcbf",
       "version_major": 2,
       "version_minor": 0
      },
      "text/plain": [
       "  0%|          | 0/145 [00:00<?, ?it/s]"
      ]
     },
     "metadata": {},
     "output_type": "display_data"
    }
   ],
   "source": [
    "# 전체 리뷰 파일 함수 돌리기\n",
    "for file_name in tqdm_notebook(review_list):\n",
    "    make_review_mecab_tokens(file_name)"
   ]
  },
  {
   "cell_type": "code",
   "execution_count": null,
   "metadata": {},
   "outputs": [],
   "source": []
  }
 ],
 "metadata": {
  "colab": {
   "authorship_tag": "ABX9TyMj0nCSn04wXgiDZESuJgXC",
   "collapsed_sections": [
    "WWy7XJdtBPJS",
    "1CDVKlVyCKt1"
   ],
   "mount_file_id": "1wxgXCUGhc9OQ5chFuLdQNM_5NNhXDzih",
   "name": "review_meun.ipynb",
   "private_outputs": true,
   "provenance": [],
   "toc_visible": true
  },
  "kernelspec": {
   "display_name": "Python 3",
   "language": "python",
   "name": "python3"
  },
  "language_info": {
   "codemirror_mode": {
    "name": "ipython",
    "version": 3
   },
   "file_extension": ".py",
   "mimetype": "text/x-python",
   "name": "python",
   "nbconvert_exporter": "python",
   "pygments_lexer": "ipython3",
   "version": "3.7.0"
  }
 },
 "nbformat": 4,
 "nbformat_minor": 1
}
