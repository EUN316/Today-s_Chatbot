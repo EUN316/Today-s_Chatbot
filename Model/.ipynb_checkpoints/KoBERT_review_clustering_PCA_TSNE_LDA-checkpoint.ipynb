{
 "cells": [
  {
   "cell_type": "code",
   "execution_count": 1,
   "id": "3436c450",
   "metadata": {},
   "outputs": [],
   "source": [
    "import pandas as pd\n",
    "import numpy as np\n",
    "\n",
    "from sklearn.cluster import KMeans\n",
    "import matplotlib.pyplot as plt\n",
    "\n",
    "from tqdm import tqdm\n",
    "\n",
    "# PCA\n",
    "from sklearn.decomposition import PCA\n",
    "\n",
    "from tqdm import tqdm, tqdm_notebook\n",
    "import os"
   ]
  },
  {
   "cell_type": "code",
   "execution_count": 12,
   "id": "57b50b0b",
   "metadata": {},
   "outputs": [],
   "source": [
    "review_path = '/home/hyejeongeun/Todays_Chatbot/Data/Review/Review_embedding/'"
   ]
  },
  {
   "cell_type": "markdown",
   "id": "31e2da32",
   "metadata": {},
   "source": [
    "## Load & Preprocessing Data"
   ]
  },
  {
   "cell_type": "code",
   "execution_count": 13,
   "id": "72b94472",
   "metadata": {},
   "outputs": [],
   "source": [
    "review_list = os.listdir(review_path)\n",
    "review_name = [review.split('_embedding')[0] for review in review_list]"
   ]
  },
  {
   "cell_type": "code",
   "execution_count": 14,
   "id": "06e3612e",
   "metadata": {},
   "outputs": [
    {
     "name": "stderr",
     "output_type": "stream",
     "text": [
      "/home/hyejeongeun/.conda/envs/hyejeongeun/lib/python3.7/site-packages/ipykernel_launcher.py:3: TqdmDeprecationWarning: This function will be removed in tqdm==5.0.0\n",
      "Please use `tqdm.notebook.tqdm` instead of `tqdm.tqdm_notebook`\n",
      "  This is separate from the ipykernel package so we can avoid doing imports until\n"
     ]
    },
    {
     "data": {
      "application/vnd.jupyter.widget-view+json": {
       "model_id": "c67ba23494a84168ae3b4ee63a00f0c1",
       "version_major": 2,
       "version_minor": 0
      },
      "text/plain": [
       "  0%|          | 0/146 [00:00<?, ?it/s]"
      ]
     },
     "metadata": {},
     "output_type": "display_data"
    },
    {
     "data": {
      "text/html": [
       "<div>\n",
       "<style scoped>\n",
       "    .dataframe tbody tr th:only-of-type {\n",
       "        vertical-align: middle;\n",
       "    }\n",
       "\n",
       "    .dataframe tbody tr th {\n",
       "        vertical-align: top;\n",
       "    }\n",
       "\n",
       "    .dataframe thead th {\n",
       "        text-align: right;\n",
       "    }\n",
       "</style>\n",
       "<table border=\"1\" class=\"dataframe\">\n",
       "  <thead>\n",
       "    <tr style=\"text-align: right;\">\n",
       "      <th></th>\n",
       "      <th>0</th>\n",
       "    </tr>\n",
       "  </thead>\n",
       "  <tbody>\n",
       "    <tr>\n",
       "      <th>0</th>\n",
       "      <td>진짜 최악 이 하 많 위 가 추천 좀 주 번 화이트 중형 장 구매 오늘 받 설치 중...</td>\n",
       "    </tr>\n",
       "    <tr>\n",
       "      <th>1</th>\n",
       "      <td>사진 완전 안 보이 빛 단함 앞 안 앞날 같</td>\n",
       "    </tr>\n",
       "    <tr>\n",
       "      <th>2</th>\n",
       "      <td>장 한 세트 줄 알 이 그래서 총 장 오 줄 알 표기 제대로 주 좋 거 같 모든 이...</td>\n",
       "    </tr>\n",
       "    <tr>\n",
       "      <th>3</th>\n",
       "      <td>사진 완전 빛 차단 사진 이 꿀 잠 잘 듯 감사</td>\n",
       "    </tr>\n",
       "    <tr>\n",
       "      <th>4</th>\n",
       "      <td>해 안 회사 지각 슬프 좋</td>\n",
       "    </tr>\n",
       "    <tr>\n",
       "      <th>...</th>\n",
       "      <td>...</td>\n",
       "    </tr>\n",
       "    <tr>\n",
       "      <th>710449</th>\n",
       "      <td>서서 물걸레질 힘들 괜찮 거 같</td>\n",
       "    </tr>\n",
       "    <tr>\n",
       "      <th>710450</th>\n",
       "      <td>싸 청소 편리 아주 좋</td>\n",
       "    </tr>\n",
       "    <tr>\n",
       "      <th>710451</th>\n",
       "      <td>그리 보이 않 걸레 판도 좀 얇 듯 너무 닦 것 같 그렇지만 가격 편 이 괜찮</td>\n",
       "    </tr>\n",
       "    <tr>\n",
       "      <th>710452</th>\n",
       "      <td>완존 좋 엄마 드리 싶</td>\n",
       "    </tr>\n",
       "    <tr>\n",
       "      <th>710453</th>\n",
       "      <td>길 조절 안 쪼금 불편 불편 가격 대비 구성비 굿 가볍 잘</td>\n",
       "    </tr>\n",
       "  </tbody>\n",
       "</table>\n",
       "<p>710454 rows × 1 columns</p>\n",
       "</div>"
      ],
      "text/plain": [
       "                                                        0\n",
       "0       진짜 최악 이 하 많 위 가 추천 좀 주 번 화이트 중형 장 구매 오늘 받 설치 중...\n",
       "1                                사진 완전 안 보이 빛 단함 앞 안 앞날 같\n",
       "2       장 한 세트 줄 알 이 그래서 총 장 오 줄 알 표기 제대로 주 좋 거 같 모든 이...\n",
       "3                              사진 완전 빛 차단 사진 이 꿀 잠 잘 듯 감사\n",
       "4                                          해 안 회사 지각 슬프 좋\n",
       "...                                                   ...\n",
       "710449                                  서서 물걸레질 힘들 괜찮 거 같\n",
       "710450                                       싸 청소 편리 아주 좋\n",
       "710451        그리 보이 않 걸레 판도 좀 얇 듯 너무 닦 것 같 그렇지만 가격 편 이 괜찮\n",
       "710452                                       완존 좋 엄마 드리 싶\n",
       "710453                   길 조절 안 쪼금 불편 불편 가격 대비 구성비 굿 가볍 잘\n",
       "\n",
       "[710454 rows x 1 columns]"
      ]
     },
     "execution_count": 14,
     "metadata": {},
     "output_type": "execute_result"
    }
   ],
   "source": [
    "#review_df = pd.DataFrame({\"review\"})\n",
    "review_df = pd.DataFrame()\n",
    "for i in tqdm_notebook(range(len(review_list))):\n",
    "    if review_list[i] == '.ipynb_checkpoints':\n",
    "        continue\n",
    "    \n",
    "    # load data\n",
    "    df = pd.read_csv(review_path + review_list[i])\n",
    "    df=df[df['comment_mecab'].notna()]\n",
    "    \n",
    "    # df.reset_index(drop=True, inplace=False)\n",
    "    df = df['comment_mecab'].str.replace(pat='\\n', repl='')\n",
    "    review_df = pd.concat([review_df,df])\n",
    "    \n",
    "review_df.reset_index(drop=True, inplace=False)"
   ]
  },
  {
   "cell_type": "code",
   "execution_count": 15,
   "id": "f133e83a",
   "metadata": {},
   "outputs": [
    {
     "data": {
      "text/plain": [
       "0       진짜 최악 이 하 많 위 가 추천 좀 주 번 화이트 중형 장 구매 오늘 받 설치 중...\n",
       "1                                사진 완전 안 보이 빛 단함 앞 안 앞날 같\n",
       "2       장 한 세트 줄 알 이 그래서 총 장 오 줄 알 표기 제대로 주 좋 거 같 모든 이...\n",
       "3                              사진 완전 빛 차단 사진 이 꿀 잠 잘 듯 감사\n",
       "4                                          해 안 회사 지각 슬프 좋\n",
       "                              ...                        \n",
       "8682                                    서서 물걸레질 힘들 괜찮 거 같\n",
       "8683                                         싸 청소 편리 아주 좋\n",
       "8684          그리 보이 않 걸레 판도 좀 얇 듯 너무 닦 것 같 그렇지만 가격 편 이 괜찮\n",
       "8685                                         완존 좋 엄마 드리 싶\n",
       "8686                     길 조절 안 쪼금 불편 불편 가격 대비 구성비 굿 가볍 잘\n",
       "Name: 0, Length: 710454, dtype: object"
      ]
     },
     "execution_count": 15,
     "metadata": {},
     "output_type": "execute_result"
    }
   ],
   "source": [
    "review_df[0]"
   ]
  },
  {
   "cell_type": "code",
   "execution_count": null,
   "id": "a2d27860",
   "metadata": {},
   "outputs": [],
   "source": []
  },
  {
   "cell_type": "markdown",
   "id": "79ccbe0a",
   "metadata": {},
   "source": [
    "## LDA"
   ]
  },
  {
   "cell_type": "code",
   "execution_count": 16,
   "id": "5d4a2a4d",
   "metadata": {},
   "outputs": [
    {
     "name": "stderr",
     "output_type": "stream",
     "text": [
      "/home/hyejeongeun/.conda/envs/hyejeongeun/lib/python3.7/site-packages/gensim/similarities/__init__.py:15: UserWarning: The gensim.similarities.levenshtein submodule is disabled, because the optional Levenshtein package <https://pypi.org/project/python-Levenshtein/> is unavailable. Install Levenhstein (e.g. `pip install python-Levenshtein`) to suppress this warning.\n",
      "  warnings.warn(msg)\n"
     ]
    }
   ],
   "source": [
    "from gensim.models import ldamodel\n",
    "from gensim.models import CoherenceModel\n",
    "from time import time\n",
    "import os\n",
    "import gensim"
   ]
  },
  {
   "cell_type": "code",
   "execution_count": 17,
   "id": "412084d7",
   "metadata": {},
   "outputs": [
    {
     "data": {
      "text/plain": [
       "[['진짜',\n",
       "  '최악',\n",
       "  '추천',\n",
       "  '화이트',\n",
       "  '중형',\n",
       "  '구매',\n",
       "  '오늘',\n",
       "  '설치',\n",
       "  '커튼',\n",
       "  '한쪽',\n",
       "  '동전',\n",
       "  '크기',\n",
       "  '얼룩',\n",
       "  '다른',\n",
       "  '한쪽',\n",
       "  '자국',\n",
       "  '이제',\n",
       "  '커튼',\n",
       "  '얼룩',\n",
       "  '그리고',\n",
       "  '커튼',\n",
       "  '고정',\n",
       "  '고정',\n",
       "  '플라스틱',\n",
       "  '한쪽',\n",
       "  '구도',\n",
       "  '많이',\n",
       "  '언제',\n",
       "  '이상',\n",
       "  '재질',\n",
       "  '이유',\n",
       "  '아까'],\n",
       " ['사진', '완전', '보이', '단함', '앞날'],\n",
       " ['세트', '그래서', '표기', '제대로', '모든', '이미지', '구성', '분명', '커튼', '어디', '표기'],\n",
       " ['사진', '완전', '차단', '사진', '감사'],\n",
       " ['회사', '지각', '슬프']]"
      ]
     },
     "execution_count": 17,
     "metadata": {},
     "output_type": "execute_result"
    }
   ],
   "source": [
    "temp = 0\n",
    "mecab_token = []\n",
    "word_list = []\n",
    "mecab = review_df[0].tolist()\n",
    "for line in mecab:\n",
    "    if type(line)==float:\n",
    "        temp += 1\n",
    "    else: \n",
    "        l = line.split(' ')\n",
    "        for word in l:\n",
    "            if len(word) > 1:\n",
    "                word_list.append(word)\n",
    "    mecab_token.append(word_list)\n",
    "    word_list = []\n",
    "mecab_token[:5]"
   ]
  },
  {
   "cell_type": "code",
   "execution_count": 18,
   "id": "817885e6",
   "metadata": {},
   "outputs": [
    {
     "data": {
      "text/plain": [
       "0"
      ]
     },
     "execution_count": 18,
     "metadata": {},
     "output_type": "execute_result"
    }
   ],
   "source": [
    "temp # nan값"
   ]
  },
  {
   "cell_type": "code",
   "execution_count": 19,
   "id": "dbf10b2e",
   "metadata": {},
   "outputs": [
    {
     "data": {
      "text/plain": [
       "710454"
      ]
     },
     "execution_count": 19,
     "metadata": {},
     "output_type": "execute_result"
    }
   ],
   "source": [
    "len(mecab_token)"
   ]
  },
  {
   "cell_type": "code",
   "execution_count": 21,
   "id": "e08410ef",
   "metadata": {},
   "outputs": [
    {
     "name": "stdout",
     "output_type": "stream",
     "text": [
      "sys_font number: 67\n",
      "['/usr/share/fonts/truetype/lyx/cmsy10.ttf', '/usr/share/fonts/truetype/dejavu/DejaVuSans-Oblique.ttf', '/usr/share/fonts/truetype/dejavu/DejaVuSansMono-Oblique.ttf', '/usr/share/fonts/truetype/ttf-bitstream-vera/VeraBI.ttf', '/usr/share/fonts/truetype/lyx/eufm10.ttf', '/usr/share/fonts/truetype/nanumfont/NanumBrush.ttf', '/usr/share/fonts/truetype/dejavu/DejaVuSans-Bold.ttf', '/usr/share/fonts/truetype/dejavu/DejaVuSerif-Bold.ttf', '/usr/share/fonts/truetype/liberation/LiberationMono-Regular.ttf', '/usr/share/fonts/truetype/dejavu/DejaVuSans-BoldOblique.ttf', '/usr/share/fonts/truetype/liberation/LiberationSansNarrow-Regular.ttf', '/usr/share/fonts/truetype/liberation/LiberationSerif-BoldItalic.ttf', '/usr/share/fonts/truetype/dejavu/DejaVuSansCondensed-BoldOblique.ttf', '/usr/share/fonts/truetype/lyx/cmr10.ttf', '/usr/share/fonts/truetype/dejavu/DejaVuSansMono-Bold.ttf', '/usr/share/fonts/truetype/nanumfont/NanumPen.ttf', '/usr/share/fonts/truetype/nanumfont/NanumGothicExtraBold.ttf', '/usr/share/fonts/truetype/dejavu/DejaVuSerifCondensed-Bold.ttf', '/usr/share/fonts/truetype/lyx/wasy10.ttf', '/usr/share/fonts/truetype/lyx/cmmi10.ttf', '/usr/share/fonts/truetype/nanumfont/NanumMyeongjoExtraBold.ttf', '/usr/share/fonts/truetype/lyx/msbm10.ttf', '/usr/share/fonts/truetype/liberation/LiberationSansNarrow-Italic.ttf', '/usr/share/fonts/truetype/lyx/msam10.ttf', '/usr/share/fonts/truetype/dejavu/DejaVuSansMono.ttf', '/usr/share/fonts/truetype/liberation/LiberationMono-Bold.ttf', '/usr/share/fonts/truetype/ttf-bitstream-vera/VeraSeBd.ttf', '/usr/share/fonts/truetype/dejavu/DejaVuSerif.ttf', '/usr/share/fonts/truetype/liberation/LiberationSerif-Bold.ttf', '/usr/share/fonts/truetype/liberation/LiberationSans-Regular.ttf', '/usr/share/fonts/truetype/liberation/LiberationSansNarrow-Bold.ttf', '/usr/share/fonts/truetype/liberation/LiberationSansNarrow-BoldItalic.ttf', '/usr/share/fonts/truetype/ttf-bitstream-vera/VeraMoBI.ttf', '/usr/share/fonts/truetype/dejavu/DejaVuMathTeXGyre.ttf', '/usr/share/fonts/truetype/nanumfont/NanumMyeongjo.ttf', '/usr/share/fonts/truetype/dejavu/DejaVuSerifCondensed-BoldItalic.ttf', '/usr/share/fonts/truetype/ttf-bitstream-vera/VeraMoIt.ttf', '/usr/share/fonts/truetype/ttf-bitstream-vera/VeraIt.ttf', '/usr/share/fonts/truetype/ttf-bitstream-vera/VeraSe.ttf', '/usr/share/fonts/truetype/dejavu/DejaVuSansCondensed.ttf', '/usr/share/fonts/truetype/liberation/LiberationSans-Bold.ttf', '/usr/share/fonts/truetype/dejavu/DejaVuSans.ttf', '/usr/share/fonts/truetype/liberation/LiberationSans-Italic.ttf', '/usr/share/fonts/truetype/dejavu/DejaVuSerif-BoldItalic.ttf', '/usr/share/fonts/truetype/dejavu/DejaVuSansCondensed-Oblique.ttf', '/usr/share/fonts/truetype/dejavu/DejaVuSerif-Italic.ttf', '/usr/share/fonts/truetype/dejavu/DejaVuSansCondensed-Bold.ttf', '/usr/share/fonts/truetype/dejavu/DejaVuSansMono-BoldOblique.ttf', '/usr/share/fonts/truetype/ttf-bitstream-vera/VeraBd.ttf', '/usr/share/fonts/truetype/dejavu/DejaVuSerifCondensed.ttf', '/usr/share/fonts/truetype/liberation/LiberationSans-BoldItalic.ttf', '/usr/share/fonts/truetype/dejavu/DejaVuSerifCondensed-Italic.ttf', '/usr/share/fonts/truetype/nanumfont/NanumGothic.ttf', '/usr/share/fonts/truetype/nanumfont/NanumMyeongjoBold.ttf', '/usr/share/fonts/truetype/ttf-bitstream-vera/Vera.ttf', '/usr/share/fonts/truetype/liberation/LiberationMono-BoldItalic.ttf', '/usr/share/fonts/truetype/nanumfont/NanumGothicBold.ttf', '/usr/share/fonts/truetype/liberation/LiberationSerif-Italic.ttf', '/usr/share/fonts/truetype/liberation/LiberationSerif-Regular.ttf', '/usr/share/fonts/truetype/liberation/LiberationMono-Italic.ttf', '/usr/share/fonts/truetype/ttf-bitstream-vera/VeraMono.ttf', '/usr/share/fonts/truetype/lyx/esint10.ttf', '/usr/share/fonts/truetype/ttf-bitstream-vera/VeraMoBd.ttf', '/usr/share/fonts/truetype/dejavu/DejaVuSans-ExtraLight.ttf', '/usr/share/fonts/truetype/lyx/rsfs10.ttf', '/usr/share/fonts/truetype/lyx/stmary10.ttf', '/usr/share/fonts/truetype/lyx/cmex10.ttf']\n",
      "nanum_font number: 8\n",
      "NanumSquare\n"
     ]
    }
   ],
   "source": [
    "import sys\n",
    "from sklearn.feature_extraction.text import CountVectorizer\n",
    "from tqdm import tqdm_notebook\n",
    "from konlpy.tag import Okt; okt = Okt()\n",
    "\n",
    "import numpy as np\n",
    "import pandas as pd\n",
    "import string\n",
    "import re\n",
    "import warnings\n",
    "from gensim import corpora\n",
    "from gensim import models\n",
    "import matplotlib.pyplot as plt\n",
    "import platform\n",
    "from matplotlib import font_manager, rc\n",
    "%matplotlib inline\n",
    "\n",
    "## 운영체제별 글꼴 세팅\n",
    "\n",
    "# 그래프를 이쁘게 그리기 위한 코드입니다. 한글 글꼴을 추가합니다.\n",
    "\n",
    "%matplotlib inline  \n",
    "\n",
    "import matplotlib as mpl  # 기본 설정 만지는 용도\n",
    "import matplotlib.pyplot as plt  # 그래프 그리는 용도\n",
    "import matplotlib.font_manager as fm  # 폰트 관련 용도\n",
    "import seaborn as sns\n",
    "mpl.rcParams['axes.unicode_minus'] = False\n",
    "\n",
    "sys_font=fm.findSystemFonts()\n",
    "print(f\"sys_font number: {len(sys_font)}\")\n",
    "print(sys_font)\n",
    "\n",
    "nanum_font = [f for f in sys_font if 'Nanum' in f]\n",
    "print(f\"nanum_font number: {len(nanum_font)}\")\n",
    "\n",
    "# !apt-get update -qq\n",
    "# !apt-get install fonts-nanum* -qq\n",
    "\n",
    "path = './NanumSquareL.ttf'  # 설치된 나눔글꼴중 원하는 녀석의 전체 경로를 가져옵니다.\n",
    "font_name = fm.FontProperties(fname=path, size=10).get_name()\n",
    "print(font_name)\n",
    "plt.rc('font', family=font_name)\n",
    "\n",
    "# fm._rebuild()\n",
    "\n",
    "tokenizer = \"nouns\" # nouns, morphs, word, predefined"
   ]
  },
  {
   "cell_type": "code",
   "execution_count": 22,
   "id": "2f1a6168",
   "metadata": {},
   "outputs": [],
   "source": [
    "tokenized_documents = mecab_token"
   ]
  },
  {
   "cell_type": "code",
   "execution_count": 23,
   "id": "b769ff8a",
   "metadata": {},
   "outputs": [],
   "source": [
    "# 문서-단어 행렬 만들기\n",
    "# 어휘(vocabulary) 학습\n",
    "dictionary = corpora.Dictionary(tokenized_documents)\n",
    "# 문서-단어 행렬 생성\n",
    "corpus = [dictionary.doc2bow(document) for document in tokenized_documents]"
   ]
  },
  {
   "cell_type": "code",
   "execution_count": 24,
   "id": "5ac70586",
   "metadata": {},
   "outputs": [
    {
     "name": "stdout",
     "output_type": "stream",
     "text": [
      "Dictionary(26089 unique tokens: ['고정', '구도', '구매', '그리고', '다른']...)\n",
      "26089\n"
     ]
    }
   ],
   "source": [
    "NUM_TOTAL_WORDS = len(dictionary)\n",
    "print(dictionary)\n",
    "print(NUM_TOTAL_WORDS)"
   ]
  },
  {
   "cell_type": "code",
   "execution_count": 25,
   "id": "810507ec",
   "metadata": {},
   "outputs": [
    {
     "data": {
      "text/plain": [
       "[(0, 0.26069265111995166),\n",
       " (1, 0.21230526480414466),\n",
       " (2, 0.061432464975778756),\n",
       " (3, 0.11103102894002764),\n",
       " (4, 0.0984279043021367)]"
      ]
     },
     "execution_count": 25,
     "metadata": {},
     "output_type": "execute_result"
    }
   ],
   "source": [
    "# TFIDF 문서-단어 행렬 생성\n",
    "tfidf = models.TfidfModel(corpus)\n",
    "corpus_tfidf = tfidf[corpus]\n",
    "corpus_tfidf[0][:5]"
   ]
  },
  {
   "cell_type": "code",
   "execution_count": 26,
   "id": "1ae9284c",
   "metadata": {},
   "outputs": [],
   "source": [
    "# 토픽 개수와 토픽 별 상위 추출 단어 개수 지정.\n",
    "NUM_TOPIC_WORDS = 30\n",
    "\n",
    "\n",
    "def build_doc_term_mat(documents):\n",
    "    \"\"\"주어진 문서 집합으로 문서-어휘 행렬을 만들어 돌려준다.\"\"\"\n",
    "    \n",
    "    print_log_msg(\"Building document-term matrix.\")\n",
    "    dictionary = corpora.Dictionary(documents)\n",
    "    corpus = [dictionary.doc2bow(document) for document in documents]\n",
    "\n",
    "    return corpus, dictionary\n",
    "\n",
    "\n",
    "def print_topic_words(model):\n",
    "    \"\"\"토픽별 토픽 단어들을 화면에 인쇄한다.\"\"\"\n",
    "    \n",
    "    print_log_msg(\"Printing topic words.\")\n",
    "    \n",
    "    for topic_id in range(model.num_topics):\n",
    "        topic_word_probs = model.show_topic(topic_id, NUM_TOPIC_WORDS)\n",
    "        print(\"Topic ID: {}\".format(topic_id))\n",
    "\n",
    "        for topic_word, prob in topic_word_probs:\n",
    "            print(\"\\t{}\\t{}\".format(topic_word, prob))\n",
    "\n",
    "        print(\"\\n\")\n",
    "\n",
    "\n",
    "def print_log_msg(msg):\n",
    "    \"\"\"로그 메시지를 출력한다.\"\"\"\n",
    "    \n",
    "    print(msg, flush=True)"
   ]
  },
  {
   "cell_type": "code",
   "execution_count": 33,
   "id": "ac590b4f",
   "metadata": {},
   "outputs": [
    {
     "name": "stderr",
     "output_type": "stream",
     "text": [
      "/home/hyejeongeun/.conda/envs/hyejeongeun/lib/python3.7/site-packages/ipykernel/ipkernel.py:287: DeprecationWarning: `should_run_async` will not call `transform_cell` automatically in the future. Please pass the result to `transformed_cell` argument and any exception that happen during thetransform in `preprocessing_exc_tuple` in IPython 7.17 and above.\n",
      "  and should_run_async(code)\n"
     ]
    }
   ],
   "source": [
    "def compute_coherence(dictionary, corpus, texts, start=8, end=81, step=4):\n",
    "    coherence_score_list = []\n",
    "    model_list = []\n",
    "    for num_topics in tqdm_notebook(range(start, end, step)):\n",
    "        model = gensim.models.ldamodel.LdaModel(corpus=corpus, num_topics=num_topics, id2word=dictionary,\n",
    "                                                passes=30,\n",
    "                                                iterations=10,\n",
    "#                                                distributed=True,\n",
    "                                                per_word_topics=True,\n",
    "                                                random_state=42,\n",
    "                                                alpha='auto', eta=\"auto\")\n",
    "        model_list.append(model)\n",
    "        coherence_model = CoherenceModel(model=model, texts=tokenized_documents, dictionary=dictionary, coherence='c_v')\n",
    "        coherence_score_list.append(coherence_model.get_coherence())\n",
    "        \n",
    "    return model_list, coherence_score_list"
   ]
  },
  {
   "cell_type": "code",
   "execution_count": 35,
   "id": "c17fd7bc",
   "metadata": {},
   "outputs": [
    {
     "name": "stderr",
     "output_type": "stream",
     "text": [
      "/home/hyejeongeun/.conda/envs/hyejeongeun/lib/python3.7/site-packages/ipykernel/ipkernel.py:287: DeprecationWarning: `should_run_async` will not call `transform_cell` automatically in the future. Please pass the result to `transformed_cell` argument and any exception that happen during thetransform in `preprocessing_exc_tuple` in IPython 7.17 and above.\n",
      "  and should_run_async(code)\n"
     ]
    },
    {
     "name": "stdout",
     "output_type": "stream",
     "text": [
      "원하는 토픽 갯수들을 입력하세요(e.g. 2,5,1)20, 40, 10\n"
     ]
    },
    {
     "data": {
      "text/plain": [
       "(20, 40, 10)"
      ]
     },
     "execution_count": 35,
     "metadata": {},
     "output_type": "execute_result"
    }
   ],
   "source": [
    "# LDA에서 가장 중요한 파라미터 = K(토픽 개수)\n",
    "start, end, step = [int(x) for x in input(\"원하는 토픽 갯수들을 입력하세요(e.g. 2,5,1)\").split(\",\")]\n",
    "start, end, step"
   ]
  },
  {
   "cell_type": "code",
   "execution_count": null,
   "id": "53c971c9",
   "metadata": {},
   "outputs": [
    {
     "name": "stdout",
     "output_type": "stream",
     "text": [
      "Building document-term matrix.\n"
     ]
    },
    {
     "name": "stderr",
     "output_type": "stream",
     "text": [
      "/home/hyejeongeun/.conda/envs/hyejeongeun/lib/python3.7/site-packages/ipykernel/ipkernel.py:287: DeprecationWarning: `should_run_async` will not call `transform_cell` automatically in the future. Please pass the result to `transformed_cell` argument and any exception that happen during thetransform in `preprocessing_exc_tuple` in IPython 7.17 and above.\n",
      "  and should_run_async(code)\n"
     ]
    },
    {
     "name": "stdout",
     "output_type": "stream",
     "text": [
      "710454 26089\n"
     ]
    },
    {
     "name": "stderr",
     "output_type": "stream",
     "text": [
      "/home/hyejeongeun/.conda/envs/hyejeongeun/lib/python3.7/site-packages/ipykernel_launcher.py:4: TqdmDeprecationWarning: This function will be removed in tqdm==5.0.0\n",
      "Please use `tqdm.notebook.tqdm` instead of `tqdm.tqdm_notebook`\n",
      "  after removing the cwd from sys.path.\n"
     ]
    },
    {
     "data": {
      "application/vnd.jupyter.widget-view+json": {
       "model_id": "2ae25ed1345a4814b5802eb7f5ecf623",
       "version_major": 2,
       "version_minor": 0
      },
      "text/plain": [
       "  0%|          | 0/2 [00:00<?, ?it/s]"
      ]
     },
     "metadata": {},
     "output_type": "display_data"
    }
   ],
   "source": [
    "import pickle\n",
    "\n",
    "corpus, dictionary = build_doc_term_mat(tokenized_documents)\n",
    "print(len(corpus), len(dictionary))\n",
    "\n",
    "write_flag = False\n",
    "\n",
    "\n",
    "model_path = f\"model-test_K({start}-{end})_with_{tokenizer}words.pk\"\n",
    "if os.path.exists(model_path):\n",
    "    with open(model_path, 'rb') as f:\n",
    "        model_list = pickle.load(f)\n",
    "else:\n",
    "    write_flag = True\n",
    "    \n",
    "csScore_path = f\"Coherence-test_K({start}-{end})_with_{tokenizer}words.pk\"\n",
    "if os.path.exists(csScore_path):\n",
    "    with open(csScore_path, 'rb') as f:\n",
    "        coherence_scores = pickle.load(f)\n",
    "else:\n",
    "    write_flag = True\n",
    "\n",
    "\n",
    "if write_flag:\n",
    "    model_list, coherence_scores = compute_coherence(dictionary=dictionary, corpus=corpus, \n",
    "                                                     texts=tokenized_documents, start=start, end=end, step=step)\n",
    "\n",
    "    with open(model_path, 'wb') as f:\n",
    "        pickle.dump(model_list, f)\n",
    "    \n",
    "    with open(csScore_path, 'wb') as f:\n",
    "        pickle.dump(coherence_scores, f)"
   ]
  },
  {
   "cell_type": "code",
   "execution_count": null,
   "id": "531cf4ca",
   "metadata": {},
   "outputs": [],
   "source": [
    "import matplotlib.pyplot as plt\n",
    "%matplotlib inline\n",
    "\n",
    "\n",
    "\n",
    "coherence_list = coherence_scores\n",
    "label = \"Coherenece Score(C_V)\"\n",
    "\n",
    "x = range(start, end, step)\n",
    "plt.figure(figsize=(8, 6))\n",
    "plt.xticks(x)\n",
    "plt.plot(x, coherence_list, label=label)\n",
    "plt.scatter(x, coherence_list)\n",
    "plt.title(\"Coherence Scores for LDA with Review\")\n",
    "plt.xlabel(\"Num Topics\")\n",
    "plt.ylabel(\"Coherence Score\")\n",
    "plt.legend(loc='best')\n",
    "plt.show()"
   ]
  },
  {
   "cell_type": "code",
   "execution_count": 31,
   "id": "979b3cb6",
   "metadata": {
    "scrolled": true
   },
   "outputs": [
    {
     "data": {
      "text/plain": [
       "5"
      ]
     },
     "execution_count": 31,
     "metadata": {},
     "output_type": "execute_result"
    }
   ],
   "source": [
    "selected_model = model_list[np.argmax(coherence_list)]\n",
    "selected_model.num_topics"
   ]
  },
  {
   "cell_type": "code",
   "execution_count": 32,
   "id": "c4698478",
   "metadata": {},
   "outputs": [
    {
     "data": {
      "text/html": [
       "\n",
       "<link rel=\"stylesheet\" type=\"text/css\" href=\"https://cdn.jsdelivr.net/gh/bmabey/pyLDAvis@3.3.1/pyLDAvis/js/ldavis.v1.0.0.css\">\n",
       "\n",
       "\n",
       "<div id=\"ldavis_el97121398243848744403986215939\"></div>\n",
       "<script type=\"text/javascript\">\n",
       "\n",
       "var ldavis_el97121398243848744403986215939_data = {\"mdsDat\": {\"x\": [0.36937231294225015, -0.31084571989962745, -0.023241198248135222, -0.02146731285567994, -0.013818081938807575], \"y\": [-0.22385844254898646, -0.2994579268563139, 0.21852358461495733, 0.14481227496697469, 0.15998050982336812], \"topics\": [1, 2, 3, 4, 5], \"cluster\": [1, 1, 1, 1, 1], \"Freq\": [27.22422844221744, 25.864187662517292, 22.688617767538474, 13.840854949690442, 10.382111178036354]}, \"tinfo\": {\"Term\": [\"\\ub108\\ubb34\", \"\\uc0ac\\uc6a9\", \"\\uad6c\\ub9e4\", \"\\uc0dd\\uac01\", \"\\ubc30\\uc1a1\", \"\\uac00\\uaca9\", \"\\ub9cc\\uc871\", \"\\uccad\\uc18c\", \"\\ub514\\uc790\\uc778\", \"\\uc815\\ub9d0\", \"\\uad1c\\ucc2e\", \"\\ub290\\ub08c\", \"\\uc0ac\\uc774\\uc988\", \"\\ud06c\\uae30\", \"\\uc9c4\\uc9dc\", \"\\ud3b8\\ud558\", \"\\uc81c\\ud488\", \"\\uc870\\uae08\", \"\\ucee4\\ud2bc\", \"\\uc2a4\\ud300\", \"\\ubc14\\ub2e5\", \"\\uad6c\\uc131\\ube44\", \"\\ub300\\ube44\", \"\\uc544\\uc8fc\", \"\\uc774\\uc058\", \"\\ub9ce\\uc774\", \"\\ube60\\ub974\", \"\\uc608\\uc058\", \"\\ud558\\ub098\", \"\\uc544\\uc9c1\", \"\\ub108\\ubb34\", \"\\uac00\\uaca9\", \"\\ub9cc\\uc871\", \"\\uc815\\ub9d0\", \"\\uc9c4\\uc9dc\", \"\\uc81c\\ud488\", \"\\uad6c\\uc131\\ube44\", \"\\ub300\\ube44\", \"\\ud558\\ub098\", \"\\uc0c9\\uc0c1\", \"\\ucd94\\ucc9c\", \"\\ucd5c\\uace0\", \"\\ubd84\\uc704\\uae30\", \"\\ubcf4\\uc774\", \"\\uace0\\ubbfc\", \"\\ubd80\\ub4e4\\ubd80\\ub4e4\", \"\\ud654\\uc774\\ud2b8\", \"\\uc774\\uac70\", \"\\uac10\\uc0ac\", \"\\uae30\\ub300\", \"\\uc778\\ud14c\\ub9ac\\uc5b4\", \"\\uac70\\uc2e4\", \"\\uc644\\uc804\", \"\\uccad\\uc18c\\uae30\", \"\\uc544\\uc774\\ubcf4\\ub9ac\", \"\\uad6c\\uc131\", \"\\ube0c\\ub77c\\uc6b4\", \"\\ub108\\ubb34\\ub108\\ubb34\", \"\\uac15\\ucd94\", \"\\uc7ac\\uc9c8\", \"\\ubfcc\\ub9ac\", \"\\uc0ac\\uc6a9\", \"\\uc0dd\\uac01\", \"\\ubc30\\uc1a1\", \"\\ub514\\uc790\\uc778\", \"\\uad1c\\ucc2e\", \"\\uc0ac\\uc774\\uc988\", \"\\ud3b8\\ud558\", \"\\uc774\\uc058\", \"\\uc544\\uc8fc\", \"\\ub9ce\\uc774\", \"\\ube60\\ub974\", \"\\uc608\\uc058\", \"\\uc544\\uc9c1\", \"\\ub9c8\\uc74c\", \"\\uac00\\ubccd\", \"\\uc5c4\\uccad\", \"\\uc8fc\\ubb38\", \"\\uc0ac\\uc9c4\", \"\\uc124\\uce58\", \"\\uc0c1\\ud488\", \"\\uadf8\\ub798\\ub3c4\", \"\\uc0c9\\uae54\", \"\\uc77c\\ub2e8\", \"\\ube68\\ub9ac\", \"\\uc8fc\\ub984\", \"\\ucd09\\uac10\", \"\\ubb3c\\uac74\", \"\\uacf5\\uac04\", \"\\uc2ec\\ud50c\", \"\\ubaa8\\uc591\", \"\\uac78\\ub808\", \"\\ub2e4\\ub9ac\\ubbf8\", \"\\uc870\\uae08\", \"\\uadf8\\ub0e5\", \"\\uc870\\ub9bd\", \"\\uc815\\ub3c4\", \"\\ub7ec\\uadf8\", \"\\ucc98\\uc74c\", \"\\uadfc\\ub370\", \"\\uc544\\ub2c8\", \"\\ubd80\\ubd84\", \"\\ubb34\\uac81\", \"\\ub098\\uc624\", \"\\uba3c\\uc9c0\", \"\\uc5c6\\uc774\", \"\\uc624\\ub798\", \"\\ub9ac\\ubdf0\", \"\\ubc14\\ub85c\", \"\\uc0b4\\uc9dd\", \"\\ub2e4\\ub9cc\", \"\\uadf8\\ub9ac\\uace0\", \"\\ud6c4\\uae30\", \"\\uac71\\uc815\", \"\\ubb34\\uac8c\", \"\\ub2e6\\uc774\", \"\\ubaa8\\ub974\", \"\\ud3b4\\uc9c0\", \"\\ud798\\ub4e4\", \"\\ub2e4\\uc2dc\", \"\\uadc0\\ucc2e\", \"\\uacc4\\uc18d\", \"\\uc624\\ub298\", \"\\ubb3c\\ud1b5\", \"\\ubb3c\\uac78\\ub808\", \"\\ubd84\\uc0ac\", \"\\ubc00\\ub300\", \"\\uad6c\\ub9e4\", \"\\ud06c\\uae30\", \"\\ucee4\\ud2bc\", \"\\ub2e4\\ub9ac\", \"\\ub2e4\\ub978\", \"\\ud14c\\uc774\\ube14\", \"\\ud544\\uc694\", \"\\uad6c\\uc785\", \"\\uc120\\ubb3c\", \"\\uc554\\ub9c9\", \"\\ud63c\\uc790\", \"\\uce5c\\uad6c\", \"\\ubd88\\ud3b8\", \"\\ub4e4\\uc5b4\\uac00\", \"\\uac00\\ub2a5\", \"\\ub9e4\\uc6b0\", \"\\uc720\\uc6a9\", \"\\uc131\\ub2a5\", \"\\uc81c\\uc77c\", \"\\uaca8\\uc6b8\", \"\\ucd94\\uac00\", \"\\ub192\\uc774\", \"\\uae38\\uc774\", \"\\uc870\\uc808\", \"\\ub2e4\\uc74c\", \"\\uc0ac\\ub78c\", \"\\uc790\\uafb8\", \"\\ub355\\ubd84\", \"\\uc5ec\\uc790\", \"\\uc790\\ucde8\", \"\\uc154\\uce20\", \"\\uccad\\uc18c\", \"\\ub290\\ub08c\", \"\\ubc14\\ub2e5\", \"\\ubd80\\ub4dc\\ub7fd\", \"\\ud3b8\\ub9ac\", \"\\ubcf4\\ub4e4\\ubcf4\\ub4e4\", \"\\uc2a4\\ud300\", \"\\uc57d\\uac04\", \"\\uc5c4\\ub9c8\", \"\\uc790\\uc8fc\", \"\\uac19\\uc774\", \"\\uc18c\\ub9ac\", \"\\uc2a4\\ud300\\ub2e4\\ub9ac\\ubbf8\", \"\\uce68\\ub300\", \"\\ud6a8\\uacfc\", \"\\uc6d0\\ub8f8\", \"\\ub2e4\\ub9bc\\uc9c8\", \"\\uc138\\ud0c1\", \"\\uace0\\uc815\", \"\\ud770\\uc0c9\", \"\\ucc45\\uc0c1\", \"\\uadf8\\ub7f0\", \"\\ub9e4\\uc77c\", \"\\uad00\\ub9ac\", \"\\ubc00\\ub9ac\", \"\\ud551\\ud06c\", \"\\uce74\\ud3ab\", \"\\ud5c8\\ub9ac\", \"\\uace0\\uc591\\uc774\", \"\\uc790\\ucde8\\ubc29\", \"\\uac78\\ub808\\uc9c8\", \"\\uc811\\uc774\\uc2dd\"], \"Freq\": [188499.0, 105318.0, 64814.0, 93283.0, 89135.0, 92514.0, 82527.0, 43979.0, 65335.0, 47020.0, 42018.0, 24783.0, 39678.0, 24421.0, 36534.0, 34814.0, 35038.0, 30702.0, 22866.0, 19505.0, 19352.0, 33300.0, 33003.0, 31649.0, 31576.0, 31239.0, 29357.0, 29311.0, 29723.0, 28399.0, 188498.6847238062, 92513.93016350637, 82526.37372445506, 47019.933282208665, 36533.80825138855, 35038.16194466548, 33299.97073362523, 33003.00978831853, 29722.47342187786, 22605.083528319174, 21471.42020100183, 18399.22172357765, 16192.082993394166, 14523.408268999887, 13812.48880246721, 13809.086513325437, 13297.497732689726, 13087.01440016736, 12102.03053653216, 11507.7735633243, 10596.250554486322, 10548.179353886237, 10276.427369773517, 10494.419754566428, 10038.638808495201, 9958.675292837435, 8966.3384819629, 8581.03123800375, 8243.221094090342, 7758.12842638947, 8697.945900994368, 105317.69654998684, 93282.79746301661, 89134.63988765217, 65334.6139392049, 42017.65646033011, 39677.36914894459, 34813.33124665102, 31575.60169409807, 31648.69669459054, 31238.379893264915, 29356.410707923453, 29310.595410034657, 28399.03743299711, 24685.944829497825, 24475.36916751663, 22716.82792447176, 21270.866788176427, 16671.883552482243, 15374.803663919873, 15366.618014747652, 12435.525444312963, 10154.68459016249, 10223.264119728528, 9838.318050261216, 9532.372078611967, 8766.131104270287, 8611.4072326425, 6974.802175016939, 6750.0021277208125, 6843.707384647108, 21925.253702330232, 7987.20856673002, 30702.00757330063, 23330.49521499681, 22711.02085249595, 21251.474215163817, 19179.14585637563, 18356.591488465965, 17977.221103750224, 16995.05553885833, 15973.884514729945, 14834.727814125, 14638.999992284924, 12483.21377062458, 11518.74815401566, 11361.055539548839, 11136.274488291392, 10878.088370674026, 10361.131887509864, 10122.447069866543, 10032.670179633655, 10141.779671825076, 9977.255264278056, 9246.60986265044, 9994.918994907985, 9113.276479146753, 9661.517389775263, 8814.088165894598, 7432.5715089581, 7043.687795192414, 6998.554880917896, 6792.988247698509, 14150.239905114708, 8998.906849398185, 13219.952315829441, 8705.91937958629, 64814.1617474356, 24420.24967796047, 22865.43609929133, 16013.415387974388, 14993.360196801084, 15530.710564321162, 13730.342635818408, 13518.229363390428, 12373.603309912523, 11154.906397940149, 10908.755508962331, 10207.758058081292, 9311.534160215091, 8275.439275697514, 8201.956235014733, 7060.647776426538, 6852.8242367529, 6786.349658881294, 6013.178530039458, 5859.666797908327, 5331.873266561078, 5283.812328745045, 5187.3549725221355, 5176.245739161168, 4955.637888861008, 4662.9441553473935, 4096.8875218455105, 3827.389335006891, 3728.492331367714, 3603.0798604751617, 4292.112224564169, 43978.49807024321, 24782.523932183372, 19352.122052679017, 15324.792259761061, 15213.251555411489, 14689.921927725123, 19503.92089513543, 10120.51422050494, 7302.465051059854, 6619.099860413049, 6302.464989964543, 6224.984603374318, 7888.567071993343, 5773.72649816238, 5494.893054680229, 5481.911693576641, 9148.573350718938, 5271.14000828246, 5082.562896029155, 4955.755081758795, 4422.3347518431765, 4060.995850625645, 3421.7727393357377, 3327.0419490360955, 3279.630433310541, 3186.457057440629, 3108.712158990523, 2970.8877419492364, 2741.531972372659, 2768.444582182175, 7099.200879625482, 3024.5058005897977], \"Total\": [188499.0, 105318.0, 64814.0, 93283.0, 89135.0, 92514.0, 82527.0, 43979.0, 65335.0, 47020.0, 42018.0, 24783.0, 39678.0, 24421.0, 36534.0, 34814.0, 35038.0, 30702.0, 22866.0, 19505.0, 19352.0, 33300.0, 33003.0, 31649.0, 31576.0, 31239.0, 29357.0, 29311.0, 29723.0, 28399.0, 188499.49325627566, 92514.7360752493, 82527.18161234107, 47020.74407708397, 36534.618885433476, 35038.97682013557, 33300.77837438003, 33003.81477264495, 29723.281666235747, 22605.886102334836, 21472.23093015163, 18400.028759105287, 16192.885317891616, 14524.215757798926, 13813.296614513654, 13809.905621105436, 13298.303285184411, 13087.829841249439, 12102.837852733212, 11508.58845667616, 10597.052862959978, 10548.984920392515, 10277.236443441983, 10495.256799864079, 10039.44601093676, 9959.482524569827, 8967.152843428776, 8581.83892173305, 8244.030570425046, 7758.933831996925, 8698.944129617445, 105318.52501447384, 93283.61800945642, 89135.45760552588, 65335.43302761173, 42018.4771664322, 39678.18571407099, 34814.167617319734, 31576.416694469674, 31649.517285517923, 31239.199602181616, 29357.22554592681, 29311.41135449433, 28399.86176855324, 24686.76196303097, 24476.205496535906, 22717.649203901885, 21271.687776254774, 16672.70399351128, 15375.619498047603, 15367.443662854223, 12436.346015086798, 10155.498564286774, 10224.08789936039, 9839.13562046553, 9533.23603059386, 8766.961294370742, 8612.232469373885, 6975.6155311941275, 6750.815209105756, 6844.536156897722, 21929.976756835684, 8018.116834501439, 30702.84232939229, 23331.328279264228, 22711.851466224023, 21252.30963351912, 19179.996242650162, 18357.42946186203, 17978.054414829516, 16995.891378641743, 15974.717871331133, 14835.585370751358, 14639.84976224107, 12484.054622856998, 11519.582822823972, 11361.894140418415, 11137.11631193635, 10878.925752413166, 10361.965227609995, 10123.281213013881, 10033.506120238131, 10142.625062643374, 9978.088204476395, 9247.450526224822, 9995.832832388302, 9114.11371432772, 9662.41323776352, 8814.929080059, 7433.4059299041855, 7044.5253439406915, 6999.395224737911, 6793.830207461084, 14185.3407519863, 9002.66572584036, 14369.129999155613, 9042.956089421605, 64814.965645396485, 24421.05731629102, 22866.24525985546, 16014.244066891473, 14994.166893626943, 15531.546896447646, 13731.149204239138, 13519.033916406714, 12374.407975178978, 11155.723025717034, 10909.555128829079, 10208.562346579065, 9312.347142405473, 8276.240072520735, 8202.759539563742, 7061.454685111967, 6853.634386707566, 6787.172505335885, 6013.984579973401, 5860.473778381809, 5332.6798808435815, 5284.615029130036, 5188.154459933201, 5177.047205804476, 4956.441535439469, 4663.7552391516865, 4097.702189701118, 3828.1939519588404, 3729.288161470319, 3603.887665406424, 4929.2436397203655, 43979.363350037995, 24783.351585383534, 19352.955849131362, 15325.626927728581, 15214.098343883326, 14690.761744334166, 19505.068398625746, 10121.340636780806, 7303.315816846554, 6619.937585323765, 6303.297046924203, 6225.811309844036, 7889.650239392589, 5774.550533966223, 5495.719677275138, 5482.740309216604, 9149.975156195873, 5271.966596581052, 5083.390239344599, 4956.581335086808, 4423.171186217213, 4061.82894673644, 3422.607252595372, 3327.869337533232, 3280.473070193258, 3187.280764327935, 3109.5450638350558, 2971.7632069973256, 2742.3568725155988, 2769.277627322432, 7105.533088252183, 3025.463347470358], \"Category\": [\"Default\", \"Default\", \"Default\", \"Default\", \"Default\", \"Default\", \"Default\", \"Default\", \"Default\", \"Default\", \"Default\", \"Default\", \"Default\", \"Default\", \"Default\", \"Default\", \"Default\", \"Default\", \"Default\", \"Default\", \"Default\", \"Default\", \"Default\", \"Default\", \"Default\", \"Default\", \"Default\", \"Default\", \"Default\", \"Default\", \"Topic1\", \"Topic1\", \"Topic1\", \"Topic1\", \"Topic1\", \"Topic1\", \"Topic1\", \"Topic1\", \"Topic1\", \"Topic1\", \"Topic1\", \"Topic1\", \"Topic1\", \"Topic1\", \"Topic1\", \"Topic1\", \"Topic1\", \"Topic1\", \"Topic1\", \"Topic1\", \"Topic1\", \"Topic1\", \"Topic1\", \"Topic1\", \"Topic1\", \"Topic1\", \"Topic1\", \"Topic1\", \"Topic1\", \"Topic1\", \"Topic1\", \"Topic2\", \"Topic2\", \"Topic2\", \"Topic2\", \"Topic2\", \"Topic2\", \"Topic2\", \"Topic2\", \"Topic2\", \"Topic2\", \"Topic2\", \"Topic2\", \"Topic2\", \"Topic2\", \"Topic2\", \"Topic2\", \"Topic2\", \"Topic2\", \"Topic2\", \"Topic2\", \"Topic2\", \"Topic2\", \"Topic2\", \"Topic2\", \"Topic2\", \"Topic2\", \"Topic2\", \"Topic2\", \"Topic2\", \"Topic2\", \"Topic2\", \"Topic2\", \"Topic3\", \"Topic3\", \"Topic3\", \"Topic3\", \"Topic3\", \"Topic3\", \"Topic3\", \"Topic3\", \"Topic3\", \"Topic3\", \"Topic3\", \"Topic3\", \"Topic3\", \"Topic3\", \"Topic3\", \"Topic3\", \"Topic3\", \"Topic3\", \"Topic3\", \"Topic3\", \"Topic3\", \"Topic3\", \"Topic3\", \"Topic3\", \"Topic3\", \"Topic3\", \"Topic3\", \"Topic3\", \"Topic3\", \"Topic3\", \"Topic3\", \"Topic3\", \"Topic3\", \"Topic3\", \"Topic4\", \"Topic4\", \"Topic4\", \"Topic4\", \"Topic4\", \"Topic4\", \"Topic4\", \"Topic4\", \"Topic4\", \"Topic4\", \"Topic4\", \"Topic4\", \"Topic4\", \"Topic4\", \"Topic4\", \"Topic4\", \"Topic4\", \"Topic4\", \"Topic4\", \"Topic4\", \"Topic4\", \"Topic4\", \"Topic4\", \"Topic4\", \"Topic4\", \"Topic4\", \"Topic4\", \"Topic4\", \"Topic4\", \"Topic4\", \"Topic4\", \"Topic5\", \"Topic5\", \"Topic5\", \"Topic5\", \"Topic5\", \"Topic5\", \"Topic5\", \"Topic5\", \"Topic5\", \"Topic5\", \"Topic5\", \"Topic5\", \"Topic5\", \"Topic5\", \"Topic5\", \"Topic5\", \"Topic5\", \"Topic5\", \"Topic5\", \"Topic5\", \"Topic5\", \"Topic5\", \"Topic5\", \"Topic5\", \"Topic5\", \"Topic5\", \"Topic5\", \"Topic5\", \"Topic5\", \"Topic5\", \"Topic5\", \"Topic5\"], \"logprob\": [30.0, 29.0, 28.0, 27.0, 26.0, 25.0, 24.0, 23.0, 22.0, 21.0, 20.0, 19.0, 18.0, 17.0, 16.0, 15.0, 14.0, 13.0, 12.0, 11.0, 10.0, 9.0, 8.0, 7.0, 6.0, 5.0, 4.0, 3.0, 2.0, 1.0, -1.874, -2.5858, -2.7, -3.2625, -3.5149, -3.5567, -3.6076, -3.6165, -3.7212, -3.9949, -4.0464, -4.2008, -4.3286, -4.4373, -4.4875, -4.4878, -4.5255, -4.5415, -4.6197, -4.6701, -4.7526, -4.7572, -4.7833, -4.7623, -4.8067, -4.8147, -4.9196, -4.9636, -5.0037, -5.0644, -4.95, -2.4049, -2.5262, -2.5717, -2.8823, -3.3238, -3.3811, -3.5119, -3.6095, -3.6072, -3.6202, -3.6824, -3.6839, -3.7155, -3.8556, -3.8642, -3.9388, -4.0045, -4.2481, -4.3291, -4.3297, -4.5413, -4.7439, -4.7372, -4.7756, -4.8072, -4.891, -4.9088, -5.1196, -5.1523, -5.1385, -3.9742, -4.984, -3.5065, -3.7811, -3.808, -3.8744, -3.977, -4.0209, -4.0418, -4.0979, -4.1599, -4.2339, -4.2472, -4.4065, -4.4869, -4.5007, -4.5207, -4.5441, -4.5928, -4.6161, -4.625, -4.6142, -4.6306, -4.7066, -4.6288, -4.7211, -4.6627, -4.7545, -4.925, -4.9787, -4.9852, -5.015, -4.2811, -4.7338, -4.3491, -4.7669, -2.2651, -3.2412, -3.307, -3.6632, -3.729, -3.6938, -3.817, -3.8326, -3.9211, -4.0247, -4.0471, -4.1135, -4.2054, -4.3233, -4.3323, -4.4821, -4.512, -4.5217, -4.6427, -4.6685, -4.7629, -4.772, -4.7904, -4.7925, -4.8361, -4.897, -5.0264, -5.0944, -5.1206, -5.1548, -4.9798, -2.3654, -2.9389, -3.1863, -3.4196, -3.4269, -3.4619, -3.1785, -3.8345, -4.1609, -4.2591, -4.3081, -4.3205, -4.0837, -4.3958, -4.4453, -4.4476, -3.9355, -4.4868, -4.5233, -4.5485, -4.6624, -4.7477, -4.9189, -4.947, -4.9614, -4.9902, -5.0149, -5.0602, -5.1406, -5.1308, -4.1891, -5.0423], \"loglift\": [30.0, 29.0, 28.0, 27.0, 26.0, 25.0, 24.0, 23.0, 22.0, 21.0, 20.0, 19.0, 18.0, 17.0, 16.0, 15.0, 14.0, 13.0, 12.0, 11.0, 10.0, 9.0, 8.0, 7.0, 6.0, 5.0, 4.0, 3.0, 2.0, 1.0, 1.3011, 1.3011, 1.3011, 1.301, 1.301, 1.301, 1.301, 1.301, 1.301, 1.301, 1.301, 1.301, 1.301, 1.301, 1.301, 1.301, 1.301, 1.301, 1.301, 1.301, 1.301, 1.301, 1.301, 1.301, 1.301, 1.301, 1.301, 1.301, 1.301, 1.301, 1.3009, 1.3523, 1.3523, 1.3523, 1.3523, 1.3523, 1.3523, 1.3523, 1.3523, 1.3523, 1.3523, 1.3523, 1.3523, 1.3523, 1.3523, 1.3523, 1.3523, 1.3523, 1.3523, 1.3523, 1.3523, 1.3522, 1.3522, 1.3522, 1.3522, 1.3522, 1.3522, 1.3522, 1.3522, 1.3522, 1.3522, 1.3521, 1.3484, 1.4833, 1.4833, 1.4833, 1.4833, 1.4833, 1.4833, 1.4833, 1.4833, 1.4833, 1.4832, 1.4832, 1.4832, 1.4832, 1.4832, 1.4832, 1.4832, 1.4832, 1.4832, 1.4832, 1.4832, 1.4832, 1.4832, 1.4832, 1.4832, 1.4832, 1.4832, 1.4832, 1.4832, 1.4832, 1.4832, 1.4808, 1.4829, 1.4, 1.4453, 1.9775, 1.9775, 1.9775, 1.9775, 1.9775, 1.9775, 1.9775, 1.9775, 1.9775, 1.9775, 1.9775, 1.9775, 1.9775, 1.9774, 1.9774, 1.9774, 1.9774, 1.9774, 1.9774, 1.9774, 1.9774, 1.9774, 1.9774, 1.9774, 1.9774, 1.9774, 1.9773, 1.9773, 1.9773, 1.9773, 1.8391, 2.2651, 2.2651, 2.265, 2.265, 2.265, 2.265, 2.265, 2.265, 2.265, 2.265, 2.265, 2.265, 2.2649, 2.2649, 2.2649, 2.2649, 2.2649, 2.2649, 2.2649, 2.2649, 2.2649, 2.2649, 2.2648, 2.2648, 2.2648, 2.2648, 2.2648, 2.2648, 2.2648, 2.2648, 2.2642, 2.2648]}, \"token.table\": {\"Topic\": [1, 4, 2, 1, 1, 5, 1, 3, 1, 2, 3, 4, 5, 1, 2, 3, 4, 5, 4, 3, 1, 5, 5, 2, 5, 2, 4, 1, 1, 4, 3, 3, 2, 5, 3, 3, 1, 4, 3, 1, 1, 4, 5, 4, 4, 1, 2, 3, 4, 5, 5, 3, 3, 4, 3, 1, 4, 4, 2, 3, 3, 2, 1, 2, 4, 5, 3, 3, 2, 3, 3, 2, 1, 2, 3, 4, 5, 1, 2, 3, 4, 5, 1, 2, 3, 4, 5, 5, 5, 3, 2, 5, 1, 5, 1, 3, 1, 2, 3, 4, 5, 1, 4, 1, 2, 2, 1, 4, 2, 2, 2, 3, 2, 2, 1, 2, 4, 2, 4, 5, 1, 2, 3, 4, 5, 5, 5, 5, 2, 3, 1, 2, 2, 4, 5, 5, 2, 3, 4, 2, 3, 3, 1, 5, 4, 1, 2, 1, 2, 4, 5, 4, 5, 1, 5, 3, 1, 4, 1, 3, 3, 4, 2, 2, 1, 5, 3, 5, 1, 2, 1, 4, 1, 4, 5, 5, 4, 4, 4, 3, 5, 2, 4, 5, 1, 5, 4, 1, 5, 3, 5, 3], \"Freq\": [0.9999920436972474, 0.9999074043850635, 0.9999507482262283, 0.9999307722086831, 0.9998749919209733, 0.9997942272251257, 0.9999066336334778, 0.9998909405835973, 4.559968353310247e-05, 0.9997730614632716, 9.119936706620494e-05, 4.559968353310247e-05, 4.559968353310247e-05, 0.00028147078835037264, 0.00014073539417518632, 0.00042220618252555896, 0.00014073539417518632, 0.9990805632496478, 0.9999191569829121, 0.9999435344447312, 0.9999061328696662, 0.999869866493608, 0.999923232463725, 0.9999117595871827, 0.9997387705330173, 0.9999886438903934, 0.999985101505696, 0.9999515512408766, 0.9999766259403525, 0.9999235214281503, 0.9999254252181599, 0.9999430688536748, 0.9999721771100307, 0.9997959178618032, 0.9999495569911389, 0.9999413498921971, 0.9999488680407355, 0.9997774815799882, 0.9999419555354139, 0.9999973832487975, 0.9999022445258294, 0.9998836189340858, 0.9999858136466199, 0.9999221768281478, 0.9999223149786979, 0.0013718932047320277, 0.9961191841995186, 0.0009977405125323837, 0.0012471756406654795, 0.00024943512813309593, 0.9998934252629951, 0.9998734389584838, 0.9999453911291791, 0.999910916847034, 0.9999166820411799, 0.9999753127736728, 0.9996881161263448, 0.999850164747534, 0.9999933722393551, 0.999948058245812, 0.9998997665189908, 0.999969134751973, 0.9999856821435316, 0.9999615994584723, 0.9999356102768846, 0.9998225760215662, 0.9999155224092766, 0.9998778033319939, 0.999921666437954, 0.9999605427937807, 0.9999512810343192, 0.9998568931600177, 0.00011107821066039353, 0.00011107821066039353, 0.9995928177328813, 0.00011107821066039353, 0.00011107821066039353, 0.001762382760985095, 0.0004229718626364228, 0.9975086427175639, 0.0001409906208788076, 0.0001409906208788076, 0.004755082251289613, 0.00187991623888194, 0.9627382809238924, 0.0033174992450857766, 0.02720349380970337, 0.9998557920814664, 0.9999506096567979, 0.9999149040599932, 0.9999948661785313, 0.9999481480710516, 0.999916294427238, 0.9999590928494124, 0.9999344223537595, 0.999955062033839, 0.02442736616765428, 0.024984115254096544, 0.9200278653458392, 0.011900511722703367, 0.018720688031621087, 0.9999453267361414, 0.9999627223512865, 0.9998714370716207, 0.9999582540276195, 0.999884581277326, 0.9998914661821737, 0.999838062009484, 0.999995014984555, 0.9999701167266181, 0.9999577756846427, 0.9999068489819457, 0.9999711296905357, 0.9999509069610302, 0.9999608021410519, 0.9999933749411782, 0.9999670307315068, 0.999959709067483, 0.9998272468638504, 0.9998166535080707, 0.016026799601344444, 0.04077704708696498, 0.06775887426391196, 0.8707218213793717, 0.00466603026368256, 0.9998696860852893, 0.9999452245639999, 0.9999175832422402, 0.9998792428646756, 0.9999475532867395, 0.9999555741485862, 0.9999836558165088, 0.9999696558891636, 0.9999351879106924, 0.999966344697503, 0.9998198329526543, 0.9999714229277836, 0.9999494059087959, 0.9996545824794051, 0.9999859660632048, 0.9998777997924982, 0.9999213035777869, 0.9998796910581178, 0.9998649745975822, 0.9999074379122417, 0.9999365944347149, 0.9999868036175952, 0.999900645682003, 0.9998935944828431, 0.9998286381809584, 0.9998583694616935, 0.9997536922654542, 0.9995386423846324, 0.9998796442891323, 0.9998468507408146, 0.9999383768850679, 0.9999841755570106, 0.999836284918874, 0.999972121898976, 0.999972565100545, 0.9999625100478801, 0.9997977214109035, 0.9998703451178704, 0.9999676670576398, 0.9999830603013702, 0.9997352157156244, 0.9999766055556459, 0.9999690002325149, 0.9998802506800887, 0.9998903503348009, 0.9999440892664486, 0.9998725067210533, 0.9999426733926422, 0.9999449142239648, 0.99990466202296, 0.9998247126753701, 0.9999455415683114, 0.9999567047291473, 0.999964788024574, 0.999957232447697, 0.9999278074941741, 0.9999664614322373, 0.9999163067692263, 0.999598163945182, 0.9999568800561749, 0.9997431804137259, 0.9999491153559862, 0.9999019961301482, 0.9998690476739355, 0.9999383726954794, 0.999882714506732, 0.9998946015276399], \"Term\": [\"\\uac00\\uaca9\", \"\\uac00\\ub2a5\", \"\\uac00\\ubccd\", \"\\uac10\\uc0ac\", \"\\uac15\\ucd94\", \"\\uac19\\uc774\", \"\\uac70\\uc2e4\", \"\\uac71\\uc815\", \"\\uac78\\ub808\", \"\\uac78\\ub808\", \"\\uac78\\ub808\", \"\\uac78\\ub808\", \"\\uac78\\ub808\", \"\\uac78\\ub808\\uc9c8\", \"\\uac78\\ub808\\uc9c8\", \"\\uac78\\ub808\\uc9c8\", \"\\uac78\\ub808\\uc9c8\", \"\\uac78\\ub808\\uc9c8\", \"\\uaca8\\uc6b8\", \"\\uacc4\\uc18d\", \"\\uace0\\ubbfc\", \"\\uace0\\uc591\\uc774\", \"\\uace0\\uc815\", \"\\uacf5\\uac04\", \"\\uad00\\ub9ac\", \"\\uad1c\\ucc2e\", \"\\uad6c\\ub9e4\", \"\\uad6c\\uc131\", \"\\uad6c\\uc131\\ube44\", \"\\uad6c\\uc785\", \"\\uadc0\\ucc2e\", \"\\uadf8\\ub0e5\", \"\\uadf8\\ub798\\ub3c4\", \"\\uadf8\\ub7f0\", \"\\uadf8\\ub9ac\\uace0\", \"\\uadfc\\ub370\", \"\\uae30\\ub300\", \"\\uae38\\uc774\", \"\\ub098\\uc624\", \"\\ub108\\ubb34\", \"\\ub108\\ubb34\\ub108\\ubb34\", \"\\ub192\\uc774\", \"\\ub290\\ub08c\", \"\\ub2e4\\ub978\", \"\\ub2e4\\ub9ac\", \"\\ub2e4\\ub9ac\\ubbf8\", \"\\ub2e4\\ub9ac\\ubbf8\", \"\\ub2e4\\ub9ac\\ubbf8\", \"\\ub2e4\\ub9ac\\ubbf8\", \"\\ub2e4\\ub9ac\\ubbf8\", \"\\ub2e4\\ub9bc\\uc9c8\", \"\\ub2e4\\ub9cc\", \"\\ub2e4\\uc2dc\", \"\\ub2e4\\uc74c\", \"\\ub2e6\\uc774\", \"\\ub300\\ube44\", \"\\ub355\\ubd84\", \"\\ub4e4\\uc5b4\\uac00\", \"\\ub514\\uc790\\uc778\", \"\\ub7ec\\uadf8\", \"\\ub9ac\\ubdf0\", \"\\ub9c8\\uc74c\", \"\\ub9cc\\uc871\", \"\\ub9ce\\uc774\", \"\\ub9e4\\uc6b0\", \"\\ub9e4\\uc77c\", \"\\uba3c\\uc9c0\", \"\\ubaa8\\ub974\", \"\\ubaa8\\uc591\", \"\\ubb34\\uac81\", \"\\ubb34\\uac8c\", \"\\ubb3c\\uac74\", \"\\ubb3c\\uac78\\ub808\", \"\\ubb3c\\uac78\\ub808\", \"\\ubb3c\\uac78\\ub808\", \"\\ubb3c\\uac78\\ub808\", \"\\ubb3c\\uac78\\ub808\", \"\\ubb3c\\ud1b5\", \"\\ubb3c\\ud1b5\", \"\\ubb3c\\ud1b5\", \"\\ubb3c\\ud1b5\", \"\\ubb3c\\ud1b5\", \"\\ubc00\\ub300\", \"\\ubc00\\ub300\", \"\\ubc00\\ub300\", \"\\ubc00\\ub300\", \"\\ubc00\\ub300\", \"\\ubc00\\ub9ac\", \"\\ubc14\\ub2e5\", \"\\ubc14\\ub85c\", \"\\ubc30\\uc1a1\", \"\\ubcf4\\ub4e4\\ubcf4\\ub4e4\", \"\\ubcf4\\uc774\", \"\\ubd80\\ub4dc\\ub7fd\", \"\\ubd80\\ub4e4\\ubd80\\ub4e4\", \"\\ubd80\\ubd84\", \"\\ubd84\\uc0ac\", \"\\ubd84\\uc0ac\", \"\\ubd84\\uc0ac\", \"\\ubd84\\uc0ac\", \"\\ubd84\\uc0ac\", \"\\ubd84\\uc704\\uae30\", \"\\ubd88\\ud3b8\", \"\\ube0c\\ub77c\\uc6b4\", \"\\ube60\\ub974\", \"\\ube68\\ub9ac\", \"\\ubfcc\\ub9ac\", \"\\uc0ac\\ub78c\", \"\\uc0ac\\uc6a9\", \"\\uc0ac\\uc774\\uc988\", \"\\uc0ac\\uc9c4\", \"\\uc0b4\\uc9dd\", \"\\uc0c1\\ud488\", \"\\uc0c9\\uae54\", \"\\uc0c9\\uc0c1\", \"\\uc0dd\\uac01\", \"\\uc120\\ubb3c\", \"\\uc124\\uce58\", \"\\uc131\\ub2a5\", \"\\uc138\\ud0c1\", \"\\uc154\\uce20\", \"\\uc154\\uce20\", \"\\uc154\\uce20\", \"\\uc154\\uce20\", \"\\uc154\\uce20\", \"\\uc18c\\ub9ac\", \"\\uc2a4\\ud300\", \"\\uc2a4\\ud300\\ub2e4\\ub9ac\\ubbf8\", \"\\uc2ec\\ud50c\", \"\\uc544\\ub2c8\", \"\\uc544\\uc774\\ubcf4\\ub9ac\", \"\\uc544\\uc8fc\", \"\\uc544\\uc9c1\", \"\\uc554\\ub9c9\", \"\\uc57d\\uac04\", \"\\uc5c4\\ub9c8\", \"\\uc5c4\\uccad\", \"\\uc5c6\\uc774\", \"\\uc5ec\\uc790\", \"\\uc608\\uc058\", \"\\uc624\\ub298\", \"\\uc624\\ub798\", \"\\uc644\\uc804\", \"\\uc6d0\\ub8f8\", \"\\uc720\\uc6a9\", \"\\uc774\\uac70\", \"\\uc774\\uc058\", \"\\uc778\\ud14c\\ub9ac\\uc5b4\", \"\\uc77c\\ub2e8\", \"\\uc790\\uafb8\", \"\\uc790\\uc8fc\", \"\\uc790\\ucde8\", \"\\uc790\\ucde8\\ubc29\", \"\\uc7ac\\uc9c8\", \"\\uc811\\uc774\\uc2dd\", \"\\uc815\\ub3c4\", \"\\uc815\\ub9d0\", \"\\uc81c\\uc77c\", \"\\uc81c\\ud488\", \"\\uc870\\uae08\", \"\\uc870\\ub9bd\", \"\\uc870\\uc808\", \"\\uc8fc\\ub984\", \"\\uc8fc\\ubb38\", \"\\uc9c4\\uc9dc\", \"\\ucc45\\uc0c1\", \"\\ucc98\\uc74c\", \"\\uccad\\uc18c\", \"\\uccad\\uc18c\\uae30\", \"\\ucd09\\uac10\", \"\\ucd5c\\uace0\", \"\\ucd94\\uac00\", \"\\ucd94\\ucc9c\", \"\\uce5c\\uad6c\", \"\\uce68\\ub300\", \"\\uce74\\ud3ab\", \"\\ucee4\\ud2bc\", \"\\ud06c\\uae30\", \"\\ud14c\\uc774\\ube14\", \"\\ud3b4\\uc9c0\", \"\\ud3b8\\ub9ac\", \"\\ud3b8\\ud558\", \"\\ud544\\uc694\", \"\\ud551\\ud06c\", \"\\ud558\\ub098\", \"\\ud5c8\\ub9ac\", \"\\ud63c\\uc790\", \"\\ud654\\uc774\\ud2b8\", \"\\ud6a8\\uacfc\", \"\\ud6c4\\uae30\", \"\\ud770\\uc0c9\", \"\\ud798\\ub4e4\"]}, \"R\": 30, \"lambda.step\": 0.01, \"plot.opts\": {\"xlab\": \"PC1\", \"ylab\": \"PC2\"}, \"topic.order\": [1, 5, 2, 4, 3]};\n",
       "\n",
       "function LDAvis_load_lib(url, callback){\n",
       "  var s = document.createElement('script');\n",
       "  s.src = url;\n",
       "  s.async = true;\n",
       "  s.onreadystatechange = s.onload = callback;\n",
       "  s.onerror = function(){console.warn(\"failed to load library \" + url);};\n",
       "  document.getElementsByTagName(\"head\")[0].appendChild(s);\n",
       "}\n",
       "\n",
       "if(typeof(LDAvis) !== \"undefined\"){\n",
       "   // already loaded: just create the visualization\n",
       "   !function(LDAvis){\n",
       "       new LDAvis(\"#\" + \"ldavis_el97121398243848744403986215939\", ldavis_el97121398243848744403986215939_data);\n",
       "   }(LDAvis);\n",
       "}else if(typeof define === \"function\" && define.amd){\n",
       "   // require.js is available: use it to load d3/LDAvis\n",
       "   require.config({paths: {d3: \"https://d3js.org/d3.v5\"}});\n",
       "   require([\"d3\"], function(d3){\n",
       "      window.d3 = d3;\n",
       "      LDAvis_load_lib(\"https://cdn.jsdelivr.net/gh/bmabey/pyLDAvis@3.3.1/pyLDAvis/js/ldavis.v3.0.0.js\", function(){\n",
       "        new LDAvis(\"#\" + \"ldavis_el97121398243848744403986215939\", ldavis_el97121398243848744403986215939_data);\n",
       "      });\n",
       "    });\n",
       "}else{\n",
       "    // require.js not available: dynamically load d3 & LDAvis\n",
       "    LDAvis_load_lib(\"https://d3js.org/d3.v5.js\", function(){\n",
       "         LDAvis_load_lib(\"https://cdn.jsdelivr.net/gh/bmabey/pyLDAvis@3.3.1/pyLDAvis/js/ldavis.v3.0.0.js\", function(){\n",
       "                 new LDAvis(\"#\" + \"ldavis_el97121398243848744403986215939\", ldavis_el97121398243848744403986215939_data);\n",
       "            })\n",
       "         });\n",
       "}\n",
       "</script>"
      ],
      "text/plain": [
       "PreparedData(topic_coordinates=              x         y  topics  cluster       Freq\n",
       "topic                                                \n",
       "0      0.369372 -0.223858       1        1  27.224228\n",
       "4     -0.310846 -0.299458       2        1  25.864188\n",
       "1     -0.023241  0.218524       3        1  22.688618\n",
       "3     -0.021467  0.144812       4        1  13.840855\n",
       "2     -0.013818  0.159981       5        1  10.382111, topic_info=      Term           Freq          Total Category  logprob  loglift\n",
       "52      너무  188499.000000  188499.000000  Default  30.0000  30.0000\n",
       "296     사용  105318.000000  105318.000000  Default  29.0000  29.0000\n",
       "2       구매   64814.000000   64814.000000  Default  28.0000  28.0000\n",
       "116     생각   93283.000000   93283.000000  Default  27.0000  27.0000\n",
       "73      배송   89135.000000   89135.000000  Default  26.0000  26.0000\n",
       "...    ...            ...            ...      ...      ...      ...\n",
       "5641    허리    2970.887742    2971.763207   Topic5  -5.0602   2.2648\n",
       "928    고양이    2741.531972    2742.356873   Topic5  -5.1406   2.2648\n",
       "271    자취방    2768.444582    2769.277627   Topic5  -5.1308   2.2648\n",
       "13113  걸레질    7099.200880    7105.533088   Topic5  -4.1891   2.2642\n",
       "5667   접이식    3024.505801    3025.463347   Topic5  -5.0423   2.2648\n",
       "\n",
       "[190 rows x 6 columns], token_table=      Topic      Freq Term\n",
       "term                      \n",
       "193       1  0.999992   가격\n",
       "334       4  0.999907   가능\n",
       "935       2  0.999951   가볍\n",
       "40        1  0.999931   감사\n",
       "390       1  0.999875   강추\n",
       "...     ...       ...  ...\n",
       "25        1  0.999902  화이트\n",
       "160       5  0.999869   효과\n",
       "98        3  0.999938   후기\n",
       "63        5  0.999883   흰색\n",
       "337       3  0.999895   힘들\n",
       "\n",
       "[192 rows x 3 columns], R=30, lambda_step=0.01, plot_opts={'xlab': 'PC1', 'ylab': 'PC2'}, topic_order=[1, 5, 2, 4, 3])"
      ]
     },
     "execution_count": 32,
     "metadata": {},
     "output_type": "execute_result"
    }
   ],
   "source": [
    "# pyLDAvis 불러오기\n",
    "import pyLDAvis\n",
    "import pyLDAvis.gensim_models\n",
    "\n",
    "# pyLDAvis를 jupyter notebook에서 실행할 수 있게 활성화.\n",
    "pyLDAvis.enable_notebook()\n",
    "\n",
    "# pyLDAvis 실행.\n",
    "data = pyLDAvis.gensim_models.prepare(selected_model, corpus, dictionary)\n",
    "data\n",
    "\n",
    "# LDAvis 는 토픽에서 단어가 발생할 확률 벡터인 \n",
    "# P(w|t)  에 Principal Component Analysis (PCA) 를 적용하여 2 차원의 벡터로 압축\n",
    "\n",
    "# 각 토픽에서 단어가 발생할 확률 P(w|t)\n",
    "# 단어의 기본 발생 확률로 정규화한 P(w|t)/P(w)가 λ에 의하여 조합되어 계산\n",
    "# 사용자는 λ 를 조절하며 각 토픽에 주로 등장하는 단어와, 다른 단어와 차별성이 높은 단어들을 살펴볼 수 있습니다."
   ]
  },
  {
   "cell_type": "code",
   "execution_count": null,
   "id": "59cc6c2c",
   "metadata": {},
   "outputs": [],
   "source": []
  },
  {
   "cell_type": "code",
   "execution_count": null,
   "id": "ea782c85",
   "metadata": {},
   "outputs": [],
   "source": []
  }
 ],
 "metadata": {
  "kernelspec": {
   "display_name": "Python 3",
   "language": "python",
   "name": "python3"
  },
  "language_info": {
   "codemirror_mode": {
    "name": "ipython",
    "version": 3
   },
   "file_extension": ".py",
   "mimetype": "text/x-python",
   "name": "python",
   "nbconvert_exporter": "python",
   "pygments_lexer": "ipython3",
   "version": "3.7.0"
  }
 },
 "nbformat": 4,
 "nbformat_minor": 5
}
