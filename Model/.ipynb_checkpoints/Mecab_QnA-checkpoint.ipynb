{
 "cells": [
  {
   "cell_type": "markdown",
   "metadata": {
    "id": "hWFy9uwnoUo8"
   },
   "source": [
    "## 라이브러리"
   ]
  },
  {
   "cell_type": "code",
   "execution_count": 1,
   "metadata": {
    "executionInfo": {
     "elapsed": 11855,
     "status": "ok",
     "timestamp": 1620829607625,
     "user": {
      "displayName": "이정은",
      "photoUrl": "",
      "userId": "04796680705640849664"
     },
     "user_tz": -540
    },
    "id": "jMpwHfr_A0HV"
   },
   "outputs": [],
   "source": [
    "import os\n",
    "\n",
    "import numpy as np\n",
    "import pandas as pd\n",
    "from sklearn.model_selection import train_test_split\n",
    "\n",
    "from tqdm.notebook import tqdm\n",
    "\n",
    "import re\n",
    "import pickle\n",
    "\n",
    "from konlpy.tag import Mecab"
   ]
  },
  {
   "cell_type": "code",
   "execution_count": 2,
   "metadata": {},
   "outputs": [],
   "source": [
    "base_path = '/home/hyejeongeun/chatbot/Data/QnA/'\n",
    "save_path = '/home/hyejeongeun/chatbot/Data/QnA/'"
   ]
  },
  {
   "cell_type": "markdown",
   "metadata": {
    "id": "-opdOzHm_78_"
   },
   "source": [
    "## 데이터 로드"
   ]
  },
  {
   "cell_type": "code",
   "execution_count": 3,
   "metadata": {
    "executionInfo": {
     "elapsed": 13297,
     "status": "ok",
     "timestamp": 1620829612945,
     "user": {
      "displayName": "이정은",
      "photoUrl": "",
      "userId": "04796680705640849664"
     },
     "user_tz": -540
    },
    "id": "1fww3-oR_6hW",
    "scrolled": true
   },
   "outputs": [],
   "source": [
    "df = pd.read_csv(base_path+'qna_table_hanspell.csv')"
   ]
  },
  {
   "cell_type": "code",
   "execution_count": 4,
   "metadata": {
    "scrolled": false
   },
   "outputs": [
    {
     "data": {
      "text/html": [
       "<div>\n",
       "<style scoped>\n",
       "    .dataframe tbody tr th:only-of-type {\n",
       "        vertical-align: middle;\n",
       "    }\n",
       "\n",
       "    .dataframe tbody tr th {\n",
       "        vertical-align: top;\n",
       "    }\n",
       "\n",
       "    .dataframe thead th {\n",
       "        text-align: right;\n",
       "    }\n",
       "</style>\n",
       "<table border=\"1\" class=\"dataframe\">\n",
       "  <thead>\n",
       "    <tr style=\"text-align: right;\">\n",
       "      <th></th>\n",
       "      <th>product_id</th>\n",
       "      <th>product_name</th>\n",
       "      <th>product_option</th>\n",
       "      <th>user_id</th>\n",
       "      <th>user_buyer</th>\n",
       "      <th>is_secret</th>\n",
       "      <th>label</th>\n",
       "      <th>question</th>\n",
       "      <th>question_time</th>\n",
       "      <th>answer</th>\n",
       "      <th>answer_time</th>\n",
       "      <th>question_clean</th>\n",
       "      <th>answer_clean</th>\n",
       "      <th>question_spellcheck</th>\n",
       "      <th>answer_spellcheck</th>\n",
       "    </tr>\n",
       "  </thead>\n",
       "  <tbody>\n",
       "    <tr>\n",
       "      <th>0</th>\n",
       "      <td>388715</td>\n",
       "      <td>순수원목 A사이드테이블 3colors</td>\n",
       "      <td>A사이드테이블 / 우드</td>\n",
       "      <td>3077236</td>\n",
       "      <td>True</td>\n",
       "      <td>False</td>\n",
       "      <td>환불</td>\n",
       "      <td>상부 연결 목재 중 하나가 나사산이 덜 파져 있네요;; 조립하다 목재가 갈라져버립니...</td>\n",
       "      <td>2021-03-18T16:52:34.000+09:00</td>\n",
       "      <td>안녕하세요 고객님 먼데이하우스입니다.\\r\\n불편을 드려 죄송합니다.\\r\\n유선상 연...</td>\n",
       "      <td>2021-03-18T18:19:46.000+09:00</td>\n",
       "      <td>상부 연결 목재 중 하나가 나사산이 덜 파져 있네요 조립하다 목재가 갈라져버립니다 ...</td>\n",
       "      <td>안녕하세요 고객님 먼데이하우스입니다 불편을 드려 죄송합니다 유선상 연락을 드렸으나 ...</td>\n",
       "      <td>&lt;None&gt;</td>\n",
       "      <td>안녕하세요 고객님 먼데이 하우스입니다 불편을 드려 죄송합니다 유선상 연락을 드렸으나...</td>\n",
       "    </tr>\n",
       "  </tbody>\n",
       "</table>\n",
       "</div>"
      ],
      "text/plain": [
       "   product_id          product_name product_option  user_id  user_buyer  \\\n",
       "0      388715  순수원목 A사이드테이블 3colors   A사이드테이블 / 우드  3077236        True   \n",
       "\n",
       "   is_secret label                                           question  \\\n",
       "0      False    환불  상부 연결 목재 중 하나가 나사산이 덜 파져 있네요;; 조립하다 목재가 갈라져버립니...   \n",
       "\n",
       "                   question_time  \\\n",
       "0  2021-03-18T16:52:34.000+09:00   \n",
       "\n",
       "                                              answer  \\\n",
       "0  안녕하세요 고객님 먼데이하우스입니다.\\r\\n불편을 드려 죄송합니다.\\r\\n유선상 연...   \n",
       "\n",
       "                     answer_time  \\\n",
       "0  2021-03-18T18:19:46.000+09:00   \n",
       "\n",
       "                                      question_clean  \\\n",
       "0  상부 연결 목재 중 하나가 나사산이 덜 파져 있네요 조립하다 목재가 갈라져버립니다 ...   \n",
       "\n",
       "                                        answer_clean question_spellcheck  \\\n",
       "0  안녕하세요 고객님 먼데이하우스입니다 불편을 드려 죄송합니다 유선상 연락을 드렸으나 ...              <None>   \n",
       "\n",
       "                                   answer_spellcheck  \n",
       "0  안녕하세요 고객님 먼데이 하우스입니다 불편을 드려 죄송합니다 유선상 연락을 드렸으나...  "
      ]
     },
     "execution_count": 4,
     "metadata": {},
     "output_type": "execute_result"
    }
   ],
   "source": [
    "df[:1]"
   ]
  },
  {
   "cell_type": "code",
   "execution_count": 5,
   "metadata": {},
   "outputs": [
    {
     "data": {
      "text/plain": [
       "(95190, 15)"
      ]
     },
     "execution_count": 5,
     "metadata": {},
     "output_type": "execute_result"
    }
   ],
   "source": [
    "df.shape"
   ]
  },
  {
   "cell_type": "code",
   "execution_count": 6,
   "metadata": {},
   "outputs": [],
   "source": [
    "# hanspell 이후 <None> 제거\n",
    "df = df[(df['question_spellcheck']!='<None>')&(df['answer_spellcheck']!='<None>')]\n",
    "df.reset_index(drop=True, inplace=True)"
   ]
  },
  {
   "cell_type": "code",
   "execution_count": 7,
   "metadata": {},
   "outputs": [
    {
     "data": {
      "text/plain": [
       "(94999, 15)"
      ]
     },
     "execution_count": 7,
     "metadata": {},
     "output_type": "execute_result"
    }
   ],
   "source": [
    "df.shape"
   ]
  },
  {
   "cell_type": "markdown",
   "metadata": {
    "id": "qhnMbTidqTOP"
   },
   "source": [
    "## Mecab"
   ]
  },
  {
   "cell_type": "code",
   "execution_count": 8,
   "metadata": {
    "executionInfo": {
     "elapsed": 388416,
     "status": "ok",
     "timestamp": 1620830017122,
     "user": {
      "displayName": "이정은",
      "photoUrl": "",
      "userId": "04796680705640849664"
     },
     "user_tz": -540
    },
    "id": "f5jllpeE_4J3"
   },
   "outputs": [],
   "source": [
    "mecab = Mecab()"
   ]
  },
  {
   "cell_type": "code",
   "execution_count": 9,
   "metadata": {},
   "outputs": [],
   "source": [
    "def make_mecab_tokens(comment):\n",
    "\n",
    "    # mecab 돌리기\n",
    "    comment_mecab = []\n",
    "    for i in range(len(comment)):\n",
    "        if comment[i] == 'NaN':\n",
    "            comment_mecab.append('nan')\n",
    "        else:\n",
    "            comment_mecab.append(mecab.pos(comment[i]))\n",
    "\n",
    "    # 조사 제거\n",
    "    morpheme = ['NNG','NNP','NNB','NNBC','NR','NP','VV','VA','VX','VCP','VCN','MM','MAG','MAJ','IC']    \n",
    "    tmp = []\n",
    "    comment_tokens = []\n",
    "    \n",
    "    for tok in comment_mecab:\n",
    "        for t in tok:\n",
    "            if t[1] in morpheme:\n",
    "                tmp.append(t[0])\n",
    "        if len(tmp)==0:\n",
    "            comment_tokens.append('')\n",
    "        else:\n",
    "            comment_tokens.append(tmp)\n",
    "        tmp = []\n",
    "\n",
    "    # 한 문장으로 결합\n",
    "    comment_tokens_str = [' '.join(re) for re in comment_tokens]\n",
    "\n",
    "    return comment_tokens_str"
   ]
  },
  {
   "cell_type": "code",
   "execution_count": 10,
   "metadata": {
    "scrolled": true
   },
   "outputs": [],
   "source": [
    "# question\n",
    "question = df['question_spellcheck'].astype(str)\n",
    "\n",
    "df['question_mecab'] = make_mecab_tokens(question)"
   ]
  },
  {
   "cell_type": "code",
   "execution_count": 11,
   "metadata": {},
   "outputs": [],
   "source": [
    "# answer\n",
    "answer = df['answer_spellcheck'].astype(str)\n",
    "\n",
    "df['answer_mecab'] = make_mecab_tokens(answer)"
   ]
  },
  {
   "cell_type": "code",
   "execution_count": 12,
   "metadata": {},
   "outputs": [],
   "source": [
    "df = df[(df['question_mecab']!='')&(df['answer_mecab']!='')] # NaN 제거\n",
    "df.reset_index(drop=True, inplace=True)"
   ]
  },
  {
   "cell_type": "code",
   "execution_count": 13,
   "metadata": {},
   "outputs": [
    {
     "data": {
      "text/plain": [
       "(94742, 17)"
      ]
     },
     "execution_count": 13,
     "metadata": {},
     "output_type": "execute_result"
    }
   ],
   "source": [
    "df.shape"
   ]
  },
  {
   "cell_type": "code",
   "execution_count": 29,
   "metadata": {},
   "outputs": [
    {
     "data": {
      "text/html": [
       "<div>\n",
       "<style scoped>\n",
       "    .dataframe tbody tr th:only-of-type {\n",
       "        vertical-align: middle;\n",
       "    }\n",
       "\n",
       "    .dataframe tbody tr th {\n",
       "        vertical-align: top;\n",
       "    }\n",
       "\n",
       "    .dataframe thead th {\n",
       "        text-align: right;\n",
       "    }\n",
       "</style>\n",
       "<table border=\"1\" class=\"dataframe\">\n",
       "  <thead>\n",
       "    <tr style=\"text-align: right;\">\n",
       "      <th></th>\n",
       "      <th>product_id</th>\n",
       "      <th>product_name</th>\n",
       "      <th>product_option</th>\n",
       "      <th>user_id</th>\n",
       "      <th>user_buyer</th>\n",
       "      <th>is_secret</th>\n",
       "      <th>label</th>\n",
       "      <th>question</th>\n",
       "      <th>question_time</th>\n",
       "      <th>answer</th>\n",
       "      <th>answer_time</th>\n",
       "      <th>question_clean</th>\n",
       "      <th>answer_clean</th>\n",
       "      <th>question_spellcheck</th>\n",
       "      <th>answer_spellcheck</th>\n",
       "      <th>question_mecab</th>\n",
       "      <th>answer_mecab</th>\n",
       "    </tr>\n",
       "  </thead>\n",
       "  <tbody>\n",
       "    <tr>\n",
       "      <th>0</th>\n",
       "      <td>388715</td>\n",
       "      <td>순수원목 A사이드테이블 3colors</td>\n",
       "      <td>A사이드테이블 / 우드</td>\n",
       "      <td>3076525</td>\n",
       "      <td>True</td>\n",
       "      <td>False</td>\n",
       "      <td>상품</td>\n",
       "      <td>배송 언제 되는걸까요...?</td>\n",
       "      <td>2021-03-18T15:31:16.000+09:00</td>\n",
       "      <td>안녕하세요 고객님~~먼데이하우스입니다.\\r\\n유선상 연락 및 안내드렸습니다.\\r\\n...</td>\n",
       "      <td>2021-03-18T15:52:19.000+09:00</td>\n",
       "      <td>배송 언제 되는걸까요</td>\n",
       "      <td>안녕하세요 고객님 먼데이하우스입니다 유선상 연락 및 안내드렸습니다 감사합니다 1</td>\n",
       "      <td>배송 언제 되는 걸까요</td>\n",
       "      <td>안녕하세요 고객님 먼데이 하우스입니다 유선상 연락 및 안내드렸습니다 감사합니다 1</td>\n",
       "      <td>배송 언제 되</td>\n",
       "      <td>안녕 고객 먼데이 하우스 유선 연락 및 안 감사</td>\n",
       "    </tr>\n",
       "  </tbody>\n",
       "</table>\n",
       "</div>"
      ],
      "text/plain": [
       "   product_id          product_name product_option  user_id  user_buyer  \\\n",
       "0      388715  순수원목 A사이드테이블 3colors   A사이드테이블 / 우드  3076525        True   \n",
       "\n",
       "   is_secret label         question                  question_time  \\\n",
       "0      False    상품  배송 언제 되는걸까요...?  2021-03-18T15:31:16.000+09:00   \n",
       "\n",
       "                                              answer  \\\n",
       "0  안녕하세요 고객님~~먼데이하우스입니다.\\r\\n유선상 연락 및 안내드렸습니다.\\r\\n...   \n",
       "\n",
       "                     answer_time question_clean  \\\n",
       "0  2021-03-18T15:52:19.000+09:00    배송 언제 되는걸까요   \n",
       "\n",
       "                                   answer_clean question_spellcheck  \\\n",
       "0  안녕하세요 고객님 먼데이하우스입니다 유선상 연락 및 안내드렸습니다 감사합니다 1        배송 언제 되는 걸까요   \n",
       "\n",
       "                               answer_spellcheck question_mecab  \\\n",
       "0  안녕하세요 고객님 먼데이 하우스입니다 유선상 연락 및 안내드렸습니다 감사합니다 1        배송 언제 되   \n",
       "\n",
       "                 answer_mecab  \n",
       "0  안녕 고객 먼데이 하우스 유선 연락 및 안 감사  "
      ]
     },
     "execution_count": 29,
     "metadata": {},
     "output_type": "execute_result"
    }
   ],
   "source": [
    "df[:1]"
   ]
  },
  {
   "cell_type": "markdown",
   "metadata": {},
   "source": [
    "## QNA[SEP]ANS"
   ]
  },
  {
   "cell_type": "code",
   "execution_count": 15,
   "metadata": {},
   "outputs": [],
   "source": [
    "df['qna_hanspell_sep'] = df['question_spellcheck'].values+' [SEP] '+df['answer_spellcheck'].values + '\\t'\n",
    "df['qna_mecab_sep'] = df['question_mecab'].values+' [SEP] '+df['answer_mecab'].values + '\\t'"
   ]
  },
  {
   "cell_type": "code",
   "execution_count": 16,
   "metadata": {
    "scrolled": false
   },
   "outputs": [
    {
     "data": {
      "text/plain": [
       "0        배송 언제 되는 걸까요 [SEP] 안녕하세요 고객님 먼데이 하우스입니다 유선상 연락...\n",
       "1        구매하였는데 배송 메모는 무시해주세요 다른 곳에서 산거 수정을 못했어요 빠른 배송 ...\n",
       "2        조립하다가 육각 나사 렌치 돌리는 부분이 다 갈려서 조립을 못해요 육각 나사 렌치 ...\n",
       "3        주문해서 다음 주 월요일 3 22에 받고 싶은데 언제 주문하면 될까요 [SEP] 안...\n",
       "4        나사 너무 안 들어가는데 원래 이렇게 나사가 안 들어가나요 힘을 줘도 절대 끝까지 ...\n",
       "                               ...                        \n",
       "94737    배송비는 따로 청구되나요 경기도 파주 야당동입니다 [SEP] 안녕하세요 고객님 노루...\n",
       "94738    변기 교체하려는데요 기존 변기 수거도 해주시고 기사님이 배송하시고 시공 설치해주시는...\n",
       "94739    1 이거 결제하면 더 이상의 비용은 없나요 예를 들면 철거비나 쓰레기 처리 비용 같...\n",
       "94740    상품만 사면 시공도 다 무료인가요 가게 변기 교체 좀 하려고 하는데요 지역은 인천 ...\n",
       "94741    상품 가격만 나와있어서요 설치기사님 비용은 어떻게 되나요 지역은 경기도 기흥입니다 ...\n",
       "Name: qna_hanspell_sep, Length: 94742, dtype: object"
      ]
     },
     "execution_count": 16,
     "metadata": {},
     "output_type": "execute_result"
    }
   ],
   "source": [
    "df['qna_hanspell_sep']"
   ]
  },
  {
   "cell_type": "code",
   "execution_count": 17,
   "metadata": {},
   "outputs": [
    {
     "data": {
      "text/plain": [
       "0               배송 언제 되 [SEP] 안녕 고객 먼데이 하우스 유선 연락 및 안 감사\\t\n",
       "1        구매 배송 메모 무시 주 다른 곳 산거 수정 못 배송 부탁 [SEP] 안녕 고객 먼...\n",
       "2        조립 육각 나사 렌치 돌리 부분 다 조립 못 육각 나사 렌치 주 수 있 [SEP] ...\n",
       "3        주문 다음 주 월요일 받 싶 언제 주문 [SEP] 안녕 고객 먼데이 하우스 월요일 ...\n",
       "4        나사 너무 안 들어가 원래 이렇게 나사 안 들어가 힘 절대 끝 안 [SEP] 안녕 ...\n",
       "                               ...                        \n",
       "94737    배송 비 따로 청구 경기도 파주 야당동 [SEP] 안녕 고객 노루 페인트 홈 인테리...\n",
       "94738    변기 교체 요 기존 변기 수거 주 기사 배송 시공 설치 주 것 맞 지역 서울 서초구...\n",
       "94739    이거 결제 더 이상 비용 없 예 들 철 거비 쓰레기 처리 비용 같 경기도 파주시 문...\n",
       "94740    상품 사 시공 다 무료 가 변기 교체 좀 하 하 지역 인천 청천동 변기 좌변기 면기...\n",
       "94741    상품 가격 있 설치 기사 비용 어떻게 되 지역 경기도 기흥 [SEP] 설치 비용 포합\\t\n",
       "Name: qna_mecab_sep, Length: 94742, dtype: object"
      ]
     },
     "execution_count": 17,
     "metadata": {},
     "output_type": "execute_result"
    }
   ],
   "source": [
    "df['qna_mecab_sep']"
   ]
  },
  {
   "cell_type": "markdown",
   "metadata": {},
   "source": [
    "## Labeling"
   ]
  },
  {
   "cell_type": "code",
   "execution_count": 18,
   "metadata": {
    "colab": {
     "base_uri": "https://localhost:8080/"
    },
    "executionInfo": {
     "elapsed": 583,
     "status": "ok",
     "timestamp": 1620831010540,
     "user": {
      "displayName": "이정은",
      "photoUrl": "",
      "userId": "04796680705640849664"
     },
     "user_tz": -540
    },
    "id": "khdb3vi-Da-l",
    "outputId": "6c53c7a7-9068-4122-acef-caccf56bd6d9",
    "scrolled": true
   },
   "outputs": [
    {
     "data": {
      "text/plain": [
       "(array([0, 1, 0, ..., 0, 0, 0]),\n",
       " Index(['상품', '배송', '교환', '환불', '기타', '반품'], dtype='object'))"
      ]
     },
     "execution_count": 18,
     "metadata": {},
     "output_type": "execute_result"
    }
   ],
   "source": [
    "# label 수치형으로 변환\n",
    "cat = pd.Series(df['label'])\n",
    "labels, uniques = pd.factorize(cat)\n",
    "labels, uniques"
   ]
  },
  {
   "cell_type": "code",
   "execution_count": 19,
   "metadata": {
    "executionInfo": {
     "elapsed": 612,
     "status": "ok",
     "timestamp": 1620831050572,
     "user": {
      "displayName": "이정은",
      "photoUrl": "",
      "userId": "04796680705640849664"
     },
     "user_tz": -540
    },
    "id": "Gz1GqvsWDqb1"
   },
   "outputs": [],
   "source": [
    "df['num_label'] = labels\n",
    "df['num_label'] = df['num_label'].astype(str) # str으로 변환"
   ]
  },
  {
   "cell_type": "code",
   "execution_count": 20,
   "metadata": {
    "scrolled": true
   },
   "outputs": [
    {
     "data": {
      "text/plain": [
       "label  num_label\n",
       "상품     0            44904\n",
       "배송     1            30148\n",
       "교환     2             8357\n",
       "환불     3             5780\n",
       "기타     4             3049\n",
       "반품     5             2483\n",
       "dtype: int64"
      ]
     },
     "execution_count": 20,
     "metadata": {},
     "output_type": "execute_result"
    }
   ],
   "source": [
    "df[['label','num_label']].value_counts()"
   ]
  },
  {
   "cell_type": "code",
   "execution_count": 21,
   "metadata": {
    "scrolled": true
   },
   "outputs": [],
   "source": [
    "df.loc[df['num_label'] =='4', 'num_label'] = 'tmp'\n",
    "df.loc[df['num_label'] =='5', 'num_label'] = '4'\n",
    "df.loc[df['num_label'] =='tmp', 'num_label'] = '5'"
   ]
  },
  {
   "cell_type": "code",
   "execution_count": 22,
   "metadata": {
    "scrolled": true
   },
   "outputs": [
    {
     "data": {
      "text/plain": [
       "label  num_label\n",
       "상품     0            44904\n",
       "배송     1            30148\n",
       "교환     2             8357\n",
       "환불     3             5780\n",
       "기타     5             3049\n",
       "반품     4             2483\n",
       "dtype: int64"
      ]
     },
     "execution_count": 22,
     "metadata": {},
     "output_type": "execute_result"
    }
   ],
   "source": [
    "df[['label','num_label']].value_counts()"
   ]
  },
  {
   "cell_type": "code",
   "execution_count": 23,
   "metadata": {
    "scrolled": true
   },
   "outputs": [
    {
     "data": {
      "text/plain": [
       "(94742, 20)"
      ]
     },
     "execution_count": 23,
     "metadata": {},
     "output_type": "execute_result"
    }
   ],
   "source": [
    "df.shape"
   ]
  },
  {
   "cell_type": "code",
   "execution_count": 32,
   "metadata": {},
   "outputs": [],
   "source": [
    "# num_label -1 제거\n",
    "df = df[df['num_label']!='-1']"
   ]
  },
  {
   "cell_type": "code",
   "execution_count": 33,
   "metadata": {
    "scrolled": false
   },
   "outputs": [
    {
     "data": {
      "text/plain": [
       "(94721, 20)"
      ]
     },
     "execution_count": 33,
     "metadata": {},
     "output_type": "execute_result"
    }
   ],
   "source": [
    "df.shape"
   ]
  },
  {
   "cell_type": "code",
   "execution_count": 34,
   "metadata": {},
   "outputs": [],
   "source": [
    "# 기타 미포함\n",
    "df = df[df['num_label']!='5']"
   ]
  },
  {
   "cell_type": "code",
   "execution_count": 35,
   "metadata": {},
   "outputs": [
    {
     "data": {
      "text/plain": [
       "(91672, 20)"
      ]
     },
     "execution_count": 35,
     "metadata": {},
     "output_type": "execute_result"
    }
   ],
   "source": [
    "df.shape"
   ]
  },
  {
   "cell_type": "code",
   "execution_count": 37,
   "metadata": {
    "scrolled": true
   },
   "outputs": [],
   "source": [
    "# csv 저장 후 내보내기\n",
    "df.to_csv(save_path+'qna_table_mecab.csv', index=False)"
   ]
  },
  {
   "cell_type": "code",
   "execution_count": 38,
   "metadata": {},
   "outputs": [],
   "source": [
    "df.reset_index(drop=True, inplace=True)"
   ]
  },
  {
   "cell_type": "code",
   "execution_count": 39,
   "metadata": {},
   "outputs": [
    {
     "data": {
      "text/plain": [
       "(91672, 20)"
      ]
     },
     "execution_count": 39,
     "metadata": {},
     "output_type": "execute_result"
    }
   ],
   "source": [
    "df.shape"
   ]
  },
  {
   "cell_type": "markdown",
   "metadata": {
    "id": "tEvkcY9wLMkp"
   },
   "source": [
    "## KoBERT용 데이터\n",
    "\n",
    "- mecab + 카테고리 5개(기타 미포함)"
   ]
  },
  {
   "cell_type": "code",
   "execution_count": 40,
   "metadata": {},
   "outputs": [],
   "source": [
    "# 4. mecab + 카테고리 5개(기타 미포함)\n",
    "\n",
    "# list 생성\n",
    "qna = list(df['qna_mecab_sep'].values + df['num_label'].astype(str).values + '\\n')\n",
    "\n",
    "# train test split\n",
    "qna_train, qna_test = train_test_split(qna, test_size=0.2, shuffle=True, random_state=218)\n",
    "\n",
    "# txt 내보내기\n",
    "with open(save_path+'qna_mecab_drop_train.txt', 'w') as f:\n",
    "    f.writelines(qna_train)\n",
    "    \n",
    "with open(save_path+'qna_mecab_drop_test.txt', 'w') as f:\n",
    "    f.writelines(qna_test)"
   ]
  },
  {
   "cell_type": "code",
   "execution_count": 43,
   "metadata": {},
   "outputs": [
    {
     "name": "stdout",
     "output_type": "stream",
     "text": [
      "shape\n",
      "(73337, 2) (18335, 2)\n",
      "——————————————\n",
      "max_len\n",
      "208 183\n",
      "——————————————\n",
      "train value_counts\n",
      "0    35838\n",
      "1    24169\n",
      "2     6716\n",
      "3     4659\n",
      "4     1955\n",
      "Name: 1, dtype: int64\n",
      "——————————————\n",
      "test value_counts\n",
      "0    9066\n",
      "1    5979\n",
      "2    1641\n",
      "3    1121\n",
      "4     528\n",
      "Name: 1, dtype: int64\n"
     ]
    }
   ],
   "source": [
    "# 4. mecab + 카테고리 5개(기타 미포함)\n",
    "\n",
    "train_4 = pd.read_csv(save_path+'qna_mecab_drop_train.txt', header=None, sep='\\t')\n",
    "test_4 = pd.read_csv(save_path+'qna_mecab_drop_test.txt', header=None, sep='\\t')\n",
    "\n",
    "print('shape')\n",
    "print(train_4.shape, test_4.shape)\n",
    "print('——————————————')\n",
    "\n",
    "# length\n",
    "train_4_len = np.array(train_4[0].apply(lambda x:len(x.split(' '))))\n",
    "test_4_len = np.array(test_4[0].apply(lambda x:len(x.split(' '))))\n",
    "\n",
    "# print max_len\n",
    "print('max_len')\n",
    "print(np.max(train_4_len), np.max(test_4_len))\n",
    "print('——————————————')\n",
    "\n",
    "# print train label values_counts\n",
    "print('train value_counts')\n",
    "print(train_4[1].value_counts())\n",
    "print('——————————————')\n",
    "print('test value_counts')\n",
    "print(test_4[1].value_counts())"
   ]
  }
 ],
 "metadata": {
  "colab": {
   "collapsed_sections": [
    "jhLavNcgC0Uq",
    "3Vp_QmgjNKpl",
    "-H9xbeEoJ9zk"
   ],
   "name": "Mecab_QA_all_fin.ipynb",
   "provenance": [],
   "toc_visible": true
  },
  "kernelspec": {
   "display_name": "Python 3",
   "language": "python",
   "name": "python3"
  },
  "language_info": {
   "codemirror_mode": {
    "name": "ipython",
    "version": 3
   },
   "file_extension": ".py",
   "mimetype": "text/x-python",
   "name": "python",
   "nbconvert_exporter": "python",
   "pygments_lexer": "ipython3",
   "version": "3.7.0"
  }
 },
 "nbformat": 4,
 "nbformat_minor": 1
}
