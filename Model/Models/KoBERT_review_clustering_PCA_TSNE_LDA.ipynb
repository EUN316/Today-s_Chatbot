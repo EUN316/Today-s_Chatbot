{
 "cells": [
  {
   "cell_type": "code",
   "execution_count": 1,
   "id": "3436c450",
   "metadata": {},
   "outputs": [],
   "source": [
    "import pandas as pd\n",
    "import numpy as np\n",
    "\n",
    "from sklearn.cluster import KMeans\n",
    "import matplotlib.pyplot as plt\n",
    "\n",
    "from tqdm import tqdm\n",
    "\n",
    "# PCA\n",
    "from sklearn.decomposition import PCA\n",
    "\n",
    "from tqdm import tqdm, tqdm_notebook\n",
    "import os"
   ]
  },
  {
   "cell_type": "code",
   "execution_count": 2,
   "id": "57b50b0b",
   "metadata": {},
   "outputs": [],
   "source": [
    "review_path = '/home/hyejeongeun/Todays_Chatbot/Data/Review/Review_embedding/'"
   ]
  },
  {
   "cell_type": "markdown",
   "id": "31e2da32",
   "metadata": {},
   "source": [
    "## Load & Preprocessing Data"
   ]
  },
  {
   "cell_type": "code",
   "execution_count": 3,
   "id": "72b94472",
   "metadata": {},
   "outputs": [],
   "source": [
    "review_list = os.listdir(review_path)\n",
    "review_name = [review.split('_embedding')[0] for review in review_list]"
   ]
  },
  {
   "cell_type": "code",
   "execution_count": 4,
   "id": "06e3612e",
   "metadata": {},
   "outputs": [
    {
     "name": "stderr",
     "output_type": "stream",
     "text": [
      "/home/hyejeongeun/.conda/envs/hyejeongeun/lib/python3.7/site-packages/ipykernel_launcher.py:3: TqdmDeprecationWarning: This function will be removed in tqdm==5.0.0\n",
      "Please use `tqdm.notebook.tqdm` instead of `tqdm.tqdm_notebook`\n",
      "  This is separate from the ipykernel package so we can avoid doing imports until\n"
     ]
    },
    {
     "data": {
      "application/vnd.jupyter.widget-view+json": {
       "model_id": "6794cf013c2649aeb11e47df148be2a5",
       "version_major": 2,
       "version_minor": 0
      },
      "text/plain": [
       "  0%|          | 0/146 [00:00<?, ?it/s]"
      ]
     },
     "metadata": {},
     "output_type": "display_data"
    },
    {
     "data": {
      "text/html": [
       "<div>\n",
       "<style scoped>\n",
       "    .dataframe tbody tr th:only-of-type {\n",
       "        vertical-align: middle;\n",
       "    }\n",
       "\n",
       "    .dataframe tbody tr th {\n",
       "        vertical-align: top;\n",
       "    }\n",
       "\n",
       "    .dataframe thead th {\n",
       "        text-align: right;\n",
       "    }\n",
       "</style>\n",
       "<table border=\"1\" class=\"dataframe\">\n",
       "  <thead>\n",
       "    <tr style=\"text-align: right;\">\n",
       "      <th></th>\n",
       "      <th>0</th>\n",
       "    </tr>\n",
       "  </thead>\n",
       "  <tbody>\n",
       "    <tr>\n",
       "      <th>0</th>\n",
       "      <td>진짜 최악 이 하 많 위 가 추천 좀 주 번 화이트 중형 장 구매 오늘 받 설치 중...</td>\n",
       "    </tr>\n",
       "    <tr>\n",
       "      <th>1</th>\n",
       "      <td>사진 완전 안 보이 빛 단함 앞 안 앞날 같</td>\n",
       "    </tr>\n",
       "    <tr>\n",
       "      <th>2</th>\n",
       "      <td>장 한 세트 줄 알 이 그래서 총 장 오 줄 알 표기 제대로 주 좋 거 같 모든 이...</td>\n",
       "    </tr>\n",
       "    <tr>\n",
       "      <th>3</th>\n",
       "      <td>사진 완전 빛 차단 사진 이 꿀 잠 잘 듯 감사</td>\n",
       "    </tr>\n",
       "    <tr>\n",
       "      <th>4</th>\n",
       "      <td>해 안 회사 지각 슬프 좋</td>\n",
       "    </tr>\n",
       "    <tr>\n",
       "      <th>...</th>\n",
       "      <td>...</td>\n",
       "    </tr>\n",
       "    <tr>\n",
       "      <th>710449</th>\n",
       "      <td>서서 물걸레질 힘들 괜찮 거 같</td>\n",
       "    </tr>\n",
       "    <tr>\n",
       "      <th>710450</th>\n",
       "      <td>싸 청소 편리 아주 좋</td>\n",
       "    </tr>\n",
       "    <tr>\n",
       "      <th>710451</th>\n",
       "      <td>그리 보이 않 걸레 판도 좀 얇 듯 너무 닦 것 같 그렇지만 가격 편 이 괜찮</td>\n",
       "    </tr>\n",
       "    <tr>\n",
       "      <th>710452</th>\n",
       "      <td>완존 좋 엄마 드리 싶</td>\n",
       "    </tr>\n",
       "    <tr>\n",
       "      <th>710453</th>\n",
       "      <td>길 조절 안 쪼금 불편 불편 가격 대비 구성비 굿 가볍 잘</td>\n",
       "    </tr>\n",
       "  </tbody>\n",
       "</table>\n",
       "<p>710454 rows × 1 columns</p>\n",
       "</div>"
      ],
      "text/plain": [
       "                                                        0\n",
       "0       진짜 최악 이 하 많 위 가 추천 좀 주 번 화이트 중형 장 구매 오늘 받 설치 중...\n",
       "1                                사진 완전 안 보이 빛 단함 앞 안 앞날 같\n",
       "2       장 한 세트 줄 알 이 그래서 총 장 오 줄 알 표기 제대로 주 좋 거 같 모든 이...\n",
       "3                              사진 완전 빛 차단 사진 이 꿀 잠 잘 듯 감사\n",
       "4                                          해 안 회사 지각 슬프 좋\n",
       "...                                                   ...\n",
       "710449                                  서서 물걸레질 힘들 괜찮 거 같\n",
       "710450                                       싸 청소 편리 아주 좋\n",
       "710451        그리 보이 않 걸레 판도 좀 얇 듯 너무 닦 것 같 그렇지만 가격 편 이 괜찮\n",
       "710452                                       완존 좋 엄마 드리 싶\n",
       "710453                   길 조절 안 쪼금 불편 불편 가격 대비 구성비 굿 가볍 잘\n",
       "\n",
       "[710454 rows x 1 columns]"
      ]
     },
     "execution_count": 4,
     "metadata": {},
     "output_type": "execute_result"
    }
   ],
   "source": [
    "#review_df = pd.DataFrame({\"review\"})\n",
    "review_df = pd.DataFrame()\n",
    "for i in tqdm_notebook(range(len(review_list))):\n",
    "    if review_list[i] == '.ipynb_checkpoints':\n",
    "        continue\n",
    "    \n",
    "    # load data\n",
    "    df = pd.read_csv(review_path + review_list[i])\n",
    "    df=df[df['comment_mecab'].notna()]\n",
    "    \n",
    "    # df.reset_index(drop=True, inplace=False)\n",
    "    df = df['comment_mecab'].str.replace(pat='\\n', repl='')\n",
    "    review_df = pd.concat([review_df,df])\n",
    "    \n",
    "review_df.reset_index(drop=True, inplace=False)"
   ]
  },
  {
   "cell_type": "code",
   "execution_count": 5,
   "id": "f133e83a",
   "metadata": {},
   "outputs": [
    {
     "data": {
      "text/plain": [
       "0       진짜 최악 이 하 많 위 가 추천 좀 주 번 화이트 중형 장 구매 오늘 받 설치 중...\n",
       "1                                사진 완전 안 보이 빛 단함 앞 안 앞날 같\n",
       "2       장 한 세트 줄 알 이 그래서 총 장 오 줄 알 표기 제대로 주 좋 거 같 모든 이...\n",
       "3                              사진 완전 빛 차단 사진 이 꿀 잠 잘 듯 감사\n",
       "4                                          해 안 회사 지각 슬프 좋\n",
       "                              ...                        \n",
       "8682                                    서서 물걸레질 힘들 괜찮 거 같\n",
       "8683                                         싸 청소 편리 아주 좋\n",
       "8684          그리 보이 않 걸레 판도 좀 얇 듯 너무 닦 것 같 그렇지만 가격 편 이 괜찮\n",
       "8685                                         완존 좋 엄마 드리 싶\n",
       "8686                     길 조절 안 쪼금 불편 불편 가격 대비 구성비 굿 가볍 잘\n",
       "Name: 0, Length: 710454, dtype: object"
      ]
     },
     "execution_count": 5,
     "metadata": {},
     "output_type": "execute_result"
    }
   ],
   "source": [
    "review_df[0]"
   ]
  },
  {
   "cell_type": "code",
   "execution_count": null,
   "id": "a2d27860",
   "metadata": {},
   "outputs": [],
   "source": []
  },
  {
   "cell_type": "code",
   "execution_count": null,
   "id": "18c33dee",
   "metadata": {},
   "outputs": [],
   "source": [
    "# 제일 개수 많은 리뷰 데이터"
   ]
  },
  {
   "cell_type": "code",
   "execution_count": 4,
   "id": "579e5323",
   "metadata": {},
   "outputs": [],
   "source": [
    "df = pd.read_csv(review_path + 'review_388715_embedding.csv')\n",
    "df = df['comment_mecab']"
   ]
  },
  {
   "cell_type": "code",
   "execution_count": 8,
   "id": "6d8d0c66",
   "metadata": {},
   "outputs": [
    {
     "data": {
      "text/html": [
       "<div>\n",
       "<style scoped>\n",
       "    .dataframe tbody tr th:only-of-type {\n",
       "        vertical-align: middle;\n",
       "    }\n",
       "\n",
       "    .dataframe tbody tr th {\n",
       "        vertical-align: top;\n",
       "    }\n",
       "\n",
       "    .dataframe thead th {\n",
       "        text-align: right;\n",
       "    }\n",
       "</style>\n",
       "<table border=\"1\" class=\"dataframe\">\n",
       "  <thead>\n",
       "    <tr style=\"text-align: right;\">\n",
       "      <th></th>\n",
       "      <th>0</th>\n",
       "    </tr>\n",
       "  </thead>\n",
       "  <tbody>\n",
       "    <tr>\n",
       "      <th>0</th>\n",
       "      <td>제 발주 개 중 개 모두 점 있 화이트 스태프 스툴 일단 목재 자국 있 가격 이 납...</td>\n",
       "    </tr>\n",
       "    <tr>\n",
       "      <th>1</th>\n",
       "      <td>아이고 주인 좋 하 정말 다행 감사\\n</td>\n",
       "    </tr>\n",
       "    <tr>\n",
       "      <th>2</th>\n",
       "      <td>멍멍이 땜 예쁘 놓 못 찌\\n</td>\n",
       "    </tr>\n",
       "    <tr>\n",
       "      <th>3</th>\n",
       "      <td>유리 고양이 매일 있\\n</td>\n",
       "    </tr>\n",
       "    <tr>\n",
       "      <th>4</th>\n",
       "      <td>고양이 옹동이 관찰 너무 좋 용도 발견 조립 거 너무 힘들 드릴 있 조립 부분 나사...</td>\n",
       "    </tr>\n",
       "    <tr>\n",
       "      <th>...</th>\n",
       "      <td>...</td>\n",
       "    </tr>\n",
       "    <tr>\n",
       "      <th>23643</th>\n",
       "      <td>디자인 괜찮 맘 드 잘 쓰\\n</td>\n",
       "    </tr>\n",
       "    <tr>\n",
       "      <th>23644</th>\n",
       "      <td>일단 교환 귀찮 쓰 다리 높이 다르 삐뚤 물건 수 없 구 냥 진심 장식품\\n</td>\n",
       "    </tr>\n",
       "    <tr>\n",
       "      <th>23645</th>\n",
       "      <td>살 살 이런 개 쓰레기 구 첨 본드 쓰 조립식 이\\n</td>\n",
       "    </tr>\n",
       "    <tr>\n",
       "      <th>23646</th>\n",
       "      <td>나사 아무리 안 들어가 헛돈 거 같 최악\\n</td>\n",
       "    </tr>\n",
       "    <tr>\n",
       "      <th>23647</th>\n",
       "      <td>좋 색감 디자인 사진 그대로\\n</td>\n",
       "    </tr>\n",
       "  </tbody>\n",
       "</table>\n",
       "<p>23648 rows × 1 columns</p>\n",
       "</div>"
      ],
      "text/plain": [
       "                                                       0\n",
       "0      제 발주 개 중 개 모두 점 있 화이트 스태프 스툴 일단 목재 자국 있 가격 이 납...\n",
       "1                                  아이고 주인 좋 하 정말 다행 감사\\n\n",
       "2                                       멍멍이 땜 예쁘 놓 못 찌\\n\n",
       "3                                          유리 고양이 매일 있\\n\n",
       "4      고양이 옹동이 관찰 너무 좋 용도 발견 조립 거 너무 힘들 드릴 있 조립 부분 나사...\n",
       "...                                                  ...\n",
       "23643                                   디자인 괜찮 맘 드 잘 쓰\\n\n",
       "23644         일단 교환 귀찮 쓰 다리 높이 다르 삐뚤 물건 수 없 구 냥 진심 장식품\\n\n",
       "23645                      살 살 이런 개 쓰레기 구 첨 본드 쓰 조립식 이\\n\n",
       "23646                           나사 아무리 안 들어가 헛돈 거 같 최악\\n\n",
       "23647                                  좋 색감 디자인 사진 그대로\\n\n",
       "\n",
       "[23648 rows x 1 columns]"
      ]
     },
     "execution_count": 8,
     "metadata": {},
     "output_type": "execute_result"
    }
   ],
   "source": [
    "review_df = pd.DataFrame()\n",
    "review_df = pd.concat([review_df,df])\n",
    "#review_df = df\n",
    "review_df"
   ]
  },
  {
   "cell_type": "markdown",
   "id": "79ccbe0a",
   "metadata": {},
   "source": [
    "## LDA"
   ]
  },
  {
   "cell_type": "code",
   "execution_count": 10,
   "id": "5d4a2a4d",
   "metadata": {},
   "outputs": [],
   "source": [
    "from gensim.models import ldamodel\n",
    "from gensim.models import CoherenceModel\n",
    "from time import time\n",
    "import os\n",
    "import gensim"
   ]
  },
  {
   "cell_type": "code",
   "execution_count": 11,
   "id": "412084d7",
   "metadata": {},
   "outputs": [
    {
     "data": {
      "text/plain": [
       "[['발주',\n",
       "  '모두',\n",
       "  '화이트',\n",
       "  '스태프',\n",
       "  '스툴',\n",
       "  '일단',\n",
       "  '목재',\n",
       "  '자국',\n",
       "  '가격',\n",
       "  '납득',\n",
       "  '흰색',\n",
       "  '많이',\n",
       "  '사이드',\n",
       "  '테이블',\n",
       "  '정말',\n",
       "  '문제',\n",
       "  '생각',\n",
       "  '정말',\n",
       "  '만들',\n",
       "  '처음',\n",
       "  '일단',\n",
       "  '배송',\n",
       "  '유리',\n",
       "  '우리',\n",
       "  '떨어지',\n",
       "  '테두리',\n",
       "  '마감',\n",
       "  '엉망',\n",
       "  '만들',\n",
       "  '긁히',\n",
       "  '무엇',\n",
       "  '문제',\n",
       "  '다리',\n",
       "  '서로',\n",
       "  '정말',\n",
       "  '가구',\n",
       "  '조립',\n",
       "  '유리',\n",
       "  '아예',\n",
       "  '가지',\n",
       "  '추후',\n",
       "  '전화',\n",
       "  '일부',\n",
       "  '부속',\n",
       "  '마음',\n",
       "  '다시',\n",
       "  '역시',\n",
       "  '가능',\n",
       "  '결국',\n",
       "  '유리',\n",
       "  '포기',\n",
       "  '부분',\n",
       "  '상단',\n",
       "  '활용',\n",
       "  '정말',\n",
       "  '오늘',\n",
       "  '상품',\n",
       "  '구매',\n",
       "  '이렇게',\n",
       "  '검수',\n",
       "  '위험',\n",
       "  '실망',\n",
       "  '상품',\n",
       "  '가격',\n",
       "  '모두',\n",
       "  '그러',\n",
       "  '아예',\n",
       "  '조립',\n",
       "  '상품',\n",
       "  '점검',\n",
       "  '없이',\n",
       "  '보내',\n",
       "  '잘못',\n",
       "  '생각\\n'],\n",
       " ['아이고', '주인', '정말', '다행', '감사\\n'],\n",
       " ['멍멍이', '예쁘', '찌\\n'],\n",
       " ['유리', '고양이', '매일', '있\\n'],\n",
       " ['고양이',\n",
       "  '옹동이',\n",
       "  '관찰',\n",
       "  '너무',\n",
       "  '용도',\n",
       "  '발견',\n",
       "  '조립',\n",
       "  '너무',\n",
       "  '힘들',\n",
       "  '드릴',\n",
       "  '조립',\n",
       "  '부분',\n",
       "  '나사',\n",
       "  '구멍',\n",
       "  '크기',\n",
       "  '양쪽',\n",
       "  '너무',\n",
       "  '차이',\n",
       "  '나\\n']]"
      ]
     },
     "execution_count": 11,
     "metadata": {},
     "output_type": "execute_result"
    }
   ],
   "source": [
    "temp = 0\n",
    "mecab_token = []\n",
    "word_list = []\n",
    "mecab = review_df[0].tolist()\n",
    "for line in mecab:\n",
    "    if type(line)==float:\n",
    "        temp += 1\n",
    "    else: \n",
    "        l = line.split(' ')\n",
    "        for word in l:\n",
    "            if len(word) > 1:\n",
    "                word_list.append(word)\n",
    "    mecab_token.append(word_list)\n",
    "    word_list = []\n",
    "mecab_token[:5]"
   ]
  },
  {
   "cell_type": "code",
   "execution_count": 14,
   "id": "817885e6",
   "metadata": {},
   "outputs": [
    {
     "data": {
      "text/plain": [
       "0"
      ]
     },
     "execution_count": 14,
     "metadata": {},
     "output_type": "execute_result"
    }
   ],
   "source": [
    "temp # nan값"
   ]
  },
  {
   "cell_type": "code",
   "execution_count": 16,
   "id": "dbf10b2e",
   "metadata": {},
   "outputs": [
    {
     "data": {
      "text/plain": [
       "23648"
      ]
     },
     "execution_count": 16,
     "metadata": {},
     "output_type": "execute_result"
    }
   ],
   "source": [
    "len(mecab_token)"
   ]
  },
  {
   "cell_type": "code",
   "execution_count": 17,
   "id": "e08410ef",
   "metadata": {},
   "outputs": [
    {
     "name": "stdout",
     "output_type": "stream",
     "text": [
      "sys_font number: 67\n",
      "['/usr/share/fonts/truetype/nanumfont/NanumGothicBold.ttf', '/usr/share/fonts/truetype/liberation/LiberationSerif-Bold.ttf', '/usr/share/fonts/truetype/ttf-bitstream-vera/VeraBI.ttf', '/usr/share/fonts/truetype/dejavu/DejaVuSansMono-Oblique.ttf', '/usr/share/fonts/truetype/nanumfont/NanumGothicExtraBold.ttf', '/usr/share/fonts/truetype/lyx/msbm10.ttf', '/usr/share/fonts/truetype/lyx/cmsy10.ttf', '/usr/share/fonts/truetype/dejavu/DejaVuSansMono-Bold.ttf', '/usr/share/fonts/truetype/liberation/LiberationMono-Bold.ttf', '/usr/share/fonts/truetype/dejavu/DejaVuSerifCondensed-Italic.ttf', '/usr/share/fonts/truetype/nanumfont/NanumGothic.ttf', '/usr/share/fonts/truetype/nanumfont/NanumMyeongjoBold.ttf', '/usr/share/fonts/truetype/liberation/LiberationSansNarrow-Bold.ttf', '/usr/share/fonts/truetype/liberation/LiberationSans-Bold.ttf', '/usr/share/fonts/truetype/nanumfont/NanumBrush.ttf', '/usr/share/fonts/truetype/dejavu/DejaVuSerifCondensed.ttf', '/usr/share/fonts/truetype/liberation/LiberationSans-Italic.ttf', '/usr/share/fonts/truetype/ttf-bitstream-vera/VeraSe.ttf', '/usr/share/fonts/truetype/dejavu/DejaVuSerif.ttf', '/usr/share/fonts/truetype/lyx/msam10.ttf', '/usr/share/fonts/truetype/lyx/cmmi10.ttf', '/usr/share/fonts/truetype/lyx/wasy10.ttf', '/usr/share/fonts/truetype/ttf-bitstream-vera/VeraIt.ttf', '/usr/share/fonts/truetype/dejavu/DejaVuSans-Oblique.ttf', '/usr/share/fonts/truetype/liberation/LiberationSans-Regular.ttf', '/usr/share/fonts/truetype/dejavu/DejaVuSans-BoldOblique.ttf', '/usr/share/fonts/truetype/lyx/esint10.ttf', '/usr/share/fonts/truetype/dejavu/DejaVuMathTeXGyre.ttf', '/usr/share/fonts/truetype/dejavu/DejaVuSerifCondensed-BoldItalic.ttf', '/usr/share/fonts/truetype/ttf-bitstream-vera/VeraMoBI.ttf', '/usr/share/fonts/truetype/liberation/LiberationSerif-Italic.ttf', '/usr/share/fonts/truetype/dejavu/DejaVuSansCondensed-BoldOblique.ttf', '/usr/share/fonts/truetype/nanumfont/NanumMyeongjoExtraBold.ttf', '/usr/share/fonts/truetype/liberation/LiberationSans-BoldItalic.ttf', '/usr/share/fonts/truetype/dejavu/DejaVuSerif-Bold.ttf', '/usr/share/fonts/truetype/dejavu/DejaVuSans.ttf', '/usr/share/fonts/truetype/ttf-bitstream-vera/VeraMoIt.ttf', '/usr/share/fonts/truetype/nanumfont/NanumMyeongjo.ttf', '/usr/share/fonts/truetype/lyx/stmary10.ttf', '/usr/share/fonts/truetype/dejavu/DejaVuSans-Bold.ttf', '/usr/share/fonts/truetype/ttf-bitstream-vera/VeraBd.ttf', '/usr/share/fonts/truetype/dejavu/DejaVuSerifCondensed-Bold.ttf', '/usr/share/fonts/truetype/liberation/LiberationMono-BoldItalic.ttf', '/usr/share/fonts/truetype/ttf-bitstream-vera/VeraMoBd.ttf', '/usr/share/fonts/truetype/liberation/LiberationSansNarrow-Italic.ttf', '/usr/share/fonts/truetype/nanumfont/NanumPen.ttf', '/usr/share/fonts/truetype/ttf-bitstream-vera/VeraMono.ttf', '/usr/share/fonts/truetype/dejavu/DejaVuSansCondensed-Oblique.ttf', '/usr/share/fonts/truetype/liberation/LiberationSansNarrow-BoldItalic.ttf', '/usr/share/fonts/truetype/dejavu/DejaVuSansMono.ttf', '/usr/share/fonts/truetype/ttf-bitstream-vera/VeraSeBd.ttf', '/usr/share/fonts/truetype/lyx/cmex10.ttf', '/usr/share/fonts/truetype/lyx/rsfs10.ttf', '/usr/share/fonts/truetype/dejavu/DejaVuSansCondensed.ttf', '/usr/share/fonts/truetype/dejavu/DejaVuSansCondensed-Bold.ttf', '/usr/share/fonts/truetype/liberation/LiberationSerif-BoldItalic.ttf', '/usr/share/fonts/truetype/liberation/LiberationMono-Italic.ttf', '/usr/share/fonts/truetype/dejavu/DejaVuSerif-Italic.ttf', '/usr/share/fonts/truetype/ttf-bitstream-vera/Vera.ttf', '/usr/share/fonts/truetype/liberation/LiberationMono-Regular.ttf', '/usr/share/fonts/truetype/lyx/eufm10.ttf', '/usr/share/fonts/truetype/dejavu/DejaVuSans-ExtraLight.ttf', '/usr/share/fonts/truetype/dejavu/DejaVuSansMono-BoldOblique.ttf', '/usr/share/fonts/truetype/liberation/LiberationSerif-Regular.ttf', '/usr/share/fonts/truetype/lyx/cmr10.ttf', '/usr/share/fonts/truetype/dejavu/DejaVuSerif-BoldItalic.ttf', '/usr/share/fonts/truetype/liberation/LiberationSansNarrow-Regular.ttf']\n",
      "nanum_font number: 8\n",
      "NanumSquare\n"
     ]
    }
   ],
   "source": [
    "import sys\n",
    "from sklearn.feature_extraction.text import CountVectorizer\n",
    "from tqdm import tqdm_notebook\n",
    "from konlpy.tag import Okt; okt = Okt()\n",
    "\n",
    "import numpy as np\n",
    "import pandas as pd\n",
    "import string\n",
    "import re\n",
    "import warnings\n",
    "from gensim import corpora\n",
    "from gensim import models\n",
    "import matplotlib.pyplot as plt\n",
    "import platform\n",
    "from matplotlib import font_manager, rc\n",
    "%matplotlib inline\n",
    "\n",
    "## 운영체제별 글꼴 세팅\n",
    "\n",
    "# 그래프를 이쁘게 그리기 위한 코드입니다. 한글 글꼴을 추가합니다.\n",
    "\n",
    "%matplotlib inline  \n",
    "\n",
    "import matplotlib as mpl  # 기본 설정 만지는 용도\n",
    "import matplotlib.pyplot as plt  # 그래프 그리는 용도\n",
    "import matplotlib.font_manager as fm  # 폰트 관련 용도\n",
    "import seaborn as sns\n",
    "mpl.rcParams['axes.unicode_minus'] = False\n",
    "\n",
    "sys_font=fm.findSystemFonts()\n",
    "print(f\"sys_font number: {len(sys_font)}\")\n",
    "print(sys_font)\n",
    "\n",
    "nanum_font = [f for f in sys_font if 'Nanum' in f]\n",
    "print(f\"nanum_font number: {len(nanum_font)}\")\n",
    "\n",
    "# !apt-get update -qq\n",
    "# !apt-get install fonts-nanum* -qq\n",
    "\n",
    "path = './NanumSquareL.ttf'  # 설치된 나눔글꼴중 원하는 녀석의 전체 경로를 가져옵니다.\n",
    "font_name = fm.FontProperties(fname=path, size=10).get_name()\n",
    "print(font_name)\n",
    "plt.rc('font', family=font_name)\n",
    "\n",
    "# fm._rebuild()\n",
    "\n",
    "tokenizer = \"nouns\" # nouns, morphs, word, predefined"
   ]
  },
  {
   "cell_type": "code",
   "execution_count": 18,
   "id": "2f1a6168",
   "metadata": {},
   "outputs": [],
   "source": [
    "tokenized_documents = mecab_token"
   ]
  },
  {
   "cell_type": "code",
   "execution_count": 19,
   "id": "b769ff8a",
   "metadata": {},
   "outputs": [],
   "source": [
    "# 문서-단어 행렬 만들기\n",
    "# 어휘(vocabulary) 학습\n",
    "dictionary = corpora.Dictionary(tokenized_documents)\n",
    "# 문서-단어 행렬 생성\n",
    "corpus = [dictionary.doc2bow(document) for document in tokenized_documents]"
   ]
  },
  {
   "cell_type": "code",
   "execution_count": 20,
   "id": "5ac70586",
   "metadata": {},
   "outputs": [
    {
     "name": "stdout",
     "output_type": "stream",
     "text": [
      "Dictionary(5924 unique tokens: ['가격', '가구', '가능', '가지', '검수']...)\n",
      "5924\n"
     ]
    }
   ],
   "source": [
    "NUM_TOTAL_WORDS = len(dictionary)\n",
    "print(dictionary)\n",
    "print(NUM_TOTAL_WORDS)"
   ]
  },
  {
   "cell_type": "code",
   "execution_count": 21,
   "id": "810507ec",
   "metadata": {},
   "outputs": [
    {
     "data": {
      "text/plain": [
       "[(0, 0.07104896948821623),\n",
       " (1, 0.08752134824926705),\n",
       " (2, 0.09270806111548308),\n",
       " (3, 0.09941041816254276),\n",
       " (4, 0.12777905914149995)]"
      ]
     },
     "execution_count": 21,
     "metadata": {},
     "output_type": "execute_result"
    }
   ],
   "source": [
    "# TFIDF 문서-단어 행렬 생성\n",
    "tfidf = models.TfidfModel(corpus)\n",
    "corpus_tfidf = tfidf[corpus]\n",
    "corpus_tfidf[0][:5]"
   ]
  },
  {
   "cell_type": "code",
   "execution_count": 22,
   "id": "1ae9284c",
   "metadata": {},
   "outputs": [],
   "source": [
    "# 토픽 개수와 토픽 별 상위 추출 단어 개수 지정.\n",
    "NUM_TOPIC_WORDS = 30\n",
    "\n",
    "\n",
    "def build_doc_term_mat(documents):\n",
    "    \"\"\"주어진 문서 집합으로 문서-어휘 행렬을 만들어 돌려준다.\"\"\"\n",
    "    \n",
    "    print_log_msg(\"Building document-term matrix.\")\n",
    "    dictionary = corpora.Dictionary(documents)\n",
    "    corpus = [dictionary.doc2bow(document) for document in documents]\n",
    "\n",
    "    return corpus, dictionary\n",
    "\n",
    "\n",
    "def print_topic_words(model):\n",
    "    \"\"\"토픽별 토픽 단어들을 화면에 인쇄한다.\"\"\"\n",
    "    \n",
    "    print_log_msg(\"Printing topic words.\")\n",
    "    \n",
    "    for topic_id in range(model.num_topics):\n",
    "        topic_word_probs = model.show_topic(topic_id, NUM_TOPIC_WORDS)\n",
    "        print(\"Topic ID: {}\".format(topic_id))\n",
    "\n",
    "        for topic_word, prob in topic_word_probs:\n",
    "            print(\"\\t{}\\t{}\".format(topic_word, prob))\n",
    "\n",
    "        print(\"\\n\")\n",
    "\n",
    "\n",
    "def print_log_msg(msg):\n",
    "    \"\"\"로그 메시지를 출력한다.\"\"\"\n",
    "    \n",
    "    print(msg, flush=True)"
   ]
  },
  {
   "cell_type": "code",
   "execution_count": 23,
   "id": "ac590b4f",
   "metadata": {},
   "outputs": [],
   "source": [
    "def compute_coherence(dictionary, corpus, texts, start=8, end=81, step=4):\n",
    "    coherence_score_list = []\n",
    "    model_list = []\n",
    "    for num_topics in tqdm_notebook(range(start, end, step)):\n",
    "        model = gensim.models.ldamodel.LdaModel(corpus=corpus, num_topics=num_topics, id2word=dictionary,\n",
    "                                                passes=30,\n",
    "                                                iterations=100,\n",
    "#                                                distributed=True,\n",
    "                                                per_word_topics=True,\n",
    "                                                random_state=42,\n",
    "                                                alpha='auto', eta=\"auto\")\n",
    "        model_list.append(model)\n",
    "        coherence_model = CoherenceModel(model=model, texts=tokenized_documents, dictionary=dictionary, coherence='c_v')\n",
    "        coherence_score_list.append(coherence_model.get_coherence())\n",
    "        \n",
    "    return model_list, coherence_score_list"
   ]
  },
  {
   "cell_type": "code",
   "execution_count": 24,
   "id": "c17fd7bc",
   "metadata": {},
   "outputs": [
    {
     "name": "stdout",
     "output_type": "stream",
     "text": [
      "원하는 토픽 갯수들을 입력하세요(e.g. 2,5,1)3, 10, 2\n"
     ]
    },
    {
     "data": {
      "text/plain": [
       "(3, 10, 2)"
      ]
     },
     "execution_count": 24,
     "metadata": {},
     "output_type": "execute_result"
    }
   ],
   "source": [
    "# LDA에서 가장 중요한 파라미터 = K(토픽 개수)\n",
    "start, end, step = [int(x) for x in input(\"원하는 토픽 갯수들을 입력하세요(e.g. 2,5,1)\").split(\",\")]\n",
    "start, end, step"
   ]
  },
  {
   "cell_type": "code",
   "execution_count": 25,
   "id": "53c971c9",
   "metadata": {},
   "outputs": [
    {
     "name": "stdout",
     "output_type": "stream",
     "text": [
      "Building document-term matrix.\n",
      "23648 5924\n"
     ]
    },
    {
     "name": "stderr",
     "output_type": "stream",
     "text": [
      "/home/hyejeongeun/.conda/envs/hyejeongeun/lib/python3.7/site-packages/ipykernel_launcher.py:4: TqdmDeprecationWarning: This function will be removed in tqdm==5.0.0\n",
      "Please use `tqdm.notebook.tqdm` instead of `tqdm.tqdm_notebook`\n",
      "  after removing the cwd from sys.path.\n"
     ]
    },
    {
     "data": {
      "application/vnd.jupyter.widget-view+json": {
       "model_id": "b7db6e681d854afdbf24cded761f87dc",
       "version_major": 2,
       "version_minor": 0
      },
      "text/plain": [
       "  0%|          | 0/4 [00:00<?, ?it/s]"
      ]
     },
     "metadata": {},
     "output_type": "display_data"
    }
   ],
   "source": [
    "import pickle\n",
    "\n",
    "corpus, dictionary = build_doc_term_mat(tokenized_documents)\n",
    "print(len(corpus), len(dictionary))\n",
    "\n",
    "write_flag = False\n",
    "\n",
    "\n",
    "model_path = f\"model-test_K({start}-{end})_with_{tokenizer}words.pk\"\n",
    "if os.path.exists(model_path):\n",
    "    with open(model_path, 'rb') as f:\n",
    "        model_list = pickle.load(f)\n",
    "else:\n",
    "    write_flag = True\n",
    "    \n",
    "csScore_path = f\"Coherence-test_K({start}-{end})_with_{tokenizer}words.pk\"\n",
    "if os.path.exists(csScore_path):\n",
    "    with open(csScore_path, 'rb') as f:\n",
    "        coherence_scores = pickle.load(f)\n",
    "else:\n",
    "    write_flag = True\n",
    "\n",
    "\n",
    "if write_flag:\n",
    "    model_list, coherence_scores = compute_coherence(dictionary=dictionary, corpus=corpus, \n",
    "                                                     texts=tokenized_documents, start=start, end=end, step=step)\n",
    "\n",
    "    with open(model_path, 'wb') as f:\n",
    "        pickle.dump(model_list, f)\n",
    "    \n",
    "    with open(csScore_path, 'wb') as f:\n",
    "        pickle.dump(coherence_scores, f)"
   ]
  },
  {
   "cell_type": "code",
   "execution_count": 26,
   "id": "531cf4ca",
   "metadata": {},
   "outputs": [
    {
     "name": "stderr",
     "output_type": "stream",
     "text": [
      "findfont: Font family ['NanumSquare'] not found. Falling back to DejaVu Sans.\n",
      "findfont: Font family ['NanumSquare'] not found. Falling back to DejaVu Sans.\n"
     ]
    },
    {
     "data": {
      "image/png": "[encoded data removed]",
      "text/plain": [
       "<Figure size 576x432 with 1 Axes>"
      ]
     },
     "metadata": {
      "needs_background": "light"
     },
     "output_type": "display_data"
    }
   ],
   "source": [
    "import matplotlib.pyplot as plt\n",
    "%matplotlib inline\n",
    "\n",
    "\n",
    "\n",
    "coherence_list = coherence_scores\n",
    "label = \"Coherenece Score(C_V)\"\n",
    "\n",
    "x = range(start, end, step)\n",
    "plt.figure(figsize=(8, 6))\n",
    "plt.xticks(x)\n",
    "plt.plot(x, coherence_list, label=label)\n",
    "plt.scatter(x, coherence_list)\n",
    "plt.title(\"Coherence Scores for LDA with Review\")\n",
    "plt.xlabel(\"Num Topics\")\n",
    "plt.ylabel(\"Coherence Score\")\n",
    "plt.legend(loc='best')\n",
    "plt.show()"
   ]
  },
  {
   "cell_type": "code",
   "execution_count": 27,
   "id": "979b3cb6",
   "metadata": {
    "scrolled": true
   },
   "outputs": [
    {
     "data": {
      "text/plain": [
       "3"
      ]
     },
     "execution_count": 27,
     "metadata": {},
     "output_type": "execute_result"
    }
   ],
   "source": [
    "selected_model = model_list[np.argmax(coherence_list)]\n",
    "selected_model.num_topics"
   ]
  },
  {
   "cell_type": "code",
   "execution_count": 28,
   "id": "c4698478",
   "metadata": {},
   "outputs": [
    {
     "data": {
      "text/html": [
       "\n",
       "<link rel=\"stylesheet\" type=\"text/css\" href=\"https://cdn.jsdelivr.net/gh/bmabey/pyLDAvis@3.3.1/pyLDAvis/js/ldavis.v1.0.0.css\">\n",
       "\n",
       "\n",
       "<div id=\"ldavis_el290701403461011960248568443542\"></div>\n",
       "<script type=\"text/javascript\">\n",
       "\n",
       "var ldavis_el290701403461011960248568443542_data = {\"mdsDat\": {\"x\": [-0.22031647891489814, -0.12066721670428719, 0.3409836956191853], \"y\": [0.24439480893078072, -0.2971484410539881, 0.05275363212320749], \"topics\": [1, 2, 3], \"cluster\": [1, 1, 1], \"Freq\": [44.56979469985463, 39.98784325549028, 15.44236204465509]}, \"tinfo\": {\"Term\": [\"\\ub108\\ubb34\", \"\\uac00\\uaca9\", \"\\ubc30\\uc1a1\", \"\\uc88b\\n\", \"\\uc720\\ub9ac\", \"\\uce68\\ub300\", \"\\uc0ac\\uc6a9\", \"\\uc870\\ub9bd\", \"\\uc788\\n\", \"\\ub514\\uc790\\uc778\", \"\\uad6c\\ub9e4\", \"\\ud798\\ub4e4\", \"\\uc0dd\\uac01\", \"\\ub098\\uc0ac\", \"\\uc870\\uae08\", \"\\uc774\\n\", \"\\ud63c\\uc790\", \"\\ub9cc\\uc871\\n\", \"\\uc774\\uc058\", \"\\uac19\\n\", \"\\ub300\\ube44\", \"\\uc608\\uc058\", \"\\ub098\\ubb34\", \"\\ud14c\\uc774\\ube14\", \"\\uc6b0\\ub4dc\", \"\\ud558\\ub098\", \"\\uad6c\\uc131\\ube44\", \"\\ub9cc\\uc871\", \"\\uc5ec\\uc790\", \"\\ubd80\\ubd84\", \"\\uac00\\uaca9\", \"\\uc88b\\n\", \"\\ub514\\uc790\\uc778\", \"\\ub108\\ubb34\", \"\\ub9cc\\uc871\\n\", \"\\uc774\\uc058\", \"\\ub300\\ube44\", \"\\uac19\\n\", \"\\uc608\\uc058\", \"\\uad6c\\uc131\\ube44\", \"\\uc0dd\\uac01\", \"\\ub9cc\\uc871\", \"\\ube60\\ub974\", \"\\uc815\\ub9d0\", \"\\uc870\\ub9bd\\ub3c4\", \"\\ub9c8\\uc74c\", \"\\uc544\\uc8fc\", \"\\ub4e4\\n\", \"\\uc778\\ud14c\\ub9ac\\uc5b4\", \"\\uc0ac\\uc774\\uc988\", \"\\uc798\\n\", \"\\ub108\\ubb34\\n\", \"\\uc6d0\\ubaa9\", \"\\uc544\\uc9c1\", \"\\uc2ec\\ud50c\", \"\\ucd5c\\uace0\", \"\\uc870\\ub9bd\\n\", \"\\ube68\\ub9ac\", \"\\ud3b8\\ud558\", \"\\uc624\\ub798\", \"\\ubc30\\uc1a1\", \"\\uc5b4\\ub835\", \"\\ubd84\\uc704\\uae30\", \"\\uad6c\\uc131\", \"\\uc774\\uc058\\n\", \"\\ub290\\ub08c\", \"\\uad1c\\ucc2e\", \"\\uc870\\ub9bd\", \"\\uce68\\ub300\", \"\\uc81c\\ud488\", \"\\uc9c4\\uc9dc\", \"\\ub9ce\\uc774\", \"\\uc720\\ub9ac\", \"\\ub098\\uc0ac\", \"\\ud798\\ub4e4\", \"\\uc870\\uae08\", \"\\ud63c\\uc790\", \"\\ub098\\ubb34\", \"\\ubd80\\ubd84\", \"\\uc5ec\\uc790\", \"\\uadf8\\ub0e5\", \"\\ub9cc\\ub4e4\", \"\\uadfc\\ub370\", \"\\uadf8\\ub798\\ub3c4\", \"\\uad6c\\uba4d\", \"\\uc815\\ub3c4\", \"\\uc0b4\\uc9dd\", \"\\ub4e4\\uc5b4\\uac00\", \"\\uc644\\uc131\", \"\\uc870\\uc774\", \"\\uc57d\\uac04\", \"\\uc544\\ub2c8\", \"\\ucc98\\uc74c\", \"\\ub2e4\\ub9cc\", \"\\ub2e4\\ub9ac\", \"\\uadf8\\ub9ac\\uace0\", \"\\uac71\\uc815\", \"\\ub3cc\\ub9ac\", \"\\ud798\\ub4e4\\n\", \"\\ub9c8\\uac10\", \"\\ubaa8\\uc11c\\ub9ac\", \"\\uc4f0\\n\", \"\\ud3ec\\uc7a5\", \"\\uc5c6\\uc774\", \"\\uc870\\ub9bd\", \"\\ub9ce\\uc774\", \"\\uc81c\\ud488\", \"\\uc0ac\\uc6a9\", \"\\uc788\\n\", \"\\uc774\\n\", \"\\ud14c\\uc774\\ube14\", \"\\uc6b0\\ub4dc\", \"\\ud654\\uc774\\ud2b8\", \"\\ucd94\\ucc9c\\n\", \"\\uace0\\ubbfc\", \"\\ud06c\\uae30\", \"\\uc0ac\\uc774\\ub4dc\", \"\\uacf5\\uac04\", \"\\uc5ed\\uc2dc\", \"\\uad6c\\uc785\", \"\\uc774\\uc720\", \"\\ud0c1\\uc774\", \"\\uc62c\\ub9ac\", \"\\uadf8\\ub300\\ub85c\", \"\\uc2a4\\ud0e0\\ub4dc\", \"\\uc870\\uba85\", \"\\ub194\\ub450\", \"\\uc720\\uc6a9\", \"\\uc0c9\\uae54\", \"\\uc120\\ubc18\", \"\\uad6d\\ubbfc\", \"\\uad6c\\ub9e4\\n\", \"\\uac00\\uc2b5\\uae30\", \"\\uba3c\\uc9c0\", \"\\uc18c\\ud30c\", \"\\ud770\\uc0c9\", \"\\ub611\\uac19\", \"\\uad6c\\ub9e4\", \"\\ud544\\uc694\", \"\\ud558\\ub098\", \"\\uce68\\ub300\", \"\\ucd94\\ucc9c\", \"\\uc774\\uac70\", \"\\uc0ac\\uc9c4\", \"\\uc624\\ub298\"], \"Freq\": [5398.0, 3978.0, 3945.0, 3353.0, 2658.0, 2727.0, 1181.0, 10999.0, 1097.0, 2515.0, 1066.0, 2004.0, 2259.0, 1969.0, 1800.0, 795.0, 1436.0, 1546.0, 1495.0, 1480.0, 1444.0, 1353.0, 1128.0, 545.0, 527.0, 778.0, 1217.0, 1199.0, 1031.0, 1021.0, 3977.4368631175203, 3353.198709360124, 2515.012766774786, 5396.423134667918, 1546.2298208007373, 1495.1532916932108, 1443.6247740670344, 1479.374298042136, 1353.1011823318381, 1216.678486702747, 2257.8022161617305, 1198.6294344580047, 1063.063929364283, 1114.709202495277, 910.6141170738789, 879.9314448078464, 872.0583864829873, 680.8940785951406, 705.9807761302712, 700.367028148636, 626.0402770817559, 493.63257986833213, 429.2474335866638, 397.6137870313921, 377.712558335225, 334.93715594522075, 326.7364867318437, 323.8927314895043, 285.2351559569103, 294.83620629057015, 3931.1140112061407, 888.593902415278, 781.9247525138815, 567.1447821516023, 409.4738140207621, 522.3248236772353, 856.3380515843328, 4683.260841241322, 1667.429762301705, 720.805915241988, 609.6530589055843, 572.6895095053895, 2658.148436001411, 1968.6745412880207, 2004.0267080211606, 1799.7780923857965, 1436.2111445931455, 1128.0874286803328, 1020.8755617669675, 1030.6912311355948, 857.8011375279136, 851.9770329399405, 843.3049440447096, 718.933634480186, 633.9174645018597, 722.4274039247023, 605.4066116413129, 574.5755081212016, 565.6039100543668, 483.80015241995926, 480.35885380569556, 486.92101655854253, 464.76370369031895, 452.42855207722835, 411.86308533987204, 348.5031239223544, 368.3756078806855, 322.4145956067702, 307.96230114251017, 297.29433531491566, 250.40548749487678, 283.4665540297036, 414.22676230819815, 404.3113195770606, 6316.0897487163475, 367.47780518815387, 327.2555575572725, 1181.0302910746225, 1097.1953711182166, 794.9013417306022, 544.5461570681992, 526.9919513746318, 364.0600991853733, 359.64605167836635, 308.1992144320999, 298.7134786704057, 266.19985056715257, 214.1725301723082, 224.81022645460683, 222.40049970888748, 202.83332040656205, 196.54489088994197, 205.62023098019614, 218.33293119974238, 170.3682017970032, 169.5890804256258, 152.1566596049632, 144.81019738317585, 153.94743393226827, 141.21417863624194, 123.88256166311321, 121.54786277204148, 115.41351722422817, 117.45326476327394, 111.84877529585783, 121.19034561292005, 125.72698121074055, 1055.689645507968, 372.26032119419966, 513.3685480863114, 1059.6822713522436, 145.33996827379488, 174.23511186860893, 245.01575710483695, 147.6128193859016], \"Total\": [5398.0, 3978.0, 3945.0, 3353.0, 2658.0, 2727.0, 1181.0, 10999.0, 1097.0, 2515.0, 1066.0, 2004.0, 2259.0, 1969.0, 1800.0, 795.0, 1436.0, 1546.0, 1495.0, 1480.0, 1444.0, 1353.0, 1128.0, 545.0, 527.0, 778.0, 1217.0, 1199.0, 1031.0, 1021.0, 3978.1660778101486, 3353.909601616907, 2515.8092498373603, 5398.153061697033, 1546.9549936509588, 1495.8796708191383, 1444.327856525857, 1480.12110144529, 1353.8392980315568, 1217.4025619628235, 2259.1976065952986, 1199.3915840984741, 1063.7569972785307, 1115.4452034111266, 911.3204729674302, 880.653065844005, 872.7980524704415, 681.5934265676135, 706.7063421464255, 701.0949269774146, 626.7570835623532, 494.4086820567892, 430.00285474420235, 398.36215266447704, 378.4309997247323, 335.64852294794184, 327.46054385050246, 324.62511534663224, 285.950916610325, 295.59243172439676, 3945.7490669295444, 892.9052223641107, 785.7940860858296, 570.9302456847427, 411.355157967031, 541.5069403400267, 1062.1017421663712, 10999.714904923565, 2727.453018927833, 1048.5986090878116, 865.4669566483321, 970.8172277644095, 2658.904389510623, 1969.373871918451, 2004.7521373010309, 1800.5262972373857, 1436.942410025511, 1128.8136947323824, 1021.5847874982544, 1031.4192900279522, 858.5405815760982, 852.7131928435548, 844.0420031839719, 719.6678635887654, 634.612074971605, 723.2244304742024, 606.1419935131169, 575.2795879498184, 566.3300092007208, 484.49589844592384, 481.0952133865378, 487.6831641009399, 465.4979382554729, 453.1792478142176, 412.5689696150661, 349.228684956207, 369.1528861873853, 323.107202405267, 308.67691148592763, 298.030055431422, 251.11462065950926, 284.27160698180177, 415.9607738983758, 411.3186574756324, 10999.714904923565, 970.8172277644095, 1048.5986090878116, 1181.751226652148, 1097.919050984578, 795.6421192542373, 545.2360320300389, 527.7038265730921, 364.7593489150025, 360.3906807324202, 308.904189189511, 299.47236304002996, 266.8803242469631, 214.86369743054172, 225.5396998250269, 223.1407906533024, 203.53217123472388, 197.24337997038137, 206.37272744167325, 219.14098509128655, 171.05599404406667, 170.276858548714, 152.86007729807312, 145.50319908929217, 154.69800772110904, 141.93396977215588, 124.58524809027516, 122.24831741438518, 116.10337609474439, 118.16053846182123, 112.52598720476426, 121.92416325467667, 126.50564330545009, 1066.09456018677, 406.6502911762455, 778.3768701973244, 2727.453018927833, 170.48617638385878, 249.30222212709364, 628.4851921059972, 196.46841222684958], \"Category\": [\"Default\", \"Default\", \"Default\", \"Default\", \"Default\", \"Default\", \"Default\", \"Default\", \"Default\", \"Default\", \"Default\", \"Default\", \"Default\", \"Default\", \"Default\", \"Default\", \"Default\", \"Default\", \"Default\", \"Default\", \"Default\", \"Default\", \"Default\", \"Default\", \"Default\", \"Default\", \"Default\", \"Default\", \"Default\", \"Default\", \"Topic1\", \"Topic1\", \"Topic1\", \"Topic1\", \"Topic1\", \"Topic1\", \"Topic1\", \"Topic1\", \"Topic1\", \"Topic1\", \"Topic1\", \"Topic1\", \"Topic1\", \"Topic1\", \"Topic1\", \"Topic1\", \"Topic1\", \"Topic1\", \"Topic1\", \"Topic1\", \"Topic1\", \"Topic1\", \"Topic1\", \"Topic1\", \"Topic1\", \"Topic1\", \"Topic1\", \"Topic1\", \"Topic1\", \"Topic1\", \"Topic1\", \"Topic1\", \"Topic1\", \"Topic1\", \"Topic1\", \"Topic1\", \"Topic1\", \"Topic1\", \"Topic1\", \"Topic1\", \"Topic1\", \"Topic1\", \"Topic2\", \"Topic2\", \"Topic2\", \"Topic2\", \"Topic2\", \"Topic2\", \"Topic2\", \"Topic2\", \"Topic2\", \"Topic2\", \"Topic2\", \"Topic2\", \"Topic2\", \"Topic2\", \"Topic2\", \"Topic2\", \"Topic2\", \"Topic2\", \"Topic2\", \"Topic2\", \"Topic2\", \"Topic2\", \"Topic2\", \"Topic2\", \"Topic2\", \"Topic2\", \"Topic2\", \"Topic2\", \"Topic2\", \"Topic2\", \"Topic2\", \"Topic2\", \"Topic2\", \"Topic2\", \"Topic2\", \"Topic3\", \"Topic3\", \"Topic3\", \"Topic3\", \"Topic3\", \"Topic3\", \"Topic3\", \"Topic3\", \"Topic3\", \"Topic3\", \"Topic3\", \"Topic3\", \"Topic3\", \"Topic3\", \"Topic3\", \"Topic3\", \"Topic3\", \"Topic3\", \"Topic3\", \"Topic3\", \"Topic3\", \"Topic3\", \"Topic3\", \"Topic3\", \"Topic3\", \"Topic3\", \"Topic3\", \"Topic3\", \"Topic3\", \"Topic3\", \"Topic3\", \"Topic3\", \"Topic3\", \"Topic3\", \"Topic3\", \"Topic3\", \"Topic3\", \"Topic3\"], \"logprob\": [30.0, 29.0, 28.0, 27.0, 26.0, 25.0, 24.0, 23.0, 22.0, 21.0, 20.0, 19.0, 18.0, 17.0, 16.0, 15.0, 14.0, 13.0, 12.0, 11.0, 10.0, 9.0, 8.0, 7.0, 6.0, 5.0, 4.0, 3.0, 2.0, 1.0, -2.9426, -3.1133, -3.4009, -2.6375, -3.8874, -3.921, -3.9561, -3.9316, -4.0208, -4.1271, -3.5088, -4.142, -4.2621, -4.2146, -4.4168, -4.4511, -4.4601, -4.7076, -4.6714, -4.6794, -4.7916, -5.0292, -5.1689, -5.2455, -5.2968, -5.417, -5.4418, -5.4506, -5.5777, -5.5445, -2.9543, -4.4413, -4.5692, -4.8904, -5.2161, -4.9727, -4.4783, -2.7792, -3.8119, -4.6506, -4.8181, -4.8806, -3.2371, -3.5374, -3.5196, -3.6271, -3.8527, -4.0942, -4.1941, -4.1845, -4.3681, -4.3749, -4.3852, -4.5447, -4.6706, -4.5399, -4.7166, -4.7689, -4.7846, -4.9408, -4.948, -4.9344, -4.981, -5.0079, -5.1018, -5.2688, -5.2134, -5.3466, -5.3925, -5.4278, -5.5994, -5.4754, -5.0961, -5.1203, -2.3716, -5.2158, -5.3317, -3.0969, -3.1705, -3.4928, -3.8711, -3.9038, -4.2737, -4.2859, -4.4403, -4.4715, -4.5868, -4.8042, -4.7558, -4.7665, -4.8586, -4.8901, -4.845, -4.785, -5.0331, -5.0376, -5.1461, -5.1956, -5.1344, -5.2207, -5.3517, -5.3707, -5.4225, -5.405, -5.4539, -5.3737, -5.3369, -3.2091, -4.2514, -3.93, -3.2053, -5.1919, -5.0106, -4.6697, -5.1764], \"loglift\": [30.0, 29.0, 28.0, 27.0, 26.0, 25.0, 24.0, 23.0, 22.0, 21.0, 20.0, 19.0, 18.0, 17.0, 16.0, 15.0, 14.0, 13.0, 12.0, 11.0, 10.0, 9.0, 8.0, 7.0, 6.0, 5.0, 4.0, 3.0, 2.0, 1.0, 0.8079, 0.8079, 0.8078, 0.8078, 0.8076, 0.8076, 0.8076, 0.8076, 0.8076, 0.8075, 0.8075, 0.8075, 0.8075, 0.8075, 0.8073, 0.8073, 0.8073, 0.8071, 0.8071, 0.8071, 0.807, 0.8065, 0.8064, 0.8062, 0.8062, 0.806, 0.8059, 0.8059, 0.8056, 0.8056, 0.8044, 0.8033, 0.8032, 0.8015, 0.8035, 0.772, 0.5928, -0.0458, 0.316, 0.4333, 0.4577, 0.2803, 0.9163, 0.9162, 0.9162, 0.9162, 0.9161, 0.916, 0.9159, 0.9159, 0.9157, 0.9157, 0.9157, 0.9156, 0.9155, 0.9155, 0.9154, 0.9154, 0.9153, 0.9152, 0.9151, 0.915, 0.915, 0.9149, 0.9149, 0.9145, 0.9145, 0.9144, 0.9143, 0.9141, 0.9138, 0.9138, 0.9124, 0.8994, 0.3618, -0.0549, -0.2479, 1.8674, 1.8674, 1.8671, 1.8668, 1.8667, 1.8661, 1.866, 1.8658, 1.8655, 1.8655, 1.8648, 1.8648, 1.8647, 1.8646, 1.8645, 1.8644, 1.8644, 1.864, 1.864, 1.8634, 1.8633, 1.8632, 1.863, 1.8624, 1.8623, 1.8621, 1.8621, 1.862, 1.862, 1.8619, 1.8582, 1.7797, 1.4518, 0.9227, 1.7085, 1.5098, 0.9261, 1.5821]}, \"token.table\": {\"Topic\": [1, 3, 1, 2, 3, 3, 1, 2, 1, 3, 3, 2, 1, 2, 1, 3, 3, 2, 3, 2, 2, 2, 2, 2, 1, 2, 1, 3, 1, 2, 2, 2, 1, 2, 1, 2, 1, 3, 2, 1, 2, 1, 1, 1, 2, 3, 3, 2, 1, 2, 2, 1, 3, 1, 1, 3, 3, 1, 1, 2, 3, 2, 3, 1, 2, 3, 3, 3, 1, 2, 2, 1, 1, 2, 1, 2, 2, 3, 2, 3, 1, 1, 3, 1, 3, 2, 3, 1, 2, 3, 3, 2, 3, 1, 1, 2, 3, 1, 3, 1, 2, 1, 1, 2, 3, 2, 1, 2, 1, 1, 3, 2, 1, 1, 2, 2, 1, 2, 3, 3, 1, 3, 3, 3, 3, 1, 1, 2, 2, 3, 2, 3, 2, 3, 3, 2, 2], \"Freq\": [0.9997068805607053, 0.9904966062843513, 0.9992425610011267, 0.9968769411522355, 0.9970729137993131, 0.9959802542687747, 0.8059491534718839, 0.19301352390389745, 0.009380030977972622, 0.9905312712739088, 0.9979687457493304, 0.9990355131965738, 0.993116066779701, 0.005254582363913762, 0.9996693271598062, 0.9948875745668803, 0.9953024286643385, 0.99937034825412, 0.9947933742708547, 0.9990719835877693, 0.9993451713273905, 0.9987654605102102, 0.9992791594076335, 0.9998101569621787, 0.9996011484534756, 0.0001852485449320748, 0.9991733922327395, 0.9943734341021169, 0.9639765644965181, 0.03508726958895372, 0.9986209103035621, 0.9973978335947522, 0.9997730040832656, 0.9965732660955101, 0.9991293540335301, 0.9995139964016196, 0.9996783341831609, 0.9960029980304578, 0.9965437867334188, 0.9992584300568135, 0.9991636193159197, 0.9996735143854053, 0.9993826622914833, 0.5902243837591346, 0.3780320224076831, 0.031931860203373776, 0.9901782906803847, 0.9955613071967618, 0.9962620362624779, 0.003548122235480715, 0.9994275683179598, 0.9951716535501959, 0.005090392089770823, 0.9992883738669007, 0.9980743469402706, 0.999364310664372, 0.996701426943155, 0.9984382614460854, 0.44710679508357926, 0.16388612061782443, 0.38982620923657263, 0.9981159637092655, 0.9954879333522678, 0.9994698973689586, 0.000442635029835677, 0.993419688227877, 0.9953256379452409, 0.9938266177109548, 0.9988610876882554, 0.9955267886395591, 0.9985991640654659, 0.9990856390339293, 0.9990908959045061, 0.997723499723, 0.9956263864671202, 0.004479758769255884, 0.9822068429364501, 0.01701843539741374, 0.9995934824644003, 0.9976070739411039, 0.9993800608146202, 0.2443140831442026, 0.7533017563612914, 0.9979957818238421, 0.9981939113452934, 0.9994172846302343, 0.9986662469786077, 0.9976677951480137, 0.9996598638468571, 0.996541663053172, 0.9991929546730896, 0.3008396770798344, 0.6979480508252158, 0.9994119374463746, 0.994274636110872, 0.004861978660688861, 0.9973853212910004, 0.9990005153423694, 0.9991629155321116, 0.9987920622164331, 0.998306984080447, 0.9996008737948174, 0.6875843566369084, 0.3118447775593191, 0.0009536537540040338, 0.9997076981112727, 0.4257383068995588, 0.5741967000592811, 0.9985935897953168, 0.9996483421837472, 0.9983740682611032, 0.9989764651310475, 0.9997287936393788, 0.7048218251593668, 0.2946386318289156, 0.9989303105029015, 0.9980678510298631, 0.14663945505887327, 0.8505088393414649, 0.9989159521782688, 0.6111929292389061, 0.38864097480098414, 0.9984226823629571, 0.9987660930855174, 0.9995671011888922, 0.9966745460318952, 0.002404072842321214, 0.9952861567209824, 0.08360992414798032, 0.9147909347955494, 0.34045204854663846, 0.6590637769978323, 0.9993441560225825, 0.997918219458223, 0.9924201796427647, 0.9996248227962767, 0.9978070550120867], \"Term\": [\"\\uac00\\uaca9\", \"\\uac00\\uc2b5\\uae30\", \"\\uac19\\n\", \"\\uac71\\uc815\", \"\\uace0\\ubbfc\", \"\\uacf5\\uac04\", \"\\uad1c\\ucc2e\", \"\\uad1c\\ucc2e\", \"\\uad6c\\ub9e4\", \"\\uad6c\\ub9e4\", \"\\uad6c\\ub9e4\\n\", \"\\uad6c\\uba4d\", \"\\uad6c\\uc131\", \"\\uad6c\\uc131\", \"\\uad6c\\uc131\\ube44\", \"\\uad6c\\uc785\", \"\\uad6d\\ubbfc\", \"\\uadf8\\ub0e5\", \"\\uadf8\\ub300\\ub85c\", \"\\uadf8\\ub798\\ub3c4\", \"\\uadf8\\ub9ac\\uace0\", \"\\uadfc\\ub370\", \"\\ub098\\ubb34\", \"\\ub098\\uc0ac\", \"\\ub108\\ubb34\", \"\\ub108\\ubb34\", \"\\ub108\\ubb34\\n\", \"\\ub194\\ub450\", \"\\ub290\\ub08c\", \"\\ub290\\ub08c\", \"\\ub2e4\\ub9ac\", \"\\ub2e4\\ub9cc\", \"\\ub300\\ube44\", \"\\ub3cc\\ub9ac\", \"\\ub4e4\\n\", \"\\ub4e4\\uc5b4\\uac00\", \"\\ub514\\uc790\\uc778\", \"\\ub611\\uac19\", \"\\ub9c8\\uac10\", \"\\ub9c8\\uc74c\", \"\\ub9cc\\ub4e4\", \"\\ub9cc\\uc871\", \"\\ub9cc\\uc871\\n\", \"\\ub9ce\\uc774\", \"\\ub9ce\\uc774\", \"\\ub9ce\\uc774\", \"\\uba3c\\uc9c0\", \"\\ubaa8\\uc11c\\ub9ac\", \"\\ubc30\\uc1a1\", \"\\ubc30\\uc1a1\", \"\\ubd80\\ubd84\", \"\\ubd84\\uc704\\uae30\", \"\\ubd84\\uc704\\uae30\", \"\\ube60\\ub974\", \"\\ube68\\ub9ac\", \"\\uc0ac\\uc6a9\", \"\\uc0ac\\uc774\\ub4dc\", \"\\uc0ac\\uc774\\uc988\", \"\\uc0ac\\uc9c4\", \"\\uc0ac\\uc9c4\", \"\\uc0ac\\uc9c4\", \"\\uc0b4\\uc9dd\", \"\\uc0c9\\uae54\", \"\\uc0dd\\uac01\", \"\\uc0dd\\uac01\", \"\\uc120\\ubc18\", \"\\uc18c\\ud30c\", \"\\uc2a4\\ud0e0\\ub4dc\", \"\\uc2ec\\ud50c\", \"\\uc4f0\\n\", \"\\uc544\\ub2c8\", \"\\uc544\\uc8fc\", \"\\uc544\\uc9c1\", \"\\uc57d\\uac04\", \"\\uc5b4\\ub835\", \"\\uc5b4\\ub835\", \"\\uc5c6\\uc774\", \"\\uc5c6\\uc774\", \"\\uc5ec\\uc790\", \"\\uc5ed\\uc2dc\", \"\\uc608\\uc058\", \"\\uc624\\ub298\", \"\\uc624\\ub298\", \"\\uc624\\ub798\", \"\\uc62c\\ub9ac\", \"\\uc644\\uc131\", \"\\uc6b0\\ub4dc\", \"\\uc6d0\\ubaa9\", \"\\uc720\\ub9ac\", \"\\uc720\\uc6a9\", \"\\uc774\\n\", \"\\uc774\\uac70\", \"\\uc774\\uac70\", \"\\uc774\\uc058\", \"\\uc774\\uc058\\n\", \"\\uc774\\uc058\\n\", \"\\uc774\\uc720\", \"\\uc778\\ud14c\\ub9ac\\uc5b4\", \"\\uc788\\n\", \"\\uc798\\n\", \"\\uc815\\ub3c4\", \"\\uc815\\ub9d0\", \"\\uc81c\\ud488\", \"\\uc81c\\ud488\", \"\\uc81c\\ud488\", \"\\uc870\\uae08\", \"\\uc870\\ub9bd\", \"\\uc870\\ub9bd\", \"\\uc870\\ub9bd\\n\", \"\\uc870\\ub9bd\\ub3c4\", \"\\uc870\\uba85\", \"\\uc870\\uc774\", \"\\uc88b\\n\", \"\\uc9c4\\uc9dc\", \"\\uc9c4\\uc9dc\", \"\\ucc98\\uc74c\", \"\\ucd5c\\uace0\", \"\\ucd94\\ucc9c\", \"\\ucd94\\ucc9c\", \"\\ucd94\\ucc9c\\n\", \"\\uce68\\ub300\", \"\\uce68\\ub300\", \"\\ud06c\\uae30\", \"\\ud0c1\\uc774\", \"\\ud14c\\uc774\\ube14\", \"\\ud3b8\\ud558\", \"\\ud3ec\\uc7a5\", \"\\ud3ec\\uc7a5\", \"\\ud544\\uc694\", \"\\ud544\\uc694\", \"\\ud558\\ub098\", \"\\ud558\\ub098\", \"\\ud63c\\uc790\", \"\\ud654\\uc774\\ud2b8\", \"\\ud770\\uc0c9\", \"\\ud798\\ub4e4\", \"\\ud798\\ub4e4\\n\"]}, \"R\": 30, \"lambda.step\": 0.01, \"plot.opts\": {\"xlab\": \"PC1\", \"ylab\": \"PC2\"}, \"topic.order\": [2, 3, 1]};\n",
       "\n",
       "function LDAvis_load_lib(url, callback){\n",
       "  var s = document.createElement('script');\n",
       "  s.src = url;\n",
       "  s.async = true;\n",
       "  s.onreadystatechange = s.onload = callback;\n",
       "  s.onerror = function(){console.warn(\"failed to load library \" + url);};\n",
       "  document.getElementsByTagName(\"head\")[0].appendChild(s);\n",
       "}\n",
       "\n",
       "if(typeof(LDAvis) !== \"undefined\"){\n",
       "   // already loaded: just create the visualization\n",
       "   !function(LDAvis){\n",
       "       new LDAvis(\"#\" + \"ldavis_el290701403461011960248568443542\", ldavis_el290701403461011960248568443542_data);\n",
       "   }(LDAvis);\n",
       "}else if(typeof define === \"function\" && define.amd){\n",
       "   // require.js is available: use it to load d3/LDAvis\n",
       "   require.config({paths: {d3: \"https://d3js.org/d3.v5\"}});\n",
       "   require([\"d3\"], function(d3){\n",
       "      window.d3 = d3;\n",
       "      LDAvis_load_lib(\"https://cdn.jsdelivr.net/gh/bmabey/pyLDAvis@3.3.1/pyLDAvis/js/ldavis.v3.0.0.js\", function(){\n",
       "        new LDAvis(\"#\" + \"ldavis_el290701403461011960248568443542\", ldavis_el290701403461011960248568443542_data);\n",
       "      });\n",
       "    });\n",
       "}else{\n",
       "    // require.js not available: dynamically load d3 & LDAvis\n",
       "    LDAvis_load_lib(\"https://d3js.org/d3.v5.js\", function(){\n",
       "         LDAvis_load_lib(\"https://cdn.jsdelivr.net/gh/bmabey/pyLDAvis@3.3.1/pyLDAvis/js/ldavis.v3.0.0.js\", function(){\n",
       "                 new LDAvis(\"#\" + \"ldavis_el290701403461011960248568443542\", ldavis_el290701403461011960248568443542_data);\n",
       "            })\n",
       "         });\n",
       "}\n",
       "</script>"
      ],
      "text/plain": [
       "PreparedData(topic_coordinates=              x         y  topics  cluster       Freq\n",
       "topic                                                \n",
       "1     -0.220316  0.244395       1        1  44.569795\n",
       "2     -0.120667 -0.297148       2        1  39.987843\n",
       "0      0.340984  0.052754       3        1  15.442362, topic_info=    Term         Freq        Total Category  logprob  loglift\n",
       "74    너무  5398.000000  5398.000000  Default  30.0000  30.0000\n",
       "0     가격  3978.000000  3978.000000  Default  29.0000  29.0000\n",
       "22    배송  3945.000000  3945.000000  Default  28.0000  28.0000\n",
       "143  좋\\n  3353.000000  3353.000000  Default  27.0000  27.0000\n",
       "42    유리  2658.000000  2658.000000  Default  26.0000  26.0000\n",
       "..   ...          ...          ...      ...      ...      ...\n",
       "174   침대  1059.682271  2727.453019   Topic3  -3.2053   0.9227\n",
       "203   추천   145.339968   170.486176   Topic3  -5.1919   1.7085\n",
       "373   이거   174.235112   249.302222   Topic3  -5.0106   1.5098\n",
       "111   사진   245.015757   628.485192   Topic3  -4.6697   0.9261\n",
       "39    오늘   147.612819   196.468412   Topic3  -5.1764   1.5821\n",
       "\n",
       "[145 rows x 6 columns], token_table=      Topic      Freq  Term\n",
       "term                       \n",
       "0         1  0.999707    가격\n",
       "193       3  0.990497   가습기\n",
       "166       1  0.999243   같\\n\n",
       "154       2  0.996877    걱정\n",
       "155       3  0.997073    고민\n",
       "...     ...       ...   ...\n",
       "195       2  0.999344    혼자\n",
       "57        3  0.997918   화이트\n",
       "59        3  0.992420    흰색\n",
       "82        2  0.999625    힘들\n",
       "290       2  0.997807  힘들\\n\n",
       "\n",
       "[137 rows x 3 columns], R=30, lambda_step=0.01, plot_opts={'xlab': 'PC1', 'ylab': 'PC2'}, topic_order=[2, 3, 1])"
      ]
     },
     "execution_count": 28,
     "metadata": {},
     "output_type": "execute_result"
    }
   ],
   "source": [
    "# pyLDAvis 불러오기\n",
    "import pyLDAvis\n",
    "import pyLDAvis.gensim_models\n",
    "\n",
    "# pyLDAvis를 jupyter notebook에서 실행할 수 있게 활성화.\n",
    "pyLDAvis.enable_notebook()\n",
    "\n",
    "# pyLDAvis 실행.\n",
    "data = pyLDAvis.gensim_models.prepare(selected_model, corpus, dictionary)\n",
    "data\n",
    "\n",
    "# LDAvis 는 토픽에서 단어가 발생할 확률 벡터인 \n",
    "# P(w|t)  에 Principal Component Analysis (PCA) 를 적용하여 2 차원의 벡터로 압축\n",
    "\n",
    "# 각 토픽에서 단어가 발생할 확률 P(w|t)\n",
    "# 단어의 기본 발생 확률로 정규화한 P(w|t)/P(w)가 λ에 의하여 조합되어 계산\n",
    "# 사용자는 λ 를 조절하며 각 토픽에 주로 등장하는 단어와, 다른 단어와 차별성이 높은 단어들을 살펴볼 수 있습니다."
   ]
  },
  {
   "cell_type": "code",
   "execution_count": null,
   "id": "59cc6c2c",
   "metadata": {},
   "outputs": [],
   "source": []
  },
  {
   "cell_type": "code",
   "execution_count": null,
   "id": "ea782c85",
   "metadata": {},
   "outputs": [],
   "source": []
  }
 ],
 "metadata": {
  "kernelspec": {
   "display_name": "Python 3",
   "language": "python",
   "name": "python3"
  },
  "language_info": {
   "codemirror_mode": {
    "name": "ipython",
    "version": 3
   },
   "file_extension": ".py",
   "mimetype": "text/x-python",
   "name": "python",
   "nbconvert_exporter": "python",
   "pygments_lexer": "ipython3",
   "version": "3.7.0"
  }
 },
 "nbformat": 4,
 "nbformat_minor": 5
}
