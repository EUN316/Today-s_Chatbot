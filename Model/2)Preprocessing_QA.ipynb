{
 "cells": [
  {
   "cell_type": "markdown",
   "metadata": {},
   "source": [
    "# Preprocessing"
   ]
  },
  {
   "cell_type": "markdown",
   "metadata": {
    "id": "r-RkPJep1xST"
   },
   "source": [
    "## Library"
   ]
  },
  {
   "cell_type": "code",
   "execution_count": null,
   "metadata": {
    "id": "k35BZ7Cr1z4y"
   },
   "outputs": [],
   "source": [
    "# !git clone https://github.com/ssut/py-hanspell.git\n",
    "# !pip install kss"
   ]
  },
  {
   "cell_type": "code",
   "execution_count": 1,
   "metadata": {
    "id": "kKPVZs_W14yr"
   },
   "outputs": [],
   "source": [
    "# 수정한 hanspell 불러오기\n",
    "from py_hanspell.hanspell import spell_checker\n",
    "from py_hanspell.hanspell.constants import CheckResult\n",
    "\n",
    "import numpy as np\n",
    "import pandas as pd\n",
    "import kss\n",
    "import re\n",
    "from tqdm.notebook import tqdm\n",
    "import os\n",
    "\n",
    "import warnings\n",
    "warnings.filterwarnings(\"ignore\")\n",
    "\n",
    "# pd.set_option('display.max_columns', None)\n",
    "# pd.set_option('display.max_rows', None)"
   ]
  },
  {
   "cell_type": "markdown",
   "metadata": {},
   "source": [
    "## Path"
   ]
  },
  {
   "cell_type": "code",
   "execution_count": 2,
   "metadata": {},
   "outputs": [],
   "source": [
    "base_path = '../Data/Base/'\n",
    "save_path = '../Data/QnA/'"
   ]
  },
  {
   "cell_type": "markdown",
   "metadata": {
    "id": "yJkwmylu2WBq"
   },
   "source": [
    "## Load Data"
   ]
  },
  {
   "cell_type": "code",
   "execution_count": 3,
   "metadata": {
    "id": "EBnhQfMQ2Yak",
    "scrolled": true
   },
   "outputs": [],
   "source": [
    "# qna 파일 불러오기\n",
    "df = pd.read_csv(base_path+'qna_table.csv')"
   ]
  },
  {
   "cell_type": "code",
   "execution_count": 4,
   "metadata": {
    "colab": {
     "base_uri": "https://localhost:8080/",
     "height": 854
    },
    "executionInfo": {
     "elapsed": 1939,
     "status": "ok",
     "timestamp": 1616301851424,
     "user": {
      "displayName": "이정은",
      "photoUrl": "",
      "userId": "04796680705640849664"
     },
     "user_tz": -540
    },
    "id": "CZvpLvGmOGyT",
    "outputId": "1a45c60c-ed19-4091-ef07-20a4ffb73eff",
    "scrolled": false
   },
   "outputs": [
    {
     "data": {
      "text/html": [
       "<div>\n",
       "<style scoped>\n",
       "    .dataframe tbody tr th:only-of-type {\n",
       "        vertical-align: middle;\n",
       "    }\n",
       "\n",
       "    .dataframe tbody tr th {\n",
       "        vertical-align: top;\n",
       "    }\n",
       "\n",
       "    .dataframe thead th {\n",
       "        text-align: right;\n",
       "    }\n",
       "</style>\n",
       "<table border=\"1\" class=\"dataframe\">\n",
       "  <thead>\n",
       "    <tr style=\"text-align: right;\">\n",
       "      <th></th>\n",
       "      <th>product_id</th>\n",
       "      <th>product_name</th>\n",
       "      <th>product_option</th>\n",
       "      <th>user_id</th>\n",
       "      <th>user_buyer</th>\n",
       "      <th>is_secret</th>\n",
       "      <th>label</th>\n",
       "      <th>question</th>\n",
       "      <th>question_time</th>\n",
       "      <th>answer</th>\n",
       "      <th>answer_time</th>\n",
       "    </tr>\n",
       "  </thead>\n",
       "  <tbody>\n",
       "    <tr>\n",
       "      <th>0</th>\n",
       "      <td>388715</td>\n",
       "      <td>순수원목 A사이드테이블 3colors</td>\n",
       "      <td>A사이드테이블 / 우드</td>\n",
       "      <td>3080121</td>\n",
       "      <td>False</td>\n",
       "      <td>False</td>\n",
       "      <td>상품</td>\n",
       "      <td>어떤 유리인가요?</td>\n",
       "      <td>2021-03-19T01:16:01.000+09:00</td>\n",
       "      <td>None</td>\n",
       "      <td>None</td>\n",
       "    </tr>\n",
       "  </tbody>\n",
       "</table>\n",
       "</div>"
      ],
      "text/plain": [
       "   product_id          product_name product_option  user_id  user_buyer  \\\n",
       "0      388715  순수원목 A사이드테이블 3colors   A사이드테이블 / 우드  3080121       False   \n",
       "\n",
       "   is_secret label   question                  question_time answer  \\\n",
       "0      False    상품  어떤 유리인가요?  2021-03-19T01:16:01.000+09:00   None   \n",
       "\n",
       "  answer_time  \n",
       "0        None  "
      ]
     },
     "execution_count": 4,
     "metadata": {},
     "output_type": "execute_result"
    }
   ],
   "source": [
    "df[:1]"
   ]
  },
  {
   "cell_type": "markdown",
   "metadata": {
    "id": "O27N8p__bPPr"
   },
   "source": [
    "## 비밀글 & 답변 없음 제거"
   ]
  },
  {
   "cell_type": "code",
   "execution_count": 5,
   "metadata": {
    "colab": {
     "base_uri": "https://localhost:8080/"
    },
    "executionInfo": {
     "elapsed": 540,
     "status": "ok",
     "timestamp": 1616302020786,
     "user": {
      "displayName": "이정은",
      "photoUrl": "",
      "userId": "04796680705640849664"
     },
     "user_tz": -540
    },
    "id": "QgnzoC9nbJlg",
    "outputId": "168cff0d-68a6-4ff8-d1c5-ef2167bd3d8e"
   },
   "outputs": [
    {
     "name": "stdout",
     "output_type": "stream",
     "text": [
      "(125543, 11)\n",
      "(95340, 11)\n",
      "(95305, 11)\n"
     ]
    },
    {
     "data": {
      "text/html": [
       "<div>\n",
       "<style scoped>\n",
       "    .dataframe tbody tr th:only-of-type {\n",
       "        vertical-align: middle;\n",
       "    }\n",
       "\n",
       "    .dataframe tbody tr th {\n",
       "        vertical-align: top;\n",
       "    }\n",
       "\n",
       "    .dataframe thead th {\n",
       "        text-align: right;\n",
       "    }\n",
       "</style>\n",
       "<table border=\"1\" class=\"dataframe\">\n",
       "  <thead>\n",
       "    <tr style=\"text-align: right;\">\n",
       "      <th></th>\n",
       "      <th>product_id</th>\n",
       "      <th>product_name</th>\n",
       "      <th>product_option</th>\n",
       "      <th>user_id</th>\n",
       "      <th>user_buyer</th>\n",
       "      <th>is_secret</th>\n",
       "      <th>label</th>\n",
       "      <th>question</th>\n",
       "      <th>question_time</th>\n",
       "      <th>answer</th>\n",
       "      <th>answer_time</th>\n",
       "    </tr>\n",
       "  </thead>\n",
       "  <tbody>\n",
       "    <tr>\n",
       "      <th>3</th>\n",
       "      <td>388715</td>\n",
       "      <td>순수원목 A사이드테이블 3colors</td>\n",
       "      <td>A사이드테이블 / 우드</td>\n",
       "      <td>3077236</td>\n",
       "      <td>True</td>\n",
       "      <td>False</td>\n",
       "      <td>환불</td>\n",
       "      <td>상부 연결 목재 중 하나가 나사산이 덜 파져 있네요;; 조립하다 목재가 갈라져버립니...</td>\n",
       "      <td>2021-03-18T16:52:34.000+09:00</td>\n",
       "      <td>안녕하세요 고객님 먼데이하우스입니다.\\r\\n불편을 드려 죄송합니다.\\r\\n유선상 연...</td>\n",
       "      <td>2021-03-18T18:19:46.000+09:00</td>\n",
       "    </tr>\n",
       "  </tbody>\n",
       "</table>\n",
       "</div>"
      ],
      "text/plain": [
       "   product_id          product_name product_option  user_id  user_buyer  \\\n",
       "3      388715  순수원목 A사이드테이블 3colors   A사이드테이블 / 우드  3077236        True   \n",
       "\n",
       "   is_secret label                                           question  \\\n",
       "3      False    환불  상부 연결 목재 중 하나가 나사산이 덜 파져 있네요;; 조립하다 목재가 갈라져버립니...   \n",
       "\n",
       "                   question_time  \\\n",
       "3  2021-03-18T16:52:34.000+09:00   \n",
       "\n",
       "                                              answer  \\\n",
       "3  안녕하세요 고객님 먼데이하우스입니다.\\r\\n불편을 드려 죄송합니다.\\r\\n유선상 연...   \n",
       "\n",
       "                     answer_time  \n",
       "3  2021-03-18T18:19:46.000+09:00  "
      ]
     },
     "execution_count": 5,
     "metadata": {},
     "output_type": "execute_result"
    }
   ],
   "source": [
    "# 전체 개수\n",
    "print(df.shape)\n",
    "\n",
    "# 비밀글 제거 > 즉, 둘 중 하나라도 비밀글이면 drop\n",
    "df_remove = df[(df['question']!='비밀글입니다.')&(df['answer']!='비밀글입니다.')]\n",
    "\n",
    "# 제거한 후 개수\n",
    "print(df_remove.shape)\n",
    "\n",
    "# 답변 없음 제거\n",
    "df_remove_ = df_remove[df_remove['answer']!='None']\n",
    "\n",
    "# 제거한 후 개수\n",
    "print(df_remove_.shape)\n",
    "\n",
    "df_remove_[:1]"
   ]
  },
  {
   "cell_type": "markdown",
   "metadata": {
    "id": "kss4EEJRevt-"
   },
   "source": [
    "## 내용 중복 제거"
   ]
  },
  {
   "cell_type": "code",
   "execution_count": 6,
   "metadata": {
    "colab": {
     "base_uri": "https://localhost:8080/"
    },
    "executionInfo": {
     "elapsed": 743,
     "status": "ok",
     "timestamp": 1614766997756,
     "user": {
      "displayName": "윤혜정",
      "photoUrl": "",
      "userId": "03713842836714125732"
     },
     "user_tz": -540
    },
    "id": "JNrA3fBife96",
    "outputId": "373c7d84-d6c5-4bd5-aec5-16875b021079",
    "scrolled": true
   },
   "outputs": [
    {
     "name": "stdout",
     "output_type": "stream",
     "text": [
      "질문 unique: 92984\n",
      "답변 unique: 80645\n",
      "전체 개수:  (95190, 11)\n",
      "중복이 없는 개수:  95190\n"
     ]
    },
    {
     "data": {
      "text/html": [
       "<div>\n",
       "<style scoped>\n",
       "    .dataframe tbody tr th:only-of-type {\n",
       "        vertical-align: middle;\n",
       "    }\n",
       "\n",
       "    .dataframe tbody tr th {\n",
       "        vertical-align: top;\n",
       "    }\n",
       "\n",
       "    .dataframe thead th {\n",
       "        text-align: right;\n",
       "    }\n",
       "</style>\n",
       "<table border=\"1\" class=\"dataframe\">\n",
       "  <thead>\n",
       "    <tr style=\"text-align: right;\">\n",
       "      <th></th>\n",
       "      <th>product_id</th>\n",
       "      <th>product_name</th>\n",
       "      <th>product_option</th>\n",
       "      <th>user_id</th>\n",
       "      <th>user_buyer</th>\n",
       "      <th>is_secret</th>\n",
       "      <th>label</th>\n",
       "      <th>question</th>\n",
       "      <th>question_time</th>\n",
       "      <th>answer</th>\n",
       "      <th>answer_time</th>\n",
       "    </tr>\n",
       "  </thead>\n",
       "  <tbody>\n",
       "    <tr>\n",
       "      <th>0</th>\n",
       "      <td>388715</td>\n",
       "      <td>순수원목 A사이드테이블 3colors</td>\n",
       "      <td>A사이드테이블 / 우드</td>\n",
       "      <td>3077236</td>\n",
       "      <td>True</td>\n",
       "      <td>False</td>\n",
       "      <td>환불</td>\n",
       "      <td>상부 연결 목재 중 하나가 나사산이 덜 파져 있네요;; 조립하다 목재가 갈라져버립니...</td>\n",
       "      <td>2021-03-18T16:52:34.000+09:00</td>\n",
       "      <td>안녕하세요 고객님 먼데이하우스입니다.\\r\\n불편을 드려 죄송합니다.\\r\\n유선상 연...</td>\n",
       "      <td>2021-03-18T18:19:46.000+09:00</td>\n",
       "    </tr>\n",
       "  </tbody>\n",
       "</table>\n",
       "</div>"
      ],
      "text/plain": [
       "   product_id          product_name product_option  user_id  user_buyer  \\\n",
       "0      388715  순수원목 A사이드테이블 3colors   A사이드테이블 / 우드  3077236        True   \n",
       "\n",
       "   is_secret label                                           question  \\\n",
       "0      False    환불  상부 연결 목재 중 하나가 나사산이 덜 파져 있네요;; 조립하다 목재가 갈라져버립니...   \n",
       "\n",
       "                   question_time  \\\n",
       "0  2021-03-18T16:52:34.000+09:00   \n",
       "\n",
       "                                              answer  \\\n",
       "0  안녕하세요 고객님 먼데이하우스입니다.\\r\\n불편을 드려 죄송합니다.\\r\\n유선상 연...   \n",
       "\n",
       "                     answer_time  \n",
       "0  2021-03-18T18:19:46.000+09:00  "
      ]
     },
     "execution_count": 6,
     "metadata": {},
     "output_type": "execute_result"
    }
   ],
   "source": [
    "print('질문 unique:', len(df_remove_['question'].unique()))\n",
    "print('답변 unique:', len(df_remove_['answer'].unique()))\n",
    "\n",
    "# 중복 제거\n",
    "tmp_drop = df_remove_.drop_duplicates(['question','answer'], keep = 'first')\n",
    "tmp_drop.reset_index(inplace=True, drop=True)\n",
    "\n",
    "# 개수 확인하기\n",
    "count = tmp_drop[['question','answer']].value_counts()\n",
    "print('전체 개수: ', tmp_drop.shape)\n",
    "print('중복이 없는 개수: ', len(count[count.values==1]))\n",
    "tmp_drop[:1]"
   ]
  },
  {
   "cell_type": "markdown",
   "metadata": {
    "id": "bLxn_kX95GvE"
   },
   "source": [
    "## 전처리\n",
    "\n",
    "* 한글&숫자만 남기고 제거\n",
    "* hanspell 맞춤법 검사 진행"
   ]
  },
  {
   "cell_type": "code",
   "execution_count": 7,
   "metadata": {
    "id": "8SKiQs8kIhXJ"
   },
   "outputs": [],
   "source": [
    "df = tmp_drop\n",
    "\n",
    "que = df['question'].to_numpy()\n",
    "ans = df['answer'].to_numpy()"
   ]
  },
  {
   "cell_type": "markdown",
   "metadata": {
    "id": "hiboqfwi5nCp"
   },
   "source": [
    "### 한글&숫자만 남기고 제거"
   ]
  },
  {
   "cell_type": "code",
   "execution_count": 8,
   "metadata": {
    "id": "BislLWUm5onn"
   },
   "outputs": [],
   "source": [
    "def text_cleaning(texts): # 수정완료\n",
    "    # 한국어를 제외한 글자를 제거하는 패턴.\n",
    "    corpus = []\n",
    "    for i in range(0, len(texts)):\n",
    "        sentences = re.sub(\"[\\{\\}\\[\\]\\/?.,;:|\\)*~`!^\\-_+<>@\\#$%&\\\\\\=\\(\\'\\\"]\", \" \", str(texts[i])) #특수문자를 제거하는 패턴\n",
    "        sentences = re.sub(\"[^ㄱ-ㅎㅏ-ㅣ가-힣 |0-9|]\", \" \", sentences)\n",
    "        sentences = re.compile('[|ㄱ-ㅎ|ㅏ-ㅣ]+').sub(' ', sentences) # 자음, 모음만 있는 경우\n",
    "\n",
    "        sentences = re.sub(r\"^\\s+\", '', sentences) #remove space from start\n",
    "        sentences = re.sub(r'\\s+$', '', sentences) #remove space from the end\n",
    "\n",
    "        sentences = re.sub(r'\\s+', ' ', sentences) #remove extra space\n",
    "\n",
    "        corpus.append(sentences)\n",
    "    \n",
    "    return corpus"
   ]
  },
  {
   "cell_type": "code",
   "execution_count": 9,
   "metadata": {
    "id": "Le5xN_Wy5rps"
   },
   "outputs": [
    {
     "name": "stdout",
     "output_type": "stream",
     "text": [
      "95190 95190\n"
     ]
    }
   ],
   "source": [
    "pre_que = text_cleaning(que)\n",
    "pre_ans = text_cleaning(ans)\n",
    "\n",
    "# df에 업데이트\n",
    "df['question_clean'] = pre_que\n",
    "df['answer_clean'] = pre_ans\n",
    "\n",
    "print(len(pre_que), len(pre_ans))"
   ]
  },
  {
   "cell_type": "markdown",
   "metadata": {
    "id": "JR8gMkX-JGI7"
   },
   "source": [
    "### hanspell 맞춤법"
   ]
  },
  {
   "cell_type": "code",
   "execution_count": null,
   "metadata": {
    "colab": {
     "base_uri": "https://localhost:8080/",
     "height": 562,
     "referenced_widgets": [
      "2171d6b0310a47698ff84fea38a88a56",
      "152041f6bb8f401c89e372975a583af6",
      "4f0e9c7364d3477fbd529a8c323b13d9",
      "da41322a6b0d4b66a225e90409f9cb23",
      "e01441996d7342bcb49880b9a50d28e2",
      "62c38ddc830b4257a0907a1ad0e717fd",
      "7c43ad5ba40d465fa4d641cc2e52283d",
      "8c1670cb51d147089e806cc22acd6e60"
     ]
    },
    "executionInfo": {
     "elapsed": 4340,
     "status": "error",
     "timestamp": 1614876210594,
     "user": {
      "displayName": "이정은",
      "photoUrl": "",
      "userId": "04796680705640849664"
     },
     "user_tz": -540
    },
    "id": "pbVuCe6cH4zV",
    "outputId": "dc3c404a-59b2-41dc-c365-0dd4415e3922",
    "scrolled": true
   },
   "outputs": [],
   "source": [
    "# que\n",
    "def hanspell_(texts):\n",
    "    spell_check = []\n",
    "    for line in tqdm(texts):\n",
    "        spell = spell_checker.check(line).checked\n",
    "        spell_check.append(spell)\n",
    "    return spell_check\n",
    "\n",
    "spell_check_question = hanspell_(pre_que)"
   ]
  },
  {
   "cell_type": "code",
   "execution_count": null,
   "metadata": {
    "scrolled": true
   },
   "outputs": [],
   "source": [
    "# 확인\n",
    "print(spell_check_question[:5])\n",
    "\n",
    "# df에 업데이트\n",
    "df['question_spellcheck'] = spell_check_question"
   ]
  },
  {
   "cell_type": "code",
   "execution_count": null,
   "metadata": {
    "scrolled": true
   },
   "outputs": [],
   "source": [
    "# ans\n",
    "def hanspell_(texts):\n",
    "    spell_check = []\n",
    "    for line in tqdm(texts):\n",
    "        spell = spell_checker.check(line).checked\n",
    "        spell_check.append(spell)\n",
    "    return spell_check\n",
    "\n",
    "spell_check_answer = hanspell_(pre_ans)"
   ]
  },
  {
   "cell_type": "code",
   "execution_count": null,
   "metadata": {
    "scrolled": true
   },
   "outputs": [],
   "source": [
    "# 확인\n",
    "print(spell_check_answer[:5])\n",
    "\n",
    "# df에 업데이트\n",
    "df['answer_spellcheck'] = spell_check_answer"
   ]
  },
  {
   "cell_type": "markdown",
   "metadata": {},
   "source": [
    "## 내보내기"
   ]
  },
  {
   "cell_type": "code",
   "execution_count": null,
   "metadata": {
    "id": "C6a3EwUj4Rrz",
    "scrolled": true
   },
   "outputs": [],
   "source": [
    "df.to_csv(save_path+'qna_table_hanspell.csv', index=False)"
   ]
  }
 ],
 "metadata": {
  "colab": {
   "collapsed_sections": [
    "r-RkPJep1xST"
   ],
   "name": "Preprocessing_QA_Final_eun(answer).ipynb",
   "provenance": []
  },
  "kernelspec": {
   "display_name": "Python 3",
   "language": "python",
   "name": "python3"
  },
  "language_info": {
   "codemirror_mode": {
    "name": "ipython",
    "version": 3
   },
   "file_extension": ".py",
   "mimetype": "text/x-python",
   "name": "python",
   "nbconvert_exporter": "python",
   "pygments_lexer": "ipython3",
   "version": "3.8.5"
  },
  "widgets": {
   "application/vnd.jupyter.widget-state+json": {
    "0a3bd03233064cee8cc63198df8b6dd0": {
     "model_module": "@jupyter-widgets/base",
     "model_name": "LayoutModel",
     "state": {
      "_model_module": "@jupyter-widgets/base",
      "_model_module_version": "1.2.0",
      "_model_name": "LayoutModel",
      "_view_count": null,
      "_view_module": "@jupyter-widgets/base",
      "_view_module_version": "1.2.0",
      "_view_name": "LayoutView",
      "align_content": null,
      "align_items": null,
      "align_self": null,
      "border": null,
      "bottom": null,
      "display": null,
      "flex": null,
      "flex_flow": null,
      "grid_area": null,
      "grid_auto_columns": null,
      "grid_auto_flow": null,
      "grid_auto_rows": null,
      "grid_column": null,
      "grid_gap": null,
      "grid_row": null,
      "grid_template_areas": null,
      "grid_template_columns": null,
      "grid_template_rows": null,
      "height": null,
      "justify_content": null,
      "justify_items": null,
      "left": null,
      "margin": null,
      "max_height": null,
      "max_width": null,
      "min_height": null,
      "min_width": null,
      "object_fit": null,
      "object_position": null,
      "order": null,
      "overflow": null,
      "overflow_x": null,
      "overflow_y": null,
      "padding": null,
      "right": null,
      "top": null,
      "visibility": null,
      "width": null
     }
    },
    "0f33cad85d28479588aed1b8f9f51dfc": {
     "model_module": "@jupyter-widgets/controls",
     "model_name": "ProgressStyleModel",
     "state": {
      "_model_module": "@jupyter-widgets/controls",
      "_model_module_version": "1.5.0",
      "_model_name": "ProgressStyleModel",
      "_view_count": null,
      "_view_module": "@jupyter-widgets/base",
      "_view_module_version": "1.2.0",
      "_view_name": "StyleView",
      "bar_color": null,
      "description_width": "initial"
     }
    },
    "152041f6bb8f401c89e372975a583af6": {
     "model_module": "@jupyter-widgets/base",
     "model_name": "LayoutModel",
     "state": {
      "_model_module": "@jupyter-widgets/base",
      "_model_module_version": "1.2.0",
      "_model_name": "LayoutModel",
      "_view_count": null,
      "_view_module": "@jupyter-widgets/base",
      "_view_module_version": "1.2.0",
      "_view_name": "LayoutView",
      "align_content": null,
      "align_items": null,
      "align_self": null,
      "border": null,
      "bottom": null,
      "display": null,
      "flex": null,
      "flex_flow": null,
      "grid_area": null,
      "grid_auto_columns": null,
      "grid_auto_flow": null,
      "grid_auto_rows": null,
      "grid_column": null,
      "grid_gap": null,
      "grid_row": null,
      "grid_template_areas": null,
      "grid_template_columns": null,
      "grid_template_rows": null,
      "height": null,
      "justify_content": null,
      "justify_items": null,
      "left": null,
      "margin": null,
      "max_height": null,
      "max_width": null,
      "min_height": null,
      "min_width": null,
      "object_fit": null,
      "object_position": null,
      "order": null,
      "overflow": null,
      "overflow_x": null,
      "overflow_y": null,
      "padding": null,
      "right": null,
      "top": null,
      "visibility": null,
      "width": null
     }
    },
    "2171d6b0310a47698ff84fea38a88a56": {
     "model_module": "@jupyter-widgets/controls",
     "model_name": "HBoxModel",
     "state": {
      "_dom_classes": [],
      "_model_module": "@jupyter-widgets/controls",
      "_model_module_version": "1.5.0",
      "_model_name": "HBoxModel",
      "_view_count": null,
      "_view_module": "@jupyter-widgets/controls",
      "_view_module_version": "1.5.0",
      "_view_name": "HBoxView",
      "box_style": "",
      "children": [
       "IPY_MODEL_4f0e9c7364d3477fbd529a8c323b13d9",
       "IPY_MODEL_da41322a6b0d4b66a225e90409f9cb23"
      ],
      "layout": "IPY_MODEL_152041f6bb8f401c89e372975a583af6"
     }
    },
    "299da69008b54af0ab62553044e0befb": {
     "model_module": "@jupyter-widgets/controls",
     "model_name": "FloatProgressModel",
     "state": {
      "_dom_classes": [],
      "_model_module": "@jupyter-widgets/controls",
      "_model_module_version": "1.5.0",
      "_model_name": "FloatProgressModel",
      "_view_count": null,
      "_view_module": "@jupyter-widgets/controls",
      "_view_module_version": "1.5.0",
      "_view_name": "ProgressView",
      "bar_style": "danger",
      "description": " 32%",
      "description_tooltip": null,
      "layout": "IPY_MODEL_3161509d6c134353a5ba21e6a4eff31b",
      "max": 95305,
      "min": 0,
      "orientation": "horizontal",
      "style": "IPY_MODEL_64eb7f522e4a410fa0994857671b82b1",
      "value": 30494
     }
    },
    "3161509d6c134353a5ba21e6a4eff31b": {
     "model_module": "@jupyter-widgets/base",
     "model_name": "LayoutModel",
     "state": {
      "_model_module": "@jupyter-widgets/base",
      "_model_module_version": "1.2.0",
      "_model_name": "LayoutModel",
      "_view_count": null,
      "_view_module": "@jupyter-widgets/base",
      "_view_module_version": "1.2.0",
      "_view_name": "LayoutView",
      "align_content": null,
      "align_items": null,
      "align_self": null,
      "border": null,
      "bottom": null,
      "display": null,
      "flex": null,
      "flex_flow": null,
      "grid_area": null,
      "grid_auto_columns": null,
      "grid_auto_flow": null,
      "grid_auto_rows": null,
      "grid_column": null,
      "grid_gap": null,
      "grid_row": null,
      "grid_template_areas": null,
      "grid_template_columns": null,
      "grid_template_rows": null,
      "height": null,
      "justify_content": null,
      "justify_items": null,
      "left": null,
      "margin": null,
      "max_height": null,
      "max_width": null,
      "min_height": null,
      "min_width": null,
      "object_fit": null,
      "object_position": null,
      "order": null,
      "overflow": null,
      "overflow_x": null,
      "overflow_y": null,
      "padding": null,
      "right": null,
      "top": null,
      "visibility": null,
      "width": null
     }
    },
    "4752c4fd982b4f52a7c896f27dc1a6b2": {
     "model_module": "@jupyter-widgets/base",
     "model_name": "LayoutModel",
     "state": {
      "_model_module": "@jupyter-widgets/base",
      "_model_module_version": "1.2.0",
      "_model_name": "LayoutModel",
      "_view_count": null,
      "_view_module": "@jupyter-widgets/base",
      "_view_module_version": "1.2.0",
      "_view_name": "LayoutView",
      "align_content": null,
      "align_items": null,
      "align_self": null,
      "border": null,
      "bottom": null,
      "display": null,
      "flex": null,
      "flex_flow": null,
      "grid_area": null,
      "grid_auto_columns": null,
      "grid_auto_flow": null,
      "grid_auto_rows": null,
      "grid_column": null,
      "grid_gap": null,
      "grid_row": null,
      "grid_template_areas": null,
      "grid_template_columns": null,
      "grid_template_rows": null,
      "height": null,
      "justify_content": null,
      "justify_items": null,
      "left": null,
      "margin": null,
      "max_height": null,
      "max_width": null,
      "min_height": null,
      "min_width": null,
      "object_fit": null,
      "object_position": null,
      "order": null,
      "overflow": null,
      "overflow_x": null,
      "overflow_y": null,
      "padding": null,
      "right": null,
      "top": null,
      "visibility": null,
      "width": null
     }
    },
    "4d1d721165174594a152b66e734bd0ec": {
     "model_module": "@jupyter-widgets/base",
     "model_name": "LayoutModel",
     "state": {
      "_model_module": "@jupyter-widgets/base",
      "_model_module_version": "1.2.0",
      "_model_name": "LayoutModel",
      "_view_count": null,
      "_view_module": "@jupyter-widgets/base",
      "_view_module_version": "1.2.0",
      "_view_name": "LayoutView",
      "align_content": null,
      "align_items": null,
      "align_self": null,
      "border": null,
      "bottom": null,
      "display": null,
      "flex": null,
      "flex_flow": null,
      "grid_area": null,
      "grid_auto_columns": null,
      "grid_auto_flow": null,
      "grid_auto_rows": null,
      "grid_column": null,
      "grid_gap": null,
      "grid_row": null,
      "grid_template_areas": null,
      "grid_template_columns": null,
      "grid_template_rows": null,
      "height": null,
      "justify_content": null,
      "justify_items": null,
      "left": null,
      "margin": null,
      "max_height": null,
      "max_width": null,
      "min_height": null,
      "min_width": null,
      "object_fit": null,
      "object_position": null,
      "order": null,
      "overflow": null,
      "overflow_x": null,
      "overflow_y": null,
      "padding": null,
      "right": null,
      "top": null,
      "visibility": null,
      "width": null
     }
    },
    "4f0e9c7364d3477fbd529a8c323b13d9": {
     "model_module": "@jupyter-widgets/controls",
     "model_name": "FloatProgressModel",
     "state": {
      "_dom_classes": [],
      "_model_module": "@jupyter-widgets/controls",
      "_model_module_version": "1.5.0",
      "_model_name": "FloatProgressModel",
      "_view_count": null,
      "_view_module": "@jupyter-widgets/controls",
      "_view_module_version": "1.5.0",
      "_view_name": "ProgressView",
      "bar_style": "danger",
      "description": " 50%",
      "description_tooltip": null,
      "layout": "IPY_MODEL_62c38ddc830b4257a0907a1ad0e717fd",
      "max": 2,
      "min": 0,
      "orientation": "horizontal",
      "style": "IPY_MODEL_e01441996d7342bcb49880b9a50d28e2",
      "value": 1
     }
    },
    "5f80249aa35c4404b7308171a8660d2b": {
     "model_module": "@jupyter-widgets/controls",
     "model_name": "DescriptionStyleModel",
     "state": {
      "_model_module": "@jupyter-widgets/controls",
      "_model_module_version": "1.5.0",
      "_model_name": "DescriptionStyleModel",
      "_view_count": null,
      "_view_module": "@jupyter-widgets/base",
      "_view_module_version": "1.2.0",
      "_view_name": "StyleView",
      "description_width": ""
     }
    },
    "62c38ddc830b4257a0907a1ad0e717fd": {
     "model_module": "@jupyter-widgets/base",
     "model_name": "LayoutModel",
     "state": {
      "_model_module": "@jupyter-widgets/base",
      "_model_module_version": "1.2.0",
      "_model_name": "LayoutModel",
      "_view_count": null,
      "_view_module": "@jupyter-widgets/base",
      "_view_module_version": "1.2.0",
      "_view_name": "LayoutView",
      "align_content": null,
      "align_items": null,
      "align_self": null,
      "border": null,
      "bottom": null,
      "display": null,
      "flex": null,
      "flex_flow": null,
      "grid_area": null,
      "grid_auto_columns": null,
      "grid_auto_flow": null,
      "grid_auto_rows": null,
      "grid_column": null,
      "grid_gap": null,
      "grid_row": null,
      "grid_template_areas": null,
      "grid_template_columns": null,
      "grid_template_rows": null,
      "height": null,
      "justify_content": null,
      "justify_items": null,
      "left": null,
      "margin": null,
      "max_height": null,
      "max_width": null,
      "min_height": null,
      "min_width": null,
      "object_fit": null,
      "object_position": null,
      "order": null,
      "overflow": null,
      "overflow_x": null,
      "overflow_y": null,
      "padding": null,
      "right": null,
      "top": null,
      "visibility": null,
      "width": null
     }
    },
    "64eb7f522e4a410fa0994857671b82b1": {
     "model_module": "@jupyter-widgets/controls",
     "model_name": "ProgressStyleModel",
     "state": {
      "_model_module": "@jupyter-widgets/controls",
      "_model_module_version": "1.5.0",
      "_model_name": "ProgressStyleModel",
      "_view_count": null,
      "_view_module": "@jupyter-widgets/base",
      "_view_module_version": "1.2.0",
      "_view_name": "StyleView",
      "bar_color": null,
      "description_width": "initial"
     }
    },
    "66a470367cec4d86817ab28abc640c67": {
     "model_module": "@jupyter-widgets/controls",
     "model_name": "HTMLModel",
     "state": {
      "_dom_classes": [],
      "_model_module": "@jupyter-widgets/controls",
      "_model_module_version": "1.5.0",
      "_model_name": "HTMLModel",
      "_view_count": null,
      "_view_module": "@jupyter-widgets/controls",
      "_view_module_version": "1.5.0",
      "_view_name": "HTMLView",
      "description": "",
      "description_tooltip": null,
      "layout": "IPY_MODEL_0a3bd03233064cee8cc63198df8b6dd0",
      "placeholder": "​",
      "style": "IPY_MODEL_5f80249aa35c4404b7308171a8660d2b",
      "value": " 36063/95305 [1:52:25&lt;3:35:07,  4.59it/s]"
     }
    },
    "70eca32da1cc4cee95d248cb77119097": {
     "model_module": "@jupyter-widgets/base",
     "model_name": "LayoutModel",
     "state": {
      "_model_module": "@jupyter-widgets/base",
      "_model_module_version": "1.2.0",
      "_model_name": "LayoutModel",
      "_view_count": null,
      "_view_module": "@jupyter-widgets/base",
      "_view_module_version": "1.2.0",
      "_view_name": "LayoutView",
      "align_content": null,
      "align_items": null,
      "align_self": null,
      "border": null,
      "bottom": null,
      "display": null,
      "flex": null,
      "flex_flow": null,
      "grid_area": null,
      "grid_auto_columns": null,
      "grid_auto_flow": null,
      "grid_auto_rows": null,
      "grid_column": null,
      "grid_gap": null,
      "grid_row": null,
      "grid_template_areas": null,
      "grid_template_columns": null,
      "grid_template_rows": null,
      "height": null,
      "justify_content": null,
      "justify_items": null,
      "left": null,
      "margin": null,
      "max_height": null,
      "max_width": null,
      "min_height": null,
      "min_width": null,
      "object_fit": null,
      "object_position": null,
      "order": null,
      "overflow": null,
      "overflow_x": null,
      "overflow_y": null,
      "padding": null,
      "right": null,
      "top": null,
      "visibility": null,
      "width": null
     }
    },
    "7c43ad5ba40d465fa4d641cc2e52283d": {
     "model_module": "@jupyter-widgets/controls",
     "model_name": "DescriptionStyleModel",
     "state": {
      "_model_module": "@jupyter-widgets/controls",
      "_model_module_version": "1.5.0",
      "_model_name": "DescriptionStyleModel",
      "_view_count": null,
      "_view_module": "@jupyter-widgets/base",
      "_view_module_version": "1.2.0",
      "_view_name": "StyleView",
      "description_width": ""
     }
    },
    "8c1670cb51d147089e806cc22acd6e60": {
     "model_module": "@jupyter-widgets/base",
     "model_name": "LayoutModel",
     "state": {
      "_model_module": "@jupyter-widgets/base",
      "_model_module_version": "1.2.0",
      "_model_name": "LayoutModel",
      "_view_count": null,
      "_view_module": "@jupyter-widgets/base",
      "_view_module_version": "1.2.0",
      "_view_name": "LayoutView",
      "align_content": null,
      "align_items": null,
      "align_self": null,
      "border": null,
      "bottom": null,
      "display": null,
      "flex": null,
      "flex_flow": null,
      "grid_area": null,
      "grid_auto_columns": null,
      "grid_auto_flow": null,
      "grid_auto_rows": null,
      "grid_column": null,
      "grid_gap": null,
      "grid_row": null,
      "grid_template_areas": null,
      "grid_template_columns": null,
      "grid_template_rows": null,
      "height": null,
      "justify_content": null,
      "justify_items": null,
      "left": null,
      "margin": null,
      "max_height": null,
      "max_width": null,
      "min_height": null,
      "min_width": null,
      "object_fit": null,
      "object_position": null,
      "order": null,
      "overflow": null,
      "overflow_x": null,
      "overflow_y": null,
      "padding": null,
      "right": null,
      "top": null,
      "visibility": null,
      "width": null
     }
    },
    "9bb1d2589fee4e1d9e62b842be14202b": {
     "model_module": "@jupyter-widgets/controls",
     "model_name": "HBoxModel",
     "state": {
      "_dom_classes": [],
      "_model_module": "@jupyter-widgets/controls",
      "_model_module_version": "1.5.0",
      "_model_name": "HBoxModel",
      "_view_count": null,
      "_view_module": "@jupyter-widgets/controls",
      "_view_module_version": "1.5.0",
      "_view_name": "HBoxView",
      "box_style": "",
      "children": [
       "IPY_MODEL_f9963014d64d47739f1fb56ec94db9bc",
       "IPY_MODEL_66a470367cec4d86817ab28abc640c67"
      ],
      "layout": "IPY_MODEL_cefaa8ce590344578b45af6a452a4d9a"
     }
    },
    "ae16d2bdf2e74485b9e5fcae7ce38f4d": {
     "model_module": "@jupyter-widgets/controls",
     "model_name": "DescriptionStyleModel",
     "state": {
      "_model_module": "@jupyter-widgets/controls",
      "_model_module_version": "1.5.0",
      "_model_name": "DescriptionStyleModel",
      "_view_count": null,
      "_view_module": "@jupyter-widgets/base",
      "_view_module_version": "1.2.0",
      "_view_name": "StyleView",
      "description_width": ""
     }
    },
    "cefaa8ce590344578b45af6a452a4d9a": {
     "model_module": "@jupyter-widgets/base",
     "model_name": "LayoutModel",
     "state": {
      "_model_module": "@jupyter-widgets/base",
      "_model_module_version": "1.2.0",
      "_model_name": "LayoutModel",
      "_view_count": null,
      "_view_module": "@jupyter-widgets/base",
      "_view_module_version": "1.2.0",
      "_view_name": "LayoutView",
      "align_content": null,
      "align_items": null,
      "align_self": null,
      "border": null,
      "bottom": null,
      "display": null,
      "flex": null,
      "flex_flow": null,
      "grid_area": null,
      "grid_auto_columns": null,
      "grid_auto_flow": null,
      "grid_auto_rows": null,
      "grid_column": null,
      "grid_gap": null,
      "grid_row": null,
      "grid_template_areas": null,
      "grid_template_columns": null,
      "grid_template_rows": null,
      "height": null,
      "justify_content": null,
      "justify_items": null,
      "left": null,
      "margin": null,
      "max_height": null,
      "max_width": null,
      "min_height": null,
      "min_width": null,
      "object_fit": null,
      "object_position": null,
      "order": null,
      "overflow": null,
      "overflow_x": null,
      "overflow_y": null,
      "padding": null,
      "right": null,
      "top": null,
      "visibility": null,
      "width": null
     }
    },
    "d605366eea034d64878fef4d2f5404e3": {
     "model_module": "@jupyter-widgets/controls",
     "model_name": "HBoxModel",
     "state": {
      "_dom_classes": [],
      "_model_module": "@jupyter-widgets/controls",
      "_model_module_version": "1.5.0",
      "_model_name": "HBoxModel",
      "_view_count": null,
      "_view_module": "@jupyter-widgets/controls",
      "_view_module_version": "1.5.0",
      "_view_name": "HBoxView",
      "box_style": "",
      "children": [
       "IPY_MODEL_299da69008b54af0ab62553044e0befb",
       "IPY_MODEL_e31dc0025c714b308ce37f4ab976080f"
      ],
      "layout": "IPY_MODEL_4752c4fd982b4f52a7c896f27dc1a6b2"
     }
    },
    "da41322a6b0d4b66a225e90409f9cb23": {
     "model_module": "@jupyter-widgets/controls",
     "model_name": "HTMLModel",
     "state": {
      "_dom_classes": [],
      "_model_module": "@jupyter-widgets/controls",
      "_model_module_version": "1.5.0",
      "_model_name": "HTMLModel",
      "_view_count": null,
      "_view_module": "@jupyter-widgets/controls",
      "_view_module_version": "1.5.0",
      "_view_name": "HTMLView",
      "description": "",
      "description_tooltip": null,
      "layout": "IPY_MODEL_8c1670cb51d147089e806cc22acd6e60",
      "placeholder": "​",
      "style": "IPY_MODEL_7c43ad5ba40d465fa4d641cc2e52283d",
      "value": " 1/2 [00:03&lt;00:01,  1.02s/it]"
     }
    },
    "e01441996d7342bcb49880b9a50d28e2": {
     "model_module": "@jupyter-widgets/controls",
     "model_name": "ProgressStyleModel",
     "state": {
      "_model_module": "@jupyter-widgets/controls",
      "_model_module_version": "1.5.0",
      "_model_name": "ProgressStyleModel",
      "_view_count": null,
      "_view_module": "@jupyter-widgets/base",
      "_view_module_version": "1.2.0",
      "_view_name": "StyleView",
      "bar_color": null,
      "description_width": "initial"
     }
    },
    "e31dc0025c714b308ce37f4ab976080f": {
     "model_module": "@jupyter-widgets/controls",
     "model_name": "HTMLModel",
     "state": {
      "_dom_classes": [],
      "_model_module": "@jupyter-widgets/controls",
      "_model_module_version": "1.5.0",
      "_model_name": "HTMLModel",
      "_view_count": null,
      "_view_module": "@jupyter-widgets/controls",
      "_view_module_version": "1.5.0",
      "_view_name": "HTMLView",
      "description": "",
      "description_tooltip": null,
      "layout": "IPY_MODEL_4d1d721165174594a152b66e734bd0ec",
      "placeholder": "​",
      "style": "IPY_MODEL_ae16d2bdf2e74485b9e5fcae7ce38f4d",
      "value": " 30494/95305 [2:22:01&lt;7:33:22,  2.38it/s]"
     }
    },
    "f9963014d64d47739f1fb56ec94db9bc": {
     "model_module": "@jupyter-widgets/controls",
     "model_name": "FloatProgressModel",
     "state": {
      "_dom_classes": [],
      "_model_module": "@jupyter-widgets/controls",
      "_model_module_version": "1.5.0",
      "_model_name": "FloatProgressModel",
      "_view_count": null,
      "_view_module": "@jupyter-widgets/controls",
      "_view_module_version": "1.5.0",
      "_view_name": "ProgressView",
      "bar_style": "danger",
      "description": " 38%",
      "description_tooltip": null,
      "layout": "IPY_MODEL_70eca32da1cc4cee95d248cb77119097",
      "max": 95305,
      "min": 0,
      "orientation": "horizontal",
      "style": "IPY_MODEL_0f33cad85d28479588aed1b8f9f51dfc",
      "value": 36063
     }
    }
   }
  }
 },
 "nbformat": 4,
 "nbformat_minor": 1
}
